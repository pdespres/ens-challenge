{
 "cells": [
  {
   "cell_type": "code",
   "execution_count": 8,
   "metadata": {},
   "outputs": [
    {
     "name": "stdout",
     "output_type": "stream",
     "text": [
      "Datas loaded\n",
      "(26500, 18124)\n"
     ]
    }
   ],
   "source": [
    "import pandas as pd\n",
    "import numpy as np\n",
    "\n",
    "def loadData():\n",
    "    #df = pd.read_csv('/sgoinfre/goinfre/Perso/pdespres/ensdata/train_redux.csv')\n",
    "    df = pd.read_csv('E:\\\\Downloads\\\\train_redux.csv')\n",
    "    print(\"Datas loaded\")\n",
    "    return df\n",
    "\n",
    "df = loadData()\n",
    "print(df.shape)"
   ]
  },
  {
   "cell_type": "code",
   "execution_count": 12,
   "metadata": {},
   "outputs": [
    {
     "name": "stdout",
     "output_type": "stream",
     "text": [
      "(26500, 2)\n"
     ]
    }
   ],
   "source": [
    "from sklearn.decomposition import PCA\n",
    "\n",
    "pca = PCA(n_components=2, svd_solver='auto', random_state=42)\n",
    "pca.fit(df)\n",
    "T = pca.transform(df)\n",
    "print(T.shape)"
   ]
  },
  {
   "cell_type": "code",
   "execution_count": 15,
   "metadata": {},
   "outputs": [],
   "source": [
    "#T.to_csv('/sgoinfre/goinfre/Perso/pdespres/ensdata/train_pca_1000.csv', index=False)\n",
    "test = pd.DataFrame(T)\n",
    "test.to_csv('E:\\\\Downloads\\\\train_pca_2.csv', index=False)"
   ]
  },
  {
   "cell_type": "code",
   "execution_count": 14,
   "metadata": {},
   "outputs": [
    {
     "name": "stdout",
     "output_type": "stream",
     "text": [
      "Out-of-bag score estimate: 0.548\n"
     ]
    }
   ],
   "source": [
    "from sklearn.ensemble import RandomForestClassifier\n",
    "\n",
    "y = pd.read_csv('E:\\\\Downloads\\\\y.csv', sep=';', usecols=[1])\n",
    "forest = RandomForestClassifier(n_estimators=200, oob_score=True, n_jobs=-1, min_samples_split=2, min_samples_leaf=1, random_state=42)\n",
    "forest.fit(test, y.values.ravel())\n",
    "print(f'Out-of-bag score estimate: {forest.oob_score_:.3}')"
   ]
  },
  {
   "cell_type": "code",
   "execution_count": null,
   "metadata": {
    "collapsed": true
   },
   "outputs": [],
   "source": []
  }
 ],
 "metadata": {
  "kernelspec": {
   "display_name": "Python 3",
   "language": "python",
   "name": "python3"
  },
  "language_info": {
   "codemirror_mode": {
    "name": "ipython",
    "version": 3
   },
   "file_extension": ".py",
   "mimetype": "text/x-python",
   "name": "python",
   "nbconvert_exporter": "python",
   "pygments_lexer": "ipython3",
   "version": "3.6.3"
  }
 },
 "nbformat": 4,
 "nbformat_minor": 2
}
