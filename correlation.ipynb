{
 "cells": [
  {
   "cell_type": "code",
   "execution_count": 3,
   "metadata": {},
   "outputs": [
    {
     "name": "stdout",
     "output_type": "stream",
     "text": [
      "Datas loaded\n",
      "(13250, 18124)\n"
     ]
    }
   ],
   "source": [
    "import pandas as pd\n",
    "import numpy as np\n",
    "\n",
    "def loadData():\n",
    "    #df = pd.read_csv('/sgoinfre/goinfre/Perso/pdespres/ensdata/train_redux.csv')\n",
    "    df = pd.read_csv('E:\\\\Downloads\\\\test_redux.csv')\n",
    "    print(\"Datas loaded\")\n",
    "    return df\n",
    "\n",
    "df = loadData()\n",
    "print(df.shape)"
   ]
  },
  {
   "cell_type": "code",
   "execution_count": 7,
   "metadata": {},
   "outputs": [
    {
     "name": "stdout",
     "output_type": "stream",
     "text": [
      "over\n"
     ]
    }
   ],
   "source": [
    "# Create correlation matrix\n",
    "#corr_matrix = df.corr().abs()\n",
    "corr_matrix = pd.read_csv('E:\\\\Downloads\\\\corr_matrix.csv')\n",
    "\n",
    "# Select upper triangle of correlation matrix\n",
    "upper = corr_matrix.where(np.triu(np.ones(corr_matrix.shape), k=1).astype(np.bool))\n",
    "\n",
    "# Find index of feature columns with correlation greater than 0.95\n",
    "for i in range(80,100):\n",
    "    to_drop = [column for column in upper.columns if any(upper[column] > (i/100))]\n",
    "    export = pd.DataFrame(to_drop)\n",
    "    name = 'E:\\\\Downloads\\\\drop_corr' + str(i) + '.csv'\n",
    "    export.to_csv(name , index=False)\n",
    "print('over')\n",
    "\n",
    "#corr_matrix.to_csv('E:\\\\Downloads\\\\corr_matrix.csv', index=False)"
   ]
  },
  {
   "cell_type": "code",
   "execution_count": 8,
   "metadata": {},
   "outputs": [
    {
     "name": "stdout",
     "output_type": "stream",
     "text": [
      "over\n"
     ]
    }
   ],
   "source": [
    "for i in range(80,100):\n",
    "    name = 'E:\\\\Downloads\\\\drop_corr' + str(i) + '.csv'\n",
    "    test = pd.read_csv(name, names=['a','b'])\n",
    "    test.drop(['b'], axis=1, inplace=True)\n",
    "    corr = test.drop(test.index[:1])\n",
    "    export = df.drop(corr['a'].tolist(), axis=1)\n",
    "    name = 'E:\\\\Downloads\\\\train_correlated_' + str(i) + '.csv'\n",
    "    export.to_csv(name, index=False)\n",
    "print('over')"
   ]
  },
  {
   "cell_type": "code",
   "execution_count": 4,
   "metadata": {},
   "outputs": [
    {
     "name": "stdout",
     "output_type": "stream",
     "text": [
      "(13250, 5248)\n"
     ]
    }
   ],
   "source": [
    "to_drop = pd.read_csv('E:\\\\Downloads\\\\train_concat3.csv', names=['a','b'])\n",
    "to_drop.drop(['b'], axis=1, inplace=True)\n",
    "test = to_drop.drop(to_drop.index[:1])\n",
    "df.drop(test['a'].tolist(), axis=1, inplace=True)\n",
    "print(df.shape)\n",
    "df.to_csv('E:\\\\Downloads\\\\test_concat_90_00001.csv', index=False)"
   ]
  },
  {
   "cell_type": "code",
   "execution_count": null,
   "metadata": {
    "collapsed": true
   },
   "outputs": [],
   "source": []
  }
 ],
 "metadata": {
  "kernelspec": {
   "display_name": "Python 3",
   "language": "python",
   "name": "python3"
  },
  "language_info": {
   "codemirror_mode": {
    "name": "ipython",
    "version": 3
   },
   "file_extension": ".py",
   "mimetype": "text/x-python",
   "name": "python",
   "nbconvert_exporter": "python",
   "pygments_lexer": "ipython3",
   "version": "3.6.3"
  }
 },
 "nbformat": 4,
 "nbformat_minor": 2
}
