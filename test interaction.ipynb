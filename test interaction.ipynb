{
 "cells": [
  {
   "cell_type": "code",
   "execution_count": 23,
   "metadata": {},
   "outputs": [
    {
     "name": "stdout",
     "output_type": "stream",
     "text": [
      "(26495, 18124) (26495, 1)\n"
     ]
    }
   ],
   "source": [
    "import pandas as pd\n",
    "import numpy as np\n",
    "from pathlib import Path\n",
    "\n",
    "data_folder = Path('/sgoinfre/goinfre/Perso/pdespres/data/')\n",
    "#data_folder = Path('E:/Downloads/')\n",
    "#data_folder = Path('C:/Users/Paul/Downloads/')\n",
    "#train2_irf_0000_corr98.csv\n",
    "df = pd.read_csv(data_folder/'train_redux2.csv', \\\n",
    "                 dtype='int8')\n",
    "y = pd.read_csv(data_folder/'y2.csv', \\\n",
    "                sep=';', usecols=[1], dtype='int8')\n",
    "\n",
    "print(df.shape, y.shape)"
   ]
  },
  {
   "cell_type": "code",
   "execution_count": 32,
   "metadata": {},
   "outputs": [
    {
     "data": {
      "text/plain": [
       "(26495, 54)"
      ]
     },
     "execution_count": 32,
     "metadata": {},
     "output_type": "execute_result"
    }
   ],
   "source": [
    "import pandas as pd\n",
    "import numpy as np\n",
    "from pathlib import Path\n",
    "\n",
    "data_folder = Path('/sgoinfre/goinfre/Perso/pdespres/data/')\n",
    "#data_folder = Path('E:/Downloads/')\n",
    "#data_folder = Path('C:/Users/Paul/Downloads/')\n",
    "\n",
    "df = pd.read_csv(data_folder/'train_redux2.csv', \\\n",
    "                 dtype='int8')\n",
    "snp_list = ['SNP_6292', 'SNP_8285', 'SNP_10188', 'SNP_11870', 'SNP_12565', 'SNP_13326']\n",
    "\n",
    "def f(row):\n",
    "    val = 0\n",
    "    if row['SNP_8927'] == i and row[snp] == j:\n",
    "        val = 2\n",
    "    return val\n",
    "\n",
    "test = df[snp_list].copy()\n",
    "test['SNP_8927'] = df.SNP_8927\n",
    "for snp in snp_list:\n",
    "    for i in range (0,3):\n",
    "        for j in range (0,3):\n",
    "            test['S8927-' + snp + '-' + (str(i) + str(j))] = test.apply(f, axis=1)\n",
    "test.drop(snp_list, axis=1, inplace=True)\n",
    "test.drop('SNP_8927', axis=1, inplace=True)\n",
    "test.to_csv(data_folder/'features_sup.csv', index=False)\n",
    "test.shape"
   ]
  },
  {
   "cell_type": "code",
   "execution_count": 37,
   "metadata": {},
   "outputs": [
    {
     "data": {
      "text/plain": [
       "(26495, 1565)"
      ]
     },
     "execution_count": 37,
     "metadata": {},
     "output_type": "execute_result"
    }
   ],
   "source": [
    "df = pd.read_csv(data_folder/'train2_irf_00010.csv', \\\n",
    "                 dtype='int8')\n",
    "new = pd.concat([df, test], axis=1)\n",
    "new.to_csv(data_folder/'train2sup_irf_00010.csv', index=False)\n",
    "new.shape"
   ]
  },
  {
   "cell_type": "code",
   "execution_count": 5,
   "metadata": {
    "scrolled": false
   },
   "outputs": [
    {
     "name": "stdout",
     "output_type": "stream",
     "text": [
      "SNP_8927    0  1  2\n",
      "SNP_10188          \n",
      "0          43  7  1\n",
      "1          33  3  0\n",
      "2          12  1  0\n",
      "SNP_8927   0  1  2\n",
      "TARGET            \n",
      "0         58  5  0\n",
      "1         30  6  1\n",
      "SNP_10188   0   1  2\n",
      "TARGET              \n",
      "0          34  23  6\n",
      "1          17  13  7\n",
      "SNP_8927    0         1        2\n",
      "SNP_10188   0   1  2  0  1  2  0\n",
      "TARGET                          \n",
      "0          30  22  6  4  1  0  0\n",
      "1          13  11  6  3  2  1  1\n",
      "SNP_10188   0         1     2   \n",
      "SNP_8927    0  1  2   0  1  0  1\n",
      "TARGET                          \n",
      "0          30  4  0  22  1  6  0\n",
      "1          13  3  1  11  2  6  1\n"
     ]
    }
   ],
   "source": [
    "#'6292_8927': 0.6,\n",
    "#'8285_8927': 0.76\n",
    "#'8927_10188': 0.72,\n",
    "# '8927_11870': 0.68,\n",
    "# '8927_12565': 0.52,\n",
    "# '8927_13326': 0.92\n",
    "decompte = np.zeros((3,3), dtype=int)\n",
    "#print(df['SNP_6292'].value_counts)\n",
    "m1 = pd.crosstab(index=df.SNP_10188, columns=df.SNP_8927)\n",
    "m2 = pd.crosstab(index=y.TARGET, columns=[df.SNP_8927, df.SNP_10188])\n",
    "m3 = pd.crosstab(index=y.TARGET, columns=[df.SNP_10188, df.SNP_8927])\n",
    "decompte[0,0] = 1\n",
    "print(m1)\n",
    "print(pd.crosstab(index=y.TARGET, columns=df.SNP_8927))\n",
    "print(pd.crosstab(index=y.TARGET, columns=df.SNP_10188))\n",
    "print(m2)\n",
    "print(m3)"
   ]
  }
 ],
 "metadata": {
  "kernelspec": {
   "display_name": "Python [default]",
   "language": "python",
   "name": "python3"
  },
  "language_info": {
   "codemirror_mode": {
    "name": "ipython",
    "version": 3
   },
   "file_extension": ".py",
   "mimetype": "text/x-python",
   "name": "python",
   "nbconvert_exporter": "python",
   "pygments_lexer": "ipython3",
   "version": "3.6.3"
  }
 },
 "nbformat": 4,
 "nbformat_minor": 2
}
