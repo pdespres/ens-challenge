{
 "cells": [
  {
   "cell_type": "code",
   "execution_count": 2,
   "metadata": {
    "collapsed": true
   },
   "outputs": [],
   "source": [
    "#sample_leaf_options = [5,10,50,100,200,500]\n",
    "#for leaf_size in sample_leaf_options :\n",
    "#    model = RandomForestClassifier(n_estimators= 20, oob_score = True, n_jobs = -1,random_state =42, min_samples_leaf = leaf_size)\n",
    "#    model.fit(df, y.values.ravel())\n",
    "#    print(f'Out-of-bag score estimate: {model.oob_score_:.3}')\n",
    "\n",
    "#redux features=18124 trees=200, min_samples_leaf=50 OOB 0.658\n",
    "#redux features=18124 trees=200, min_samples_leaf=1 OOB 0.661 20min 41s\n",
    "#redux features=18124 trees=200, min_samples_split=10 OOB 0.662 20min 41s\n",
    "#redux features=18124 trees=200, min_samples_split=50 OOB 0.666 18min 55s\n",
    "#redux features=18124 trees=200, min_samples_split=200 OOB 0.655 21min 36s\n",
    "#base features=18124 trees=200, min_samples_leaf=50 OOB 0.658 total: 11min 58s\n",
    "#base features=18124 trees=2000, min_samples_leaf=50 OOB 0.66 total: 1h 57min 19s\n",
    "#redux+modelreduction(0.8*mean) features=7185 trees=200, min_samples_leaf=50 OOB 0.665\n",
    "#redux+modelreduction(1*mean) features=5589 trees=200, min_samples_leaf=50 OOB 0.665\n",
    "#redux+modelreduction(1.2*mean) features=4345 trees=200, min_samples_leaf=50 OOB 0.669\n",
    "#redux+modelreduction(1.4*mean) features=3413 trees=200, min_samples_leaf=50 OOB 0.669\n",
    "#redux+modelreduction(1.6*mean) features=2614 trees=200, min_samples_leaf=50 OOB 0.67\n",
    "#redux+modelreduction(1.8*mean) features=2082 trees=200, min_samples_leaf=50 OOB 0.67\n",
    "#redux+modelreduction(2*mean) features=1685 trees=200, min_samples_leaf=50 OOB 0.672\n",
    "#redux+modelreduction(2.4*mean) features=1167 trees=200, min_samples_leaf=50 OOB 0.673\n",
    "#redux+modelreduction(2.4*mean) features=1167 trees=2000, min_samples_leaf=50 OOB 0.676 7min 30s\n",
    "#base+modelreduction(2.4*mean) features=940 trees=200, min_samples_leaf=50 OOB 0.672 37.1 s\n",
    "#base+modelreduction(2.4*mean) features=940 trees=200, min_samples_leaf=1 OOB 0.676 30.6 s\n",
    "#base+modelreduction(2.4*mean) features=940 trees=2000, min_samples_leaf=1 OOB 0.691 8min 48s\n",
    "#base+modelreduction(2.4*mean) features=940 trees=2000, min_samples_leaf=15 OOB 0.686 total: 6min 58s"
   ]
  },
  {
   "cell_type": "code",
   "execution_count": 2,
   "metadata": {},
   "outputs": [
    {
     "name": "stdout",
     "output_type": "stream",
     "text": [
      "Datas loaded\n",
      "(26490, 6279)\n"
     ]
    }
   ],
   "source": [
    "import pandas as pd\n",
    "import numpy as np\n",
    "from sklearn.ensemble import RandomForestClassifier\n",
    "import sklearn.metrics\n",
    "from sklearn.model_selection import train_test_split\n",
    "\n",
    "def loadData():\n",
    "    #df = pd.read_csv('/sgoinfre/goinfre/Perso/pdespres/ensdata/train_redux.csv')\n",
    "    #y = pd.read_csv('/sgoinfre/goinfre/Perso/pdespres/ensdata/y.csv', sep=';', usecols=[1])\n",
    "    df = pd.read_csv('E:\\\\Downloads\\\\train_concat2_95_00001.csv')\n",
    "    y = pd.read_csv('E:\\\\Downloads\\\\y2.csv', sep=';', usecols=[1])\n",
    "    print(\"Datas loaded\")\n",
    "    return df, y\n",
    "\n",
    "df, y = loadData()\n",
    "X_train, X_test, y_train, y_test = train_test_split(df, y.values.ravel(), test_size=.33)\n",
    "print(df.shape)"
   ]
  },
  {
   "cell_type": "code",
   "execution_count": 5,
   "metadata": {},
   "outputs": [
    {
     "name": "stdout",
     "output_type": "stream",
     "text": [
      "Wall time: 6.89 s\n",
      "ROC AUC: 0.75\n"
     ]
    }
   ],
   "source": [
    "from sklearn.metrics import roc_curve\n",
    "from sklearn.metrics import auc\n",
    "\n",
    "def buildforest(train, y):\n",
    "    forest = RandomForestClassifier(n_estimators=200, oob_score=False, n_jobs=-1, min_samples_split=2, min_samples_leaf=5, random_state=42)\n",
    "    forest.fit(train, y)\n",
    "    #print(f'Out-of-bag score estimate: {forest.oob_score_:.3}')\n",
    "    return forest\n",
    "\n",
    "%time forest = buildforest(X_train, y_train)\n",
    "prob_pos = forest.predict_proba(X_test)[:, 1]\n",
    "fpr, tpr, _ = roc_curve(y_test, prob_pos)\n",
    "roc_auc = auc(fpr, tpr)\n",
    "print('ROC AUC: %0.2f' % (roc_auc))"
   ]
  },
  {
   "cell_type": "code",
   "execution_count": 5,
   "metadata": {},
   "outputs": [
    {
     "name": "stdout",
     "output_type": "stream",
     "text": [
      "(26500, 601)\n",
      "(26500, 18124)\n"
     ]
    }
   ],
   "source": [
    "from sklearn.feature_selection import SelectFromModel\n",
    "\n",
    "model = SelectFromModel(forest, threshold=\"2.4*mean\", prefit=True)\n",
    "dfmin = model.transform(df)\n",
    "print(dfmin.shape)\n",
    "print(df.shape)"
   ]
  },
  {
   "cell_type": "code",
   "execution_count": 9,
   "metadata": {},
   "outputs": [
    {
     "name": "stdout",
     "output_type": "stream",
     "text": [
      "Out-of-bag score estimate: 0.683\n",
      "CPU times: user 29.8 s, sys: 1.69 s, total: 31.5 s\n",
      "Wall time: 27.7 s\n"
     ]
    }
   ],
   "source": [
    "%time newforest = buildforest(dfmin, y)"
   ]
  },
  {
   "cell_type": "code",
   "execution_count": 6,
   "metadata": {
    "collapsed": true
   },
   "outputs": [],
   "source": [
    "importances = forest.feature_importances_\n",
    "coltodrop = []\n",
    "#std = np.std([tree.feature_importances_ for tree in forest.estimators_], axis=0)\n",
    "indices = np.argsort(importances)[::]\n",
    "\n",
    "#np.savetxt(\"/sgoinfre/goinfre/Perso/pdespres/ensdata/features_importances_2000.csv\", indices, delimiter=\",\")\n",
    "#np.savetxt('E:\\\\Downloads\\\\features_importances_2000.csv', indices, delimiter=\",\")\n",
    "for f in range(18124):\n",
    "    coltodrop.append([indices[f],importances[indices[f]]])\n",
    "    #print(\"%d. feature %d (%f)\" % (f + 1, indices[f], importances[indices[f]]*1000))\n",
    "#df.drop(df.columns[coltodrop], axis=1, inplace=True)\n",
    "#df.shape"
   ]
  },
  {
   "cell_type": "code",
   "execution_count": 24,
   "metadata": {
    "collapsed": true
   },
   "outputs": [],
   "source": [
    "dfmin.to_csv('/sgoinfre/goinfre/Perso/pdespres/ensdata/train_importance100.csv', index=False)"
   ]
  },
  {
   "cell_type": "code",
   "execution_count": 18,
   "metadata": {
    "collapsed": true
   },
   "outputs": [],
   "source": [
    "np.savetxt('E:\\\\Downloads\\\\features_importances_2000.csv', importances, delimiter=\",\")"
   ]
  },
  {
   "cell_type": "code",
   "execution_count": 7,
   "metadata": {
    "collapsed": true
   },
   "outputs": [],
   "source": [
    "test = pd.DataFrame(coltodrop)\n",
    "test.to_csv('E:\\\\Downloads\\\\features_importances_2000.csv', index=False)"
   ]
  },
  {
   "cell_type": "code",
   "execution_count": 12,
   "metadata": {
    "collapsed": true
   },
   "outputs": [],
   "source": [
    "test = pd.read_csv('E:\\\\Downloads\\\\test.csv')"
   ]
  },
  {
   "cell_type": "code",
   "execution_count": null,
   "metadata": {
    "collapsed": true
   },
   "outputs": [],
   "source": [
    "submission = pd.DataFrame({ 'TARGET': probas_ })\n",
    "submission.to_csv(\"E:\\\\Downloads\\\\submission.csv\", sep=';', index=True, index_label='Ids')"
   ]
  },
  {
   "cell_type": "code",
   "execution_count": null,
   "metadata": {},
   "outputs": [],
   "source": [
    "from sklearn.ensemble import RandomForestClassifier\n",
    "from sklearn.linear_model import LogisticRegression\n",
    "from sklearn.svm import SVC\n",
    "from sklearn.metrics import roc_curve\n",
    "from sklearn.metrics import auc\n",
    "from sklearn.model_selection import StratifiedKFold\n",
    "from scipy import interp\n",
    "\n",
    "cv = StratifiedKFold(n_splits=3, random_state=42)\n",
    "#classifier = RandomForestClassifier(n_estimators=200, oob_score=True, n_jobs=-1, min_samples_split=2, min_samples_leaf=5, random_state=42)\n",
    "classifier = LogisticRegression(random_state=42)\n",
    "aucs = []\n",
    "tprs = []\n",
    "mean_fpr = np.linspace(0, 1, 100)\n",
    "\n",
    "for train_index, test_index in cv.split(df, y):\n",
    "    model = classifier.fit(df.iloc[train_index], y.iloc[train_index].values.ravel())\n",
    "    if hasattr(model, \"predict_proba\"):\n",
    "        probas_ = model.predict_proba(df.iloc[test_index])[:, 1]\n",
    "    else:  # use decision function\n",
    "        probas_ = model.decision_function(df.iloc[test_index])\n",
    "    fpr, tpr, thresholds = roc_curve(y.iloc[test_index], probas_)\n",
    "    tprs.append(interp(mean_fpr, fpr, tpr))\n",
    "    tprs[-1][0] = 0.0\n",
    "    roc_auc = auc(fpr, tpr)\n",
    "    aucs.append(roc_auc)\n",
    "\n",
    "mean_tpr = np.mean(tprs, axis=0)\n",
    "mean_tpr[-1] = 1.0\n",
    "mean_auc = auc(mean_fpr, mean_tpr)\n",
    "\n",
    "print('Mean ROC (AUC = %0.3f)' % (mean_auc))\n",
    "print(aucs)"
   ]
  },
  {
   "cell_type": "code",
   "execution_count": null,
   "metadata": {
    "collapsed": true
   },
   "outputs": [],
   "source": []
  }
 ],
 "metadata": {
  "kernelspec": {
   "display_name": "Python 3",
   "language": "python",
   "name": "python3"
  },
  "language_info": {
   "codemirror_mode": {
    "name": "ipython",
    "version": 3
   },
   "file_extension": ".py",
   "mimetype": "text/x-python",
   "name": "python",
   "nbconvert_exporter": "python",
   "pygments_lexer": "ipython3",
   "version": "3.6.3"
  }
 },
 "nbformat": 4,
 "nbformat_minor": 2
}
