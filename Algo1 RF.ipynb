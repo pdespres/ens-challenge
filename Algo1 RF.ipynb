{
 "cells": [
  {
   "cell_type": "code",
   "execution_count": 66,
   "metadata": {},
   "outputs": [
    {
     "name": "stdout",
     "output_type": "stream",
     "text": [
      "Datas loaded\n",
      "(26500, 6279)\n"
     ]
    }
   ],
   "source": [
    "import pandas as pd\n",
    "import numpy as np\n",
    "\n",
    "def loadData():\n",
    "    df = pd.read_csv('~/goinfre/data/train_concat_95_00001.csv')\n",
    "    y = pd.read_csv('~/Downloads/y.csv', sep=';', usecols=[1])\n",
    "    #df = pd.read_csv('E:\\\\Downloads\\\\train_concat_95_00001.csv')\n",
    "    #y = pd.read_csv('E:\\\\Downloads\\\\y2.csv', sep=';', usecols=[1])\n",
    "    print(\"Datas loaded\")\n",
    "    return df, y\n",
    "\n",
    "df, y = loadData()\n",
    "test = pd.read_csv('~/goinfre/data/test_concat_95_00001.csv')\n",
    "print(df.shape)"
   ]
  },
  {
   "cell_type": "code",
   "execution_count": 67,
   "metadata": {},
   "outputs": [
    {
     "name": "stdout",
     "output_type": "stream",
     "text": [
      "CPU times: user 2min 28s, sys: 1.62 s, total: 2min 29s\n",
      "Wall time: 47.9 s\n"
     ]
    }
   ],
   "source": [
    "from sklearn.metrics import roc_curve\n",
    "from sklearn.metrics import auc\n",
    "from sklearn.ensemble import RandomForestClassifier\n",
    "\n",
    "def buildforest(train, y):\n",
    "    forest = RandomForestClassifier(n_estimators=500, oob_score=False, n_jobs=-1, min_samples_split=2, min_samples_leaf=10, random_state=42)\n",
    "    forest.fit(train, y.values.ravel())\n",
    "    #print(f'Out-of-bag score estimate: {forest.oob_score_:.3}')\n",
    "    return forest\n",
    "\n",
    "%time forest = buildforest(df, y)\n",
    "prob_pos = forest.predict_proba(test)[:, 1]\n",
    "#fpr, tpr, _ = roc_curve(y_test, prob_pos)\n",
    "#roc_auc = auc(fpr, tpr)\n",
    "#print('ROC AUC: %0.3f' % (roc_auc))"
   ]
  },
  {
   "cell_type": "code",
   "execution_count": 83,
   "metadata": {},
   "outputs": [],
   "source": [
    "from sklearn.externals import joblib\n",
    "\n",
    "test = pd.DataFrame(columns={'Ids', 'TARGET'})\n",
    "test['Ids'] = [i for i in range(26500,39750)]\n",
    "test['TARGET'] = prob_pos\n",
    "test.to_csv(\"~/Downloads/submission.csv\", sep=';', index=False, header={'Ids', 'TARGET'})\n",
    "\n",
    "joblib.dump(forest, 'RF.pkl') "
   ]
  },
  {
   "cell_type": "code",
   "execution_count": 5,
   "metadata": {},
   "outputs": [
    {
     "name": "stdout",
     "output_type": "stream",
     "text": [
      "(26500, 601)\n",
      "(26500, 18124)\n"
     ]
    }
   ],
   "source": [
    "from sklearn.feature_selection import SelectFromModel\n",
    "\n",
    "model = SelectFromModel(forest, threshold=\"2.4*mean\", prefit=True)\n",
    "dfmin = model.transform(df)\n",
    "print(dfmin.shape)\n",
    "print(df.shape)\n",
    "dfmin.to_csv('/sgoinfre/goinfre/Perso/pdespres/ensdata/train_importance100.csv', index=False)"
   ]
  },
  {
   "cell_type": "code",
   "execution_count": 9,
   "metadata": {},
   "outputs": [
    {
     "name": "stdout",
     "output_type": "stream",
     "text": [
      "Out-of-bag score estimate: 0.683\n",
      "CPU times: user 29.8 s, sys: 1.69 s, total: 31.5 s\n",
      "Wall time: 27.7 s\n"
     ]
    }
   ],
   "source": [
    "%time newforest = buildforest(dfmin, y)"
   ]
  },
  {
   "cell_type": "code",
   "execution_count": 6,
   "metadata": {
    "collapsed": true
   },
   "outputs": [],
   "source": [
    "importances = forest.feature_importances_\n",
    "coltodrop = []\n",
    "#std = np.std([tree.feature_importances_ for tree in forest.estimators_], axis=0)\n",
    "indices = np.argsort(importances)[::]\n",
    "\n",
    "#np.savetxt(\"/sgoinfre/goinfre/Perso/pdespres/ensdata/features_importances_2000.csv\", indices, delimiter=\",\")\n",
    "#np.savetxt('E:\\\\Downloads\\\\features_importances_2000.csv', indices, delimiter=\",\")\n",
    "for f in range(18124):\n",
    "    coltodrop.append([indices[f],importances[indices[f]]])\n",
    "    #print(\"%d. feature %d (%f)\" % (f + 1, indices[f], importances[indices[f]]*1000))\n",
    "#df.drop(df.columns[coltodrop], axis=1, inplace=True)\n",
    "#df.shape\n",
    "\n",
    "test = pd.DataFrame(coltodrop)\n",
    "test.to_csv('E:\\\\Downloads\\\\features_importances_2000.csv', index=False)"
   ]
  },
  {
   "cell_type": "code",
   "execution_count": null,
   "metadata": {
    "collapsed": true
   },
   "outputs": [],
   "source": []
  }
 ],
 "metadata": {
  "kernelspec": {
   "display_name": "Python 3",
   "language": "python",
   "name": "python3"
  },
  "language_info": {
   "codemirror_mode": {
    "name": "ipython",
    "version": 3
   },
   "file_extension": ".py",
   "mimetype": "text/x-python",
   "name": "python",
   "nbconvert_exporter": "python",
   "pygments_lexer": "ipython3",
   "version": "3.6.3"
  }
 },
 "nbformat": 4,
 "nbformat_minor": 2
}
