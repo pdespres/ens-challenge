{
 "cells": [
  {
   "cell_type": "code",
   "execution_count": 2,
   "metadata": {},
   "outputs": [
    {
     "name": "stdout",
     "output_type": "stream",
     "text": [
      "Datas loaded\n",
      "(26495, 18124)\n"
     ]
    }
   ],
   "source": [
    "import pandas as pd\n",
    "import numpy as np\n",
    "from sklearn.ensemble import RandomForestClassifier\n",
    "import sklearn.metrics\n",
    "from sklearn.model_selection import train_test_split\n",
    "from irf import irf_utils\n",
    "\n",
    "def loadData():\n",
    "    #df = pd.read_csv('/sgoinfre/goinfre/Perso/pdespres/ensdata/train_redux.csv')\n",
    "    #y = pd.read_csv('/sgoinfre/goinfre/Perso/pdespres/ensdata/y.csv', sep=';', usecols=[1])\n",
    "    #df = pd.read_csv('~/Downloads/train_redux2.csv')\n",
    "    #y = pd.read_csv('~/Downloads/y2.csv', sep=';', usecols=[1])\n",
    "    df = pd.read_csv('E:\\\\Downloads\\\\train_redux2.csv')\n",
    "    y = pd.read_csv('E:\\\\Downloads\\\\y2.csv', sep=';', usecols=[1])\n",
    "    print(\"Datas loaded\")\n",
    "    return df, y\n",
    "\n",
    "df, y = loadData()\n",
    "X_train, X_test, y_train, y_test = train_test_split(df, y.values.ravel(), test_size=.25)\n",
    "print(df.shape)"
   ]
  },
  {
   "cell_type": "code",
   "execution_count": null,
   "metadata": {
    "collapsed": true
   },
   "outputs": [],
   "source": [
    "all_rf_weights, all_K_iter_rf_data, \\\n",
    "    all_rf_bootstrap_output, all_rit_bootstrap_output, \\\n",
    "    stability_score = irf_utils.run_iRF(X_train=X_train,\n",
    "                                        X_test=X_test,\n",
    "                                        y_train=y_train,\n",
    "                                        y_test=y_test,\n",
    "                                        K=5,                          # number of iteration\n",
    "                                        n_estimators=500,              # number of trees in the forest 500?\n",
    "                                        B=25, #30\n",
    "                                        random_state_classifier=42, # random seed\n",
    "                                        propn_n_samples=.25,\n",
    "                                        bin_class_type=1,\n",
    "                                        M=500,#500\n",
    "                                        max_depth=5,\n",
    "                                        noisy_split=False,\n",
    "                                        num_splits=2,\n",
    "                                        n_estimators_bootstrap=5)"
   ]
  },
  {
   "cell_type": "code",
   "execution_count": 23,
   "metadata": {},
   "outputs": [
    {
     "name": "stdout",
     "output_type": "stream",
     "text": [
      "SNP_8927\n"
     ]
    }
   ],
   "source": [
    "test = pd.DataFrame.from_dict(stability_score, orient=\"index\")\n",
    "#test.to_csv('~/Downloads/irf_corr.csv', index=False)\n",
    "#test.head\n",
    "print(df.columns[4064])"
   ]
  },
  {
   "cell_type": "code",
   "execution_count": 17,
   "metadata": {
    "scrolled": true
   },
   "outputs": [
    {
     "data": {
      "text/plain": [
       "{'1432_4064': 0.64,\n",
       " '1508_4064': 0.52,\n",
       " '3160_4064': 0.68,\n",
       " '3309_4064': 0.76,\n",
       " '3469_4064': 0.64,\n",
       " '3509_4064': 0.8,\n",
       " '3728_4064': 0.72,\n",
       " '4064': 1.0,\n",
       " '4064_4466': 0.76,\n",
       " '4064_4466_5408': 0.52,\n",
       " '4064_4713': 0.52,\n",
       " '4064_5408': 0.84,\n",
       " '4064_5408_5827': 0.76,\n",
       " '4064_5827': 0.68,\n",
       " '53_4064': 0.52,\n",
       " '5408': 0.64}"
      ]
     },
     "execution_count": 17,
     "metadata": {},
     "output_type": "execute_result"
    }
   ],
   "source": [
    "{ k: v for k, v in stability_score.items() if v >= 0.5 }"
   ]
  },
  {
   "cell_type": "code",
   "execution_count": null,
   "metadata": {
    "collapsed": true
   },
   "outputs": [],
   "source": []
  }
 ],
 "metadata": {
  "kernelspec": {
   "display_name": "Python 3",
   "language": "python",
   "name": "python3"
  },
  "language_info": {
   "codemirror_mode": {
    "name": "ipython",
    "version": 3
   },
   "file_extension": ".py",
   "mimetype": "text/x-python",
   "name": "python",
   "nbconvert_exporter": "python",
   "pygments_lexer": "ipython3",
   "version": "3.6.3"
  }
 },
 "nbformat": 4,
 "nbformat_minor": 2
}
