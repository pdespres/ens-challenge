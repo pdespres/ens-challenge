{
 "cells": [
  {
   "cell_type": "code",
   "execution_count": 1,
   "metadata": {},
   "outputs": [
    {
     "name": "stdout",
     "output_type": "stream",
     "text": [
      "Loaded\n",
      "Cast en uint8\n",
      "Added\n",
      "Wall time: 12min 33s\n",
      "(26500, 18124)\n",
      "   SNP_0  SNP_1  SNP_2  SNP_3  SNP_4  SNP_5  SNP_6  SNP_7  SNP_8  SNP_9  \\\n",
      "0      1      0      1      1      1      0      0      1      0      0   \n",
      "1      1      0      1      0      0      0      1      0      2      1   \n",
      "2      1      1      1      1      0      0      0      0      1      1   \n",
      "3      0      0      2      0      1      0      1      1      0      1   \n",
      "4      1      1      1      0      1      0      0      1      1      0   \n",
      "\n",
      "     ...      SNP_18114  SNP_18115  SNP_18116  SNP_18117  SNP_18118  \\\n",
      "0    ...              0          1          0          1          1   \n",
      "1    ...              0          0          0          1          2   \n",
      "2    ...              1          0          0          1          0   \n",
      "3    ...              0          0          0          1          0   \n",
      "4    ...              0          0          0          2          1   \n",
      "\n",
      "   SNP_18119  SNP_18120  SNP_18121  SNP_18122  SNP_18123  \n",
      "0          0          0          1          1          1  \n",
      "1          0          1          0          0          0  \n",
      "2          0          0          0          0          0  \n",
      "3          0          0          0          0          0  \n",
      "4          0          0          0          1          1  \n",
      "\n",
      "[5 rows x 18124 columns]\n"
     ]
    }
   ],
   "source": [
    "import pandas as pd\n",
    "import numpy as np\n",
    "\n",
    "def transformBase():\n",
    "    coltodrop = []\n",
    "    #df = pd.read_csv('/sgoinfre/goinfre/Perso/pdespres/ensdata/train.csv')\n",
    "    df = pd.read_csv('E:\\\\Downloads\\\\train.csv')\n",
    "    df.drop('Ids', axis=1, inplace=True)\n",
    "    print(\"Loaded\")\n",
    "    df.apply(pd.to_numeric,downcast='unsigned')\n",
    "    print(\"Cast en uint8\")\n",
    "    for i in range(0,36248,2):\n",
    "      df[df.columns[i]] += df[df.columns[i + 1]]# + 2\n",
    "      coltodrop.append(df.columns[i + 1])\n",
    "    print(\"Added\")\n",
    "    df.drop(coltodrop, axis=1, inplace=True)\n",
    "    df.rename(index=str, columns= lambda x: str(x)[:-2], inplace=True)\n",
    "    return df\n",
    "    \n",
    "%time df = transformBase()\n",
    "print(df.shape)\n",
    "print(df.head())"
   ]
  },
  {
   "cell_type": "code",
   "execution_count": 2,
   "metadata": {},
   "outputs": [
    {
     "name": "stdout",
     "output_type": "stream",
     "text": [
      "Wall time: 5min 29s\n"
     ]
    }
   ],
   "source": [
    "def saveBase(df):\n",
    "    #df.to_csv('/sgoinfre/goinfre/Perso/pdespres/ensdata/train_redux.csv', index=False)\n",
    "    df.to_csv('E:\\\\Downloads\\\\train_redux.csv', index=False)\n",
    "    \n",
    "%time saveBase(df)"
   ]
  },
  {
   "cell_type": "code",
   "execution_count": 3,
   "metadata": {},
   "outputs": [
    {
     "ename": "FileNotFoundError",
     "evalue": "[Errno 2] No such file or directory: '/sgoinfre/goinfre/Perso/pdespres/ensdata/train.csv'",
     "output_type": "error",
     "traceback": [
      "\u001b[1;31m---------------------------------------------------------------------------\u001b[0m",
      "\u001b[1;31mFileNotFoundError\u001b[0m                         Traceback (most recent call last)",
      "\u001b[1;32m<timed eval>\u001b[0m in \u001b[0;36m<module>\u001b[1;34m()\u001b[0m\n",
      "\u001b[1;32m<ipython-input-3-b0c6406b874f>\u001b[0m in \u001b[0;36mloadData\u001b[1;34m()\u001b[0m\n\u001b[0;32m      7\u001b[0m         \u001b[1;32mglobal\u001b[0m \u001b[0mtest\u001b[0m\u001b[1;33m\u001b[0m\u001b[0m\n\u001b[0;32m      8\u001b[0m \ttrain = np.loadtxt(\"/sgoinfre/goinfre/Perso/pdespres/ensdata/train.csv\", delimiter=',', skiprows=1,\n\u001b[1;32m----> 9\u001b[1;33m \t\t\t\t\t   usecols=range(1,36249), dtype='int8')\n\u001b[0m\u001b[0;32m     10\u001b[0m         \u001b[1;31m#label = np.loadtxt(\"train_label.csv\", delimiter=';',\u001b[0m\u001b[1;33m\u001b[0m\u001b[1;33m\u001b[0m\u001b[0m\n\u001b[0;32m     11\u001b[0m         \u001b[1;31m#                                  skiprows=1, usecols=(1), dtype='int8')\u001b[0m\u001b[1;33m\u001b[0m\u001b[1;33m\u001b[0m\u001b[0m\n",
      "\u001b[1;32m~\\Anaconda3\\lib\\site-packages\\numpy\\lib\\npyio.py\u001b[0m in \u001b[0;36mloadtxt\u001b[1;34m(fname, dtype, comments, delimiter, converters, skiprows, usecols, unpack, ndmin)\u001b[0m\n\u001b[0;32m    896\u001b[0m                 \u001b[0mfh\u001b[0m \u001b[1;33m=\u001b[0m \u001b[0miter\u001b[0m\u001b[1;33m(\u001b[0m\u001b[0mopen\u001b[0m\u001b[1;33m(\u001b[0m\u001b[0mfname\u001b[0m\u001b[1;33m,\u001b[0m \u001b[1;34m'U'\u001b[0m\u001b[1;33m)\u001b[0m\u001b[1;33m)\u001b[0m\u001b[1;33m\u001b[0m\u001b[0m\n\u001b[0;32m    897\u001b[0m             \u001b[1;32melse\u001b[0m\u001b[1;33m:\u001b[0m\u001b[1;33m\u001b[0m\u001b[0m\n\u001b[1;32m--> 898\u001b[1;33m                 \u001b[0mfh\u001b[0m \u001b[1;33m=\u001b[0m \u001b[0miter\u001b[0m\u001b[1;33m(\u001b[0m\u001b[0mopen\u001b[0m\u001b[1;33m(\u001b[0m\u001b[0mfname\u001b[0m\u001b[1;33m)\u001b[0m\u001b[1;33m)\u001b[0m\u001b[1;33m\u001b[0m\u001b[0m\n\u001b[0m\u001b[0;32m    899\u001b[0m         \u001b[1;32melse\u001b[0m\u001b[1;33m:\u001b[0m\u001b[1;33m\u001b[0m\u001b[0m\n\u001b[0;32m    900\u001b[0m             \u001b[0mfh\u001b[0m \u001b[1;33m=\u001b[0m \u001b[0miter\u001b[0m\u001b[1;33m(\u001b[0m\u001b[0mfname\u001b[0m\u001b[1;33m)\u001b[0m\u001b[1;33m\u001b[0m\u001b[0m\n",
      "\u001b[1;31mFileNotFoundError\u001b[0m: [Errno 2] No such file or directory: '/sgoinfre/goinfre/Perso/pdespres/ensdata/train.csv'"
     ]
    }
   ],
   "source": [
    "import numpy as np\n",
    "import h5py\n",
    "\n",
    "def loadData():\n",
    "\tglobal train\n",
    "\tglobal label\n",
    "\tglobal test\n",
    "\ttrain = np.loadtxt(\"/sgoinfre/goinfre/Perso/pdespres/ensdata/train.csv\", delimiter=',', skiprows=1,\n",
    "\t\t\t\t\t   usecols=range(1,36249), dtype='int8')\n",
    "\t#label = np.loadtxt(\"train_label.csv\", delimiter=';',\n",
    "\t#\t\t\t\t   skiprows=1, usecols=(1), dtype='int8')\n",
    "\t#test = np.loadtxt(\"test.csv\", delimiter=',', skiprows=1,\n",
    "\t#\t\t\t\t  usecols=range(1,36249), dtype='int8')\n",
    "\n",
    "def saveData():\n",
    "\t'''\n",
    "\tThis function writes all the data to an hdf5 file\n",
    "\t'''\n",
    "\t# write numpy arrary tensor into h5 format\n",
    "\th5f = h5py.File('/sgoinfre/goinfre/Perso/pdespres/ensdata/ENSdata.h5', 'w')\n",
    "\th5f.create_dataset('train', data=train)\n",
    "\th5f.close()\n",
    "\n",
    "def readData():\n",
    "\t'''\n",
    "\tThis function reads in the hdf5 file - it takes\n",
    "\taround 3s on average to run on a\n",
    "\tdual processor workstation\n",
    "\t'''\n",
    "\t# read h5 format back to numpy array\n",
    "\tglobal train\n",
    "\tglobal label\n",
    "\tglobal test\n",
    "\tglobal train_feature\n",
    "\tglobal test_feature\n",
    "\th5f = h5py.File('DNAdata.h5', 'r')\n",
    "\ttrain = h5f['train'][:]\n",
    "\tlabel = h5f['label'][:]\n",
    "\ttest = h5f['test'][:]\n",
    "\ttrain_feature = h5f['train_feature'][:]\n",
    "\ttest_feature = h5f['test_feature'][:]\n",
    "\th5f.close()\n",
    "\tprint(\"--- Data read in successfully ---\")\n",
    "    \n",
    "%time loadData()"
   ]
  },
  {
   "cell_type": "code",
   "execution_count": null,
   "metadata": {
    "collapsed": true
   },
   "outputs": [],
   "source": []
  }
 ],
 "metadata": {
  "kernelspec": {
   "display_name": "Python 3",
   "language": "python",
   "name": "python3"
  },
  "language_info": {
   "codemirror_mode": {
    "name": "ipython",
    "version": 3
   },
   "file_extension": ".py",
   "mimetype": "text/x-python",
   "name": "python",
   "nbconvert_exporter": "python",
   "pygments_lexer": "ipython3",
   "version": "3.6.3"
  }
 },
 "nbformat": 4,
 "nbformat_minor": 2
}
