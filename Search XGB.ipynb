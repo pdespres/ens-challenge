{
 "cells": [
  {
   "cell_type": "code",
   "execution_count": 22,
   "metadata": {},
   "outputs": [
    {
     "name": "stdout",
     "output_type": "stream",
     "text": [
      "(5000, 18124) (5000, 1)\n"
     ]
    }
   ],
   "source": [
    "import pandas as pd\n",
    "import numpy as np\n",
    "from pathlib import Path\n",
    "\n",
    "#data_folder = Path('/sgoinfre/goinfre/Perso/pdespres/data/')\n",
    "data_folder = Path('E:/Downloads/')\n",
    "#data_folder = Path('C:/Users/Paul/Downloads/')\n",
    "\n",
    "df = pd.read_csv(data_folder/'train_redux2.csv', \\\n",
    "                 dtype='int8', nrows=5000)\n",
    "y = pd.read_csv(data_folder/'y2.csv', \\\n",
    "                sep=';', usecols=[1], dtype='int8', nrows=5000)\n",
    "\n",
    "print(df.shape, y.shape)"
   ]
  },
  {
   "cell_type": "code",
   "execution_count": 23,
   "metadata": {
    "scrolled": false
   },
   "outputs": [
    {
     "name": "stdout",
     "output_type": "stream",
     "text": [
      "the AUC is : 0.6851\n",
      "0.685133943381\n",
      "the AUC is : 0.6805\n",
      "0.680516112851\n",
      "\n",
      "best:\n",
      "the AUC is : 0.7179\n",
      "{'alpha': 7.030579265435521e-05, 'colsample_bytree': 0.9500000000000001, 'eta': 0.05, 'eval_metric': 'auc', 'gamma': 0.6000000000000001, 'lambda': 3.0365664991660436e-05, 'max_depth': 3, 'min_child_weight': 6.0, 'n_estimators': 344, 'objective': 'binary:logistic', 'seed': 42, 'silent': 1, 'subsample': 0.6000000000000001}\n",
      "\n",
      "\n",
      "the AUC is : 0.6724\n",
      "0.672355211729\n",
      "the AUC is : 0.6796\n",
      "0.679625034464\n",
      "\n",
      "best:\n",
      "the AUC is : 0.6851\n",
      "{'alpha': 2.996882179886623e-05, 'colsample_bytree': 0.9500000000000001, 'eta': 0.2, 'eval_metric': 'auc', 'gamma': 0.65, 'lambda': 8.02820555507947e-05, 'max_depth': 8, 'min_child_weight': 4.0, 'n_estimators': 381, 'objective': 'binary:logistic', 'seed': 42, 'silent': 1, 'subsample': 0.65}\n",
      "\n",
      "\n",
      "the AUC is : 0.6979\n",
      "0.697858382393\n",
      "the AUC is : 0.6762\n",
      "0.676186769166\n",
      "\n",
      "best:\n",
      "the AUC is : 0.7080\n",
      "{'alpha': 3.5832552773581674e-06, 'colsample_bytree': 0.8500000000000001, 'eta': 0.125, 'eval_metric': 'auc', 'gamma': 0.9, 'lambda': 8.857044265831812e-05, 'max_depth': 4, 'min_child_weight': 5.0, 'n_estimators': 453, 'objective': 'binary:logistic', 'seed': 42, 'silent': 1, 'subsample': 0.8}\n",
      "\n",
      "\n",
      "the AUC is : 0.6786\n",
      "0.678639609414\n",
      "the AUC is : 0.6910\n",
      "0.690959162287\n",
      "\n",
      "best:\n",
      "the AUC is : 0.7185\n",
      "{'alpha': 4.777065586274173e-05, 'colsample_bytree': 0.8500000000000001, 'eta': 0.225, 'eval_metric': 'auc', 'gamma': 0.9, 'lambda': 6.178112747727519e-05, 'max_depth': 4, 'min_child_weight': 1.0, 'n_estimators': 196, 'objective': 'binary:logistic', 'seed': 42, 'silent': 1, 'subsample': 0.9}\n",
      "\n",
      "\n",
      "0.690889891015\n",
      "Wall time: 2h 6min 2s\n"
     ]
    }
   ],
   "source": [
    "%%time\n",
    "import xgboost as xgb\n",
    "from sklearn.model_selection import StratifiedShuffleSplit, StratifiedKFold, cross_val_score\n",
    "from sklearn.metrics import roc_auc_score\n",
    "from hyperopt import fmin, tpe, hp, STATUS_OK, Trials\n",
    "from hyperopt import space_eval\n",
    "import warnings\n",
    "from sklearn.externals import joblib\n",
    "from hyperopt.pyll.base import scope\n",
    "\n",
    "warnings.filterwarnings(\"ignore\", category=DeprecationWarning)\n",
    "warnings.filterwarnings(\"ignore\", category=PendingDeprecationWarning)\n",
    "\n",
    "def Performance(Model,Y,X):\n",
    "    AUC = roc_auc_score(Y, Model.predict(X))\n",
    "    aucs.append(AUC)\n",
    "    print ('the AUC is : %0.4f' %  AUC)\n",
    "    return AUC\n",
    "\n",
    "def auc_model(params):\n",
    "    clf = xgb.XGBClassifier(**params)\n",
    "    clf.fit(train_x, train_y)\n",
    "    #return cross_val_score(clf, train_x, train_y, scoring='roc_auc').mean()\n",
    "    AUC = Performance(clf, test_y, test_x)\n",
    "    return AUC\n",
    "\n",
    "def last_model(params):\n",
    "    clf = xgb.XGBClassifier(**params)\n",
    "    clf.fit(s1_x, s1_y)\n",
    "    AUC = Performance(clf, valid_y, valid_x)\n",
    "    return clf, AUC\n",
    "\n",
    "param_space = {\n",
    "    'seed': 42,\n",
    "    'n_estimators': scope.int(hp.uniform('n_estimators', 100, 500)),\n",
    "    'eta': hp.quniform('eta', 0.025, 0.25, 0.025),\n",
    "    'max_depth':  hp.choice('max_depth', np.arange(1, 14, dtype=int)),\n",
    "    'min_child_weight': hp.quniform('min_child_weight', 1, 6, 1),\n",
    "    'subsample': hp.quniform('subsample', 0.5, 1, 0.05),\n",
    "    'gamma': hp.quniform('gamma', 0.5, 1, 0.05),\n",
    "#    'reg_alpha'       : hp.uniform('reg_alpha', 1e-4, 1e-6 ),\n",
    "#    'reg_lambda'      : hp.uniform('reg_lambda', 1e-4, 1e-6 ),\n",
    "    'colsample_bytree': hp.quniform('colsample_bytree', 0.5, 1, 0.05),\n",
    "    'eval_metric': 'auc',\n",
    "    'objective': 'binary:logistic',\n",
    "    'silent': 1\n",
    "}\n",
    "#'alpha' :  hp.quniform('alpha', 0, 10, 1),\n",
    "#'lambda': hp.quniform('lambda', 1, 2, 0.1),\n",
    "def f(params):\n",
    "    global best\n",
    "    global best_params\n",
    "    auc = auc_model(params)\n",
    "    if auc > best:\n",
    "        best = auc\n",
    "        best_params = params\n",
    "        #print ('new best:', best, params)\n",
    "    return {'loss': -auc, 'status': STATUS_OK}\n",
    "\n",
    "aucs = []\n",
    "\n",
    "s1 = StratifiedShuffleSplit(n_splits=1, test_size=0.20)\n",
    "for t1_index, val_index in s1.split(df, y):\n",
    "    s1_x, s1_y = pd.DataFrame(df.iloc[t1_index]), y.iloc[t1_index].values.ravel()\n",
    "    valid_x, valid_y = df.iloc[val_index], y.iloc[val_index].values.ravel()\n",
    " \n",
    "cv = StratifiedKFold(n_splits=4, shuffle=True)\n",
    "for train_index, test_index in cv.split(s1_x, s1_y):\n",
    "    train_x, train_y = pd.DataFrame(s1_x.iloc[train_index]), s1_y[train_index]\n",
    "    test_x, test_y = pd.DataFrame(s1_x.iloc[test_index]), s1_y[test_index]\n",
    "\n",
    "    trials = Trials()\n",
    "    best = 0\n",
    "    best = fmin(f, param_space, algo=tpe.suggest, max_evals=2, trials=trials)\n",
    "    print ('\\nbest:')\n",
    "    model, AUC = last_model(best_params)\n",
    "    output = 'XGB_' + str(int(AUC * 10000)) + '.pkl'\n",
    "    #joblib.dump(model, data_folder/output)     \n",
    "    print(space_eval(param_space, best))\n",
    "    print('\\n')\n",
    "print(np.mean(aucs))"
   ]
  },
  {
   "cell_type": "code",
   "execution_count": 38,
   "metadata": {},
   "outputs": [
    {
     "name": "stdout",
     "output_type": "stream",
     "text": [
      "the AUC is : 0.9991\n",
      "the AUC is : 0.7644\n"
     ]
    }
   ],
   "source": [
    "#0.? ENS\n",
    "#0.7861 search 100\n",
    "classifier = joblib.load(data_folder/'XGB_.pkl') \n",
    "#t1 = pd.read_csv(data_folder/'irf_weight_00010.csv', names=['a','b'])\n",
    "test = pd.read_csv(data_folder/'test_redux.csv')\n",
    "#t1.drop(['a'], axis=1, inplace=True)\n",
    "#t1 = t1.drop(t1.index[:1])\n",
    "#rfc_test = test.drop(t1['b'].tolist(), axis=1)\n",
    "probas_ = classifier.predict_proba(rfc_test)[:, 1]\n",
    "classifier.get_params()"
   ]
  },
  {
   "cell_type": "code",
   "execution_count": null,
   "metadata": {
    "collapsed": true
   },
   "outputs": [],
   "source": [
    "submission = pd.DataFrame(columns={'Ids', 'TARGET'})\n",
    "submission['Ids'] = [i for i in range(26500,39750)]\n",
    "submission['TARGET'] = probas_\n",
    "submission = submission[['Ids', 'TARGET']]\n",
    "submission.to_csv(data_folder/'submission.csv', sep=';', index=False, header={'Ids', 'TARGET'})"
   ]
  },
  {
   "cell_type": "code",
   "execution_count": 1,
   "metadata": {},
   "outputs": [
    {
     "data": {
      "text/plain": [
       "{'base_score': 0.5,\n",
       " 'booster': 'gbtree',\n",
       " 'colsample_bylevel': 1,\n",
       " 'colsample_bytree': 1,\n",
       " 'early_stopping_rounds': 20,\n",
       " 'eval_metric': 'auc',\n",
       " 'gamma': 0,\n",
       " 'learning_rate': 0.15,\n",
       " 'max_delta_step': 0,\n",
       " 'max_depth': 7,\n",
       " 'min_child_weight': 4,\n",
       " 'missing': nan,\n",
       " 'n_estimators': 2000,\n",
       " 'n_jobs': 1,\n",
       " 'nthread': None,\n",
       " 'objective': 'binary:logistic',\n",
       " 'random_state': 42,\n",
       " 'reg_alpha': 0,\n",
       " 'reg_lambda': 1,\n",
       " 'scale_pos_weight': 1,\n",
       " 'seed': None,\n",
       " 'silent': True,\n",
       " 'subsample': 1}"
      ]
     },
     "execution_count": 1,
     "metadata": {},
     "output_type": "execute_result"
    }
   ],
   "source": [
    "from sklearn.externals import joblib\n",
    "import pandas as pd\n",
    "import numpy as np\n",
    "from pathlib import Path\n",
    "import xgboost as xgb\n",
    "\n",
    "data_folder = Path('E:/Downloads/')\n",
    "\n",
    "xgb = joblib.load(data_folder/'XGB_sup_8638.pkl') \n",
    "xgb.get_params()"
   ]
  },
  {
   "cell_type": "code",
   "execution_count": null,
   "metadata": {
    "collapsed": true
   },
   "outputs": [],
   "source": []
  }
 ],
 "metadata": {
  "kernelspec": {
   "display_name": "Python [default]",
   "language": "python",
   "name": "python3"
  },
  "language_info": {
   "codemirror_mode": {
    "name": "ipython",
    "version": 3
   },
   "file_extension": ".py",
   "mimetype": "text/x-python",
   "name": "python",
   "nbconvert_exporter": "python",
   "pygments_lexer": "ipython3",
   "version": "3.6.3"
  }
 },
 "nbformat": 4,
 "nbformat_minor": 2
}
