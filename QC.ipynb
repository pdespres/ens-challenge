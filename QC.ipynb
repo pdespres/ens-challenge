{
 "cells": [
  {
   "cell_type": "code",
   "execution_count": 1,
   "metadata": {
    "collapsed": true
   },
   "outputs": [],
   "source": [
    "import pandas as pd\n",
    "import numpy as np\n",
    "\n",
    "#sur train.redux + test.redux!!!\n",
    "#df = pd.read_csv('~/Downloads/train_concat_95_00001.csv')\n",
    "df = pd.read_csv('E:\\\\Downloads\\\\global_redux.csv')\n",
    "#df = pd.read_csv('C:\\\\Users\\\\Paul\\\\Downloads\\\\global_redux.csv')\n",
    "df.apply(pd.to_numeric,downcast='unsigned')\n",
    "#y = pd.read_csv('~/Downloads/y.csv', sep=';', usecols=[1])\n",
    "#y.apply(pd.to_numeric,downcast='unsigned')\n",
    "\n",
    "def Hardy_Weinberg_Equilibrium_exact_test(obs_hets, obs_hom1=0, obs_hom2=0):\n",
    "    #<param name=\"obs_hets\" type=\"eval\" value=\"\" label=\"Observed heterozygosity: \"/>\n",
    "    #<param name=\"obs_hom1\" type=\"eval\" value=\"\" label=\"Observed AA homozygosity: \"/>\n",
    "    #<param name=\"obs_hom2\" type=\"eval\" value=\"\" label=\"Observed aa homozygosity: \"/>\n",
    "        if obs_hom1 < 0 or obs_hom2 < 0 or obs_hets < 0:\n",
    "                raise Exception(\"FATAL ERROR - SNP-HWE: Current genotype configuration (%s  %s %s) includes negative count\" % (obs_hets, obs_hom1, obs_hom2))\n",
    "\n",
    "        obs_homc = obs_hom2 if obs_hom1 < obs_hom2 else obs_hom1\n",
    "        obs_homr = obs_hom1 if obs_hom1 < obs_hom2 else obs_hom2\n",
    "\n",
    "        rare_copies = 2 * obs_homr + obs_hets\n",
    "        genotypes   = obs_hets + obs_homc + obs_homr\n",
    "\n",
    "        het_probs = [0.0] * (rare_copies + 1)\n",
    "\n",
    "        #start at midpoint\n",
    "        mid = int(rare_copies * (2 * genotypes - rare_copies) / (2 * genotypes))\n",
    "\n",
    "        #check to ensure that midpoint and rare alleles have same parity\n",
    "        if (rare_copies & 1) ^ (mid & 1):\n",
    "                mid += 1\n",
    "\n",
    "        curr_hets = mid\n",
    "        curr_homr = (rare_copies - mid) / 2\n",
    "        curr_homc = genotypes - curr_hets - curr_homr\n",
    "\n",
    "        het_probs[mid] = 1.0\n",
    "        sum = float(het_probs[mid])\n",
    "\n",
    "        for curr_hets in range(mid, 1, -2):\n",
    "\n",
    "                het_probs[curr_hets - 2] = het_probs[curr_hets] * curr_hets * (curr_hets - 1.0) / (4.0 * (curr_homr + 1.0) * (curr_homc + 1.0))\n",
    "\n",
    "                sum += het_probs[curr_hets - 2];\n",
    "\n",
    "                # 2 fewer heterozygotes for next iteration -> add one rare, one common homozygote\n",
    "                curr_homr += 1\n",
    "                curr_homc += 1\n",
    "\n",
    "        curr_hets = mid\n",
    "        curr_homr = (rare_copies - mid) / 2\n",
    "        curr_homc = genotypes - curr_hets - curr_homr\n",
    "\n",
    "        for curr_hets in range(mid, rare_copies - 1, 2):\n",
    "\n",
    "                het_probs[curr_hets + 2] = het_probs[curr_hets] * 4.0 * curr_homr * curr_homc / ((curr_hets + 2.0) * (curr_hets + 1.0))\n",
    "\n",
    "                sum += het_probs[curr_hets + 2]\n",
    "\n",
    "                #add 2 heterozygotes for next iteration -> subtract one rare, one common homozygote\n",
    "                curr_homr -= 1\n",
    "                curr_homc -= 1\n",
    "\n",
    "        for i in range(0, rare_copies + 1):\n",
    "                het_probs[i] /= sum\n",
    "\n",
    "        #alternate p-value calculation for p_hi/p_lo\n",
    "        p_hi = float(het_probs[obs_hets])\n",
    "        for i in range(obs_hets, rare_copies+1):\n",
    "                p_hi += het_probs[i]\n",
    "\n",
    "        p_lo = float(het_probs[obs_hets])\n",
    "        for i in range(obs_hets-1, -1, -1):\n",
    "                p_lo += het_probs[i]\n",
    "\n",
    "        p_hi_lo = 2.0 * p_hi if p_hi < p_lo else 2.0 * p_lo\n",
    "\n",
    "        p_hwe = 0.0\n",
    "        #  p-value calculation for p_hwe\n",
    "        for i in range(0, rare_copies + 1):\n",
    "                if het_probs[i] > het_probs[obs_hets]:\n",
    "                        continue;\n",
    "                p_hwe += het_probs[i]\n",
    "\n",
    "        p_hwe = 1.0 if p_hwe > 1.0 else p_hwe\n",
    "\n",
    "        return p_hwe\n",
    "    \n",
    "def uni1():\n",
    "\tif int(10000 * Hardy_Weinberg_Equilibrium_exact_test(762, 269, 618)) != 1973:\n",
    "\t\treturn \"Failed to compute HWE of 762, 269, 618\"\n",
    "\n",
    "\treturn True"
   ]
  },
  {
   "cell_type": "code",
   "execution_count": 49,
   "metadata": {},
   "outputs": [
    {
     "name": "stdout",
     "output_type": "stream",
     "text": [
      "Total SNP: 18124\n"
     ]
    }
   ],
   "source": [
    "totalRows = df.shape[0]\n",
    "MAF = pd.DataFrame(columns={'SNP', 'maf'})\n",
    "HWE = pd.DataFrame(columns={'SNP', 'hwe'})\n",
    "SNP = pd.DataFrame(columns={'SNP'})\n",
    "SNP['SNP'] = df.columns.values.ravel()\n",
    "lst_hwe = []\n",
    "lst_maf = []\n",
    "\n",
    "for i in range(df.shape[1]):\n",
    "    total = df.iloc[:, i].value_counts()\n",
    "    \n",
    "    #Hardy-Weinberg equilibrium (HWE) < 0.000001\n",
    "    if total.shape[0] > 2:\n",
    "        totmut = total[2]\n",
    "    else:\n",
    "        totmut = 0\n",
    "    hwe = float(Hardy_Weinberg_Equilibrium_exact_test(total[1], total[0], totmut))\n",
    "    lst_hwe.append(hwe)\n",
    "        \n",
    "    #MAF => - 0.05 d'expression d'une mutation (2 a 5% conseille)\n",
    "    lst_maf.append(1 - (total[0] / totalRows))\n",
    "\n",
    "HWE['SNP'] = SNP\n",
    "HWE['hwe'] = lst_hwe\n",
    "MAF['SNP'] = SNP\n",
    "MAF['maf'] = lst_maf\n",
    "HWE.to_csv('E:\\\\Downloads\\\\QC_HWE.csv', index=False)\n",
    "MAF.to_csv('E:\\\\Downloads\\\\QC_MAF.csv', index=False)\n",
    "print('Total SNP: ' + str(df.shape[1]))"
   ]
  },
  {
   "cell_type": "code",
   "execution_count": 50,
   "metadata": {},
   "outputs": [
    {
     "data": {
      "text/plain": [
       "(1990, 2)"
      ]
     },
     "execution_count": 50,
     "metadata": {},
     "output_type": "execute_result"
    }
   ],
   "source": [
    "#HWE = pd.read_csv('E:\\\\Downloads\\\\QC_HWE.csv')\n",
    "threshold = 0.000001\n",
    "lowHWE = HWE[HWE.hwe < threshold]\n",
    "name = 'E:\\\\Downloads\\\\QC_lowHWE_' + str(threshold) + '.csv'\n",
    "lowHWE.to_csv(name , index=False)\n",
    "lowHWE.shape"
   ]
  },
  {
   "cell_type": "code",
   "execution_count": 51,
   "metadata": {},
   "outputs": [
    {
     "data": {
      "text/plain": [
       "(138, 2)"
      ]
     },
     "execution_count": 51,
     "metadata": {},
     "output_type": "execute_result"
    }
   ],
   "source": [
    "#MAF = pd.read_csv('E:\\\\Downloads\\\\QC_MAF.csv')\n",
    "threshold = 0.05\n",
    "lowMAF = MAF[MAF.maf < threshold]\n",
    "name = 'E:\\\\Downloads\\\\QC_lowMAF_' + str(threshold) + '.csv'\n",
    "lowMAF.to_csv(name , index=False)\n",
    "lowMAF.shape"
   ]
  },
  {
   "cell_type": "code",
   "execution_count": 54,
   "metadata": {},
   "outputs": [
    {
     "name": "stdout",
     "output_type": "stream",
     "text": [
      "(2128, 1)\n"
     ]
    }
   ],
   "source": [
    "import pandas as pd\n",
    "import numpy as np\n",
    "\n",
    "#t1 = pd.read_csv('C:\\\\Users\\\\Paul\\\\Downloads\\\\QC_lowMAF_05.csv', names=['a','b'])\n",
    "t1 = pd.read_csv('E:\\\\Downloads\\\\QC_lowMAF_0.05.csv', names=['a','b'])\n",
    "t1.drop(['b'], axis=1, inplace=True)\n",
    "t1 = t1.drop(t1.index[:1])\n",
    "#t2 = pd.read_csv('C:\\\\Users\\\\Paul\\\\Downloads\\\\QC_lowHWE_000001.csv', names=['a','b'])\n",
    "t2 = pd.read_csv('E:\\\\Downloads\\\\QC_lowHWE_1e-06.csv', names=['a','b'])\n",
    "t2.drop(['b'], axis=1, inplace=True)\n",
    "t2 = t2.drop(t2.index[:1])\n",
    "concatenated = pd.concat([t1, t2], axis=0)\n",
    "concatenated.drop_duplicates('a')\n",
    "print(concatenated.shape)"
   ]
  },
  {
   "cell_type": "code",
   "execution_count": 55,
   "metadata": {},
   "outputs": [
    {
     "data": {
      "text/plain": [
       "(26500, 16004)"
      ]
     },
     "execution_count": 55,
     "metadata": {},
     "output_type": "execute_result"
    }
   ],
   "source": [
    "import pandas as pd\n",
    "import numpy as np\n",
    "\n",
    "df = pd.read_csv('E:\\\\Downloads\\\\train_redux.csv')\n",
    "#df = pd.read_csv('C:\\\\Users\\\\Paul\\\\Downloads\\\\global_redux.csv')\n",
    "df.apply(pd.to_numeric,downcast='unsigned')\n",
    "export = df.drop(concatenated['a'].tolist(), axis=1)\n",
    "name = 'E:\\\\Downloads\\\\train_redux_QC_05_000001.csv'\n",
    "export.to_csv(name, index=False)\n",
    "export.shape"
   ]
  },
  {
   "cell_type": "code",
   "execution_count": null,
   "metadata": {
    "collapsed": true
   },
   "outputs": [],
   "source": []
  }
 ],
 "metadata": {
  "kernelspec": {
   "display_name": "Python 3",
   "language": "python",
   "name": "python3"
  },
  "language_info": {
   "codemirror_mode": {
    "name": "ipython",
    "version": 3
   },
   "file_extension": ".py",
   "mimetype": "text/x-python",
   "name": "python",
   "nbconvert_exporter": "python",
   "pygments_lexer": "ipython3",
   "version": "3.6.3"
  }
 },
 "nbformat": 4,
 "nbformat_minor": 2
}
