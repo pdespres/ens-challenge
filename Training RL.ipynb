{
 "cells": [
  {
   "cell_type": "code",
   "execution_count": 4,
   "metadata": {},
   "outputs": [
    {
     "data": {
      "text/plain": [
       "(26500, 6695)"
      ]
     },
     "execution_count": 4,
     "metadata": {},
     "output_type": "execute_result"
    }
   ],
   "source": [
    "import pandas as pd\n",
    "import numpy as np\n",
    "\n",
    "#df = pd.read_csv('~/goinfre/data/train_concat2_90_00001.csv')\n",
    "#y = pd.read_csv('~/Downloads/y2.csv', sep=';', usecols=[1])\n",
    "df = pd.read_csv('E:\\\\Downloads\\\\kbest.csv')\n",
    "df.apply(pd.to_numeric,downcast='unsigned')\n",
    "y = pd.read_csv('E:\\\\Downloads\\\\y.csv', sep=';', usecols=[1])\n",
    "y.apply(pd.to_numeric,downcast='unsigned')\n",
    "\n",
    "df.shape"
   ]
  },
  {
   "cell_type": "code",
   "execution_count": 5,
   "metadata": {},
   "outputs": [
    {
     "name": "stdout",
     "output_type": "stream",
     "text": [
      "param=1 Mean ROC (AUC = 0.809)\n",
      "[0.80456058115941687, 0.81037410260138121, 0.81354176274440215]\n"
     ]
    }
   ],
   "source": [
    "from sklearn.linear_model import LogisticRegression\n",
    "from sklearn.metrics import roc_curve\n",
    "from sklearn.metrics import auc\n",
    "from sklearn.model_selection import StratifiedKFold\n",
    "from scipy import interp\n",
    "\n",
    "#Mean ROC (AUC = 0.844) train_concat_90_00001\n",
    "#param_range = [0.001,0.01,0.1,1,10,100]\n",
    "#param_range = [0.001]\n",
    "param_range = [1]\n",
    "\n",
    "cv = StratifiedKFold(n_splits=3)\n",
    "\n",
    "for i in param_range:\n",
    "    aucs = []\n",
    "    tprs = []\n",
    "    mean_fpr = np.linspace(0, 1, 100)\n",
    "\n",
    "    classifier = LogisticRegression(C=i, random_state=42)\n",
    "    #LogisticRegression(random_state=0, multi_class='multinomial', solver='newton-cg')\n",
    "    for train_index, test_index in cv.split(df, y):\n",
    "        model = classifier.fit(df.iloc[train_index], y.iloc[train_index].values.ravel())\n",
    "        if hasattr(model, \"predict_proba\"):\n",
    "            probas_ = model.predict_proba(df.iloc[test_index])[:, 1]\n",
    "        else:  # use decision function\n",
    "            probas_ = model.decision_function(df.iloc[test_index])\n",
    "        fpr, tpr, thresholds = roc_curve(y.iloc[test_index], probas_)\n",
    "        tprs.append(interp(mean_fpr, fpr, tpr))\n",
    "        tprs[-1][0] = 0.0\n",
    "        roc_auc = auc(fpr, tpr)\n",
    "        aucs.append(roc_auc)\n",
    "\n",
    "    mean_tpr = np.mean(tprs, axis=0)\n",
    "    mean_tpr[-1] = 1.0\n",
    "    mean_auc = auc(mean_fpr, mean_tpr)\n",
    "\n",
    "    print('param=%s Mean ROC (AUC = %0.3f)' % (str(i), mean_auc))\n",
    "    print(aucs)\n",
    "    "
   ]
  },
  {
   "cell_type": "code",
   "execution_count": null,
   "metadata": {
    "collapsed": true
   },
   "outputs": [],
   "source": []
  }
 ],
 "metadata": {
  "kernelspec": {
   "display_name": "Python 3",
   "language": "python",
   "name": "python3"
  },
  "language_info": {
   "codemirror_mode": {
    "name": "ipython",
    "version": 3
   },
   "file_extension": ".py",
   "mimetype": "text/x-python",
   "name": "python",
   "nbconvert_exporter": "python",
   "pygments_lexer": "ipython3",
   "version": "3.6.3"
  }
 },
 "nbformat": 4,
 "nbformat_minor": 2
}
