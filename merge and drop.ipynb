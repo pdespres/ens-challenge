{
 "cells": [
  {
   "cell_type": "code",
   "execution_count": 1,
   "metadata": {},
   "outputs": [
    {
     "data": {
      "text/plain": [
       "(11429, 1)"
      ]
     },
     "execution_count": 1,
     "metadata": {},
     "output_type": "execute_result"
    }
   ],
   "source": [
    "import pandas as pd\n",
    "import numpy as np\n",
    "\n",
    "test = pd.read_csv('E:\\\\Downloads\\\\train_corr.csv', names=['a','b'])\n",
    "test.drop(['b'], axis=1, inplace=True)\n",
    "corr = test.drop(test.index[:1])\n",
    "corr.shape"
   ]
  },
  {
   "cell_type": "code",
   "execution_count": 2,
   "metadata": {},
   "outputs": [
    {
     "data": {
      "text/plain": [
       "(18124, 2)"
      ]
     },
     "execution_count": 2,
     "metadata": {},
     "output_type": "execute_result"
    }
   ],
   "source": [
    "test = pd.read_csv('E:\\\\Downloads\\\\features_importances_2000.csv', names=['a','b'])\n",
    "#test.drop(['b'], axis=1, inplace=True)\n",
    "test.a = test.a.astype(str)\n",
    "importances = test.drop(test.index[:1])\n",
    "importances.shape"
   ]
  },
  {
   "cell_type": "code",
   "execution_count": 4,
   "metadata": {},
   "outputs": [
    {
     "name": "stdout",
     "output_type": "stream",
     "text": [
      "(8799, 1)\n"
     ]
    },
    {
     "name": "stderr",
     "output_type": "stream",
     "text": [
      "C:\\Users\\Paul\\Anaconda3\\lib\\site-packages\\ipykernel_launcher.py:2: SettingWithCopyWarning: \n",
      "A value is trying to be set on a copy of a slice from a DataFrame\n",
      "\n",
      "See the caveats in the documentation: http://pandas.pydata.org/pandas-docs/stable/indexing.html#indexing-view-versus-copy\n",
      "  \n",
      "C:\\Users\\Paul\\Anaconda3\\lib\\site-packages\\pandas\\core\\generic.py:3110: SettingWithCopyWarning: \n",
      "A value is trying to be set on a copy of a slice from a DataFrame.\n",
      "Try using .loc[row_indexer,col_indexer] = value instead\n",
      "\n",
      "See the caveats in the documentation: http://pandas.pydata.org/pandas-docs/stable/indexing.html#indexing-view-versus-copy\n",
      "  self[name] = value\n"
     ]
    }
   ],
   "source": [
    "test = importances.query('b <= 0.00005')\n",
    "test.drop(['b'], axis=1, inplace=True)\n",
    "test.a = \"SNP_\" + test.a\n",
    "print(test.shape)\n",
    "#for index, row in test.iterrows():\n",
    "#    corr.append(\"SNP_\" + row['a'])\n"
   ]
  },
  {
   "cell_type": "code",
   "execution_count": 5,
   "metadata": {},
   "outputs": [
    {
     "name": "stdout",
     "output_type": "stream",
     "text": [
      "(20228, 1)\n"
     ]
    }
   ],
   "source": [
    "concatenated = pd.concat([corr, test], axis=0)\n",
    "concatenated.drop_duplicates('a')\n",
    "print(concatenated.shape)"
   ]
  },
  {
   "cell_type": "code",
   "execution_count": 6,
   "metadata": {
    "collapsed": true
   },
   "outputs": [],
   "source": [
    "concatenated.to_csv('E:\\\\Downloads\\\\train_concat2.csv', index=False)"
   ]
  },
  {
   "cell_type": "code",
   "execution_count": 7,
   "metadata": {},
   "outputs": [
    {
     "data": {
      "text/html": [
       "<div>\n",
       "<style>\n",
       "    .dataframe thead tr:only-child th {\n",
       "        text-align: right;\n",
       "    }\n",
       "\n",
       "    .dataframe thead th {\n",
       "        text-align: left;\n",
       "    }\n",
       "\n",
       "    .dataframe tbody tr th {\n",
       "        vertical-align: top;\n",
       "    }\n",
       "</style>\n",
       "<table border=\"1\" class=\"dataframe\">\n",
       "  <thead>\n",
       "    <tr style=\"text-align: right;\">\n",
       "      <th></th>\n",
       "      <th>a</th>\n",
       "    </tr>\n",
       "  </thead>\n",
       "  <tbody>\n",
       "    <tr>\n",
       "      <th>2661</th>\n",
       "      <td>SNP_5510</td>\n",
       "    </tr>\n",
       "    <tr>\n",
       "      <th>1</th>\n",
       "      <td>SNP_5510</td>\n",
       "    </tr>\n",
       "  </tbody>\n",
       "</table>\n",
       "</div>"
      ],
      "text/plain": [
       "             a\n",
       "2661  SNP_5510\n",
       "1     SNP_5510"
      ]
     },
     "execution_count": 7,
     "metadata": {},
     "output_type": "execute_result"
    }
   ],
   "source": [
    "concatenated.query('a == \"SNP_5510\"')"
   ]
  },
  {
   "cell_type": "code",
   "execution_count": 8,
   "metadata": {},
   "outputs": [
    {
     "name": "stdout",
     "output_type": "stream",
     "text": [
      "(16, 1)\n",
      "(26500, 1)\n",
      "(26484, 1)\n"
     ]
    }
   ],
   "source": [
    "import pandas as pd\n",
    "import numpy as np\n",
    "\n",
    "df = pd.read_csv('C:\\\\Users\\\\Paul\\\\Downloads\\\\y.csv')\n",
    "rowtodrop = pd.read_csv('C:\\\\Users\\\\Paul\\\\Downloads\\\\outliers.csv')\n",
    "print(rowtodrop.shape)\n",
    "print(df.shape)\n",
    "df = df.drop(df.index[rowtodrop.values.ravel()])\n",
    "print(df.shape)\n",
    "df.to_csv('C:\\\\Users\\\\Paul\\\\Downloads\\\\y2.csv', index=False)"
   ]
  },
  {
   "cell_type": "code",
   "execution_count": 5,
   "metadata": {},
   "outputs": [
    {
     "name": "stdout",
     "output_type": "stream",
     "text": [
      "(2128, 1)\n"
     ]
    }
   ],
   "source": [
    "import pandas as pd\n",
    "import numpy as np\n",
    "\n",
    "t1 = pd.read_csv('C:\\\\Users\\\\Paul\\\\Downloads\\\\QC_lowHWE_000001.csv', names=['a','b'])\n",
    "t1.drop(['b'], axis=1, inplace=True)\n",
    "t1 = t1.drop(t1.index[:1])\n",
    "t2 = pd.read_csv('C:\\\\Users\\\\Paul\\\\Downloads\\\\QC_lowMAF_05.csv', names=['a','b'])\n",
    "t2.drop(['b'], axis=1, inplace=True)\n",
    "t2 = t2.drop(t2.index[:1])\n",
    "concatenated = pd.concat([t1, t2], axis=0)\n",
    "concatenated.drop_duplicates('a')\n",
    "print(concatenated.shape)"
   ]
  },
  {
   "cell_type": "code",
   "execution_count": 7,
   "metadata": {},
   "outputs": [
    {
     "data": {
      "text/plain": [
       "(26484, 16004)"
      ]
     },
     "execution_count": 7,
     "metadata": {},
     "output_type": "execute_result"
    }
   ],
   "source": [
    "#df = pd.read_csv('C:\\\\Users\\\\Paul\\\\Downloads\\\\train_redux2.csv')\n",
    "export = df.drop(concatenated['a'].tolist(), axis=1)\n",
    "name = 'C:\\\\Users\\\\Paul\\\\Downloads\\\\train_redux2_QC_05_000001.csv'\n",
    "export.to_csv(name, index=False)\n",
    "export.shape"
   ]
  },
  {
   "cell_type": "code",
   "execution_count": null,
   "metadata": {
    "collapsed": true
   },
   "outputs": [],
   "source": []
  }
 ],
 "metadata": {
  "kernelspec": {
   "display_name": "Python 3",
   "language": "python",
   "name": "python3"
  },
  "language_info": {
   "codemirror_mode": {
    "name": "ipython",
    "version": 3
   },
   "file_extension": ".py",
   "mimetype": "text/x-python",
   "name": "python",
   "nbconvert_exporter": "python",
   "pygments_lexer": "ipython3",
   "version": "3.6.3"
  }
 },
 "nbformat": 4,
 "nbformat_minor": 2
}
