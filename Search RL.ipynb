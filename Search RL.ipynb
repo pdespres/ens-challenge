{
 "cells": [
  {
   "cell_type": "code",
   "execution_count": 3,
   "metadata": {},
   "outputs": [
    {
     "name": "stdout",
     "output_type": "stream",
     "text": [
      "(26495, 4439) (26495, 1)\n"
     ]
    }
   ],
   "source": [
    "import pandas as pd\n",
    "import numpy as np\n",
    "from pathlib import Path\n",
    "\n",
    "data_folder = Path('/sgoinfre/goinfre/Perso/pdespres/data/')\n",
    "#data_folder = Path('E:/Downloads/')\n",
    "#data_folder = Path('/sgoinfre/goinfre/Perso/pdespres/data/')\n",
    "\n",
    "df = pd.read_csv(data_folder/'train2_irf_00006.csv', \\\n",
    "                 dtype='int8')\n",
    "y = pd.read_csv(data_folder/'y2.csv', \\\n",
    "                sep=';', usecols=[1], dtype='int8')\n",
    "\n",
    "print(df.shape, y.shape)"
   ]
  },
  {
   "cell_type": "code",
   "execution_count": null,
   "metadata": {},
   "outputs": [],
   "source": [
    "%%time\n",
    "from sklearn.linear_model import LogisticRegression\n",
    "from sklearn.model_selection import StratifiedShuffleSplit, StratifiedKFold, cross_val_score\n",
    "from sklearn.metrics import roc_auc_score\n",
    "from hyperopt import fmin, tpe, hp, STATUS_OK, Trials\n",
    "from hyperopt import space_eval\n",
    "import warnings\n",
    "\n",
    "warnings.filterwarnings(\"ignore\", category=DeprecationWarning)\n",
    "warnings.filterwarnings(\"ignore\", category=PendingDeprecationWarning)\n",
    "\n",
    "def Performance(Model,Y,X):\n",
    "    AUC = roc_auc_score(Y, Model.predict_proba(X)[:,1])\n",
    "    aucs.append(AUC)\n",
    "    print ('the AUC is : %0.4f' %  AUC)\n",
    "\n",
    "def auc_model(params):\n",
    "    clf = LogisticRegression(**params)\n",
    "    return cross_val_score(clf, train_x, train_y, scoring='roc_auc').mean()\n",
    "\n",
    "def last_model(params):\n",
    "    clf = LogisticRegression(**params)\n",
    "    clf.fit(s1_x, s1_y)\n",
    "    Performance(clf, valid_y, valid_x)\n",
    "    return clf\n",
    "\n",
    "param_space = {\n",
    "    'C': hp.choice('C', [0.001,0.01,0.1,1,10,100]),\n",
    "    'penalty': hp.choice('max_features', ['l1','l2']),\n",
    "}\n",
    "\n",
    "def f(params):\n",
    "    global best\n",
    "    global best_params\n",
    "    auc = auc_model(params)\n",
    "    if auc > best:\n",
    "        best = auc\n",
    "        best_params = params\n",
    "        #print ('new best:', best, params)\n",
    "    return {'loss': -auc, 'status': STATUS_OK}\n",
    "\n",
    "aucs = []\n",
    "\n",
    "s1 = StratifiedShuffleSplit(n_splits=1, test_size=0.20, random_state=42)\n",
    "for t1_index, val_index in s1.split(df, y):\n",
    "    s1_x, s1_y = pd.DataFrame(df.iloc[t1_index]), y.iloc[t1_index].values.ravel()\n",
    "    valid_x, valid_y = df.iloc[val_index], y.iloc[val_index].values.ravel()\n",
    " \n",
    "cv = StratifiedKFold(n_splits=4, shuffle=True, random_state=42)\n",
    "for train_index, test_index in cv.split(s1_x, s1_y):\n",
    "    train_x, train_y = pd.DataFrame(s1_x.iloc[train_index]), s1_y[train_index]\n",
    "    test_x, test_y = s1_x.iloc[test_index], s1_y[test_index]\n",
    "\n",
    "    trials = Trials()\n",
    "    best = 0\n",
    "    best = fmin(f, param_space, algo=tpe.suggest, max_evals=50, trials=trials)\n",
    "    print ('\\nbest:')\n",
    "    last_model(best_params)\n",
    "    print (space_eval(param_space, best))\n",
    "    print('\\n')\n",
    "print(np.mean(aucs))"
   ]
  },
  {
   "cell_type": "code",
   "execution_count": null,
   "metadata": {
    "collapsed": true
   },
   "outputs": [],
   "source": []
  }
 ],
 "metadata": {
  "kernelspec": {
   "display_name": "Python [default]",
   "language": "python",
   "name": "python3"
  },
  "language_info": {
   "codemirror_mode": {
    "name": "ipython",
    "version": 3
   },
   "file_extension": ".py",
   "mimetype": "text/x-python",
   "name": "python",
   "nbconvert_exporter": "python",
   "pygments_lexer": "ipython3",
   "version": "3.6.3"
  }
 },
 "nbformat": 4,
 "nbformat_minor": 2
}
