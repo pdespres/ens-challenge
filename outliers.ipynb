{
 "cells": [
  {
   "cell_type": "code",
   "execution_count": 1,
   "metadata": {},
   "outputs": [
    {
     "name": "stdout",
     "output_type": "stream",
     "text": [
      "Datas loaded\n",
      "(26500, 18124)\n"
     ]
    }
   ],
   "source": [
    "import pandas as pd\n",
    "import numpy as np\n",
    "from sklearn.ensemble import RandomForestClassifier\n",
    "import sklearn.metrics\n",
    "from sklearn.model_selection import train_test_split\n",
    "\n",
    "def loadData():\n",
    "    #df = pd.read_csv('/sgoinfre/goinfre/Perso/pdespres/ensdata/train_redux.csv')\n",
    "    #y = pd.read_csv('/sgoinfre/goinfre/Perso/pdespres/ensdata/y.csv', sep=';', usecols=[1])\n",
    "    df = pd.read_csv('E:\\\\Downloads\\\\train_redux.csv')\n",
    "    y = pd.read_csv('E:\\\\Downloads\\\\y.csv', sep=';', usecols=[1])\n",
    "    print(\"Datas loaded\")\n",
    "    return df, y\n",
    "\n",
    "df, y = loadData()\n",
    "print(df.shape)"
   ]
  },
  {
   "cell_type": "code",
   "execution_count": 2,
   "metadata": {},
   "outputs": [
    {
     "name": "stdout",
     "output_type": "stream",
     "text": [
      "Wall time: 1h 6min 32s\n"
     ]
    }
   ],
   "source": [
    "from sklearn.ensemble import IsolationForest\n",
    "\n",
    "def buildforest(train, y):\n",
    "    forest = IsolationForest(n_estimators=500, contamination=0.1, random_state=42)\n",
    "    forest.fit(train, y)\n",
    "    return forest\n",
    "\n",
    "%time iforest = buildforest(df, y)"
   ]
  },
  {
   "cell_type": "code",
   "execution_count": 3,
   "metadata": {
    "collapsed": true
   },
   "outputs": [],
   "source": [
    "#outlier = iforest.predict(df)\n",
    "anomaly_score = iforest.decision_function(df)\n",
    "#anomaly_score[0]\n",
    "df['score'] = anomaly_score"
   ]
  },
  {
   "cell_type": "code",
   "execution_count": 4,
   "metadata": {},
   "outputs": [
    {
     "data": {
      "image/png": "[encoded data removed]",
      "text/plain": [
       "<matplotlib.figure.Figure at 0x11445cdf320>"
      ]
     },
     "metadata": {},
     "output_type": "display_data"
    }
   ],
   "source": [
    "import matplotlib.pyplot as plt\n",
    "plt.style.use(\"ggplot\")\n",
    "%matplotlib inline\n",
    "plt.figure(figsize=(12, 8))\n",
    "plt.hist(anomaly_score, bins=500);"
   ]
  },
  {
   "cell_type": "code",
   "execution_count": 8,
   "metadata": {},
   "outputs": [
    {
     "name": "stdout",
     "output_type": "stream",
     "text": [
      "1409 -0.0179136402107\n",
      "5233 -0.018917282078\n",
      "12387 -0.0172280475985\n",
      "14751 -0.016483615283\n",
      "24130 -0.0226903674022\n",
      "5\n",
      "[1409, 5233, 12387, 14751, 24130]\n"
     ]
    }
   ],
   "source": [
    "rowtodrop = []\n",
    "counter = 0\n",
    "for n in range(len(df)):\n",
    "    if (df['score'][n] < -0.016):\n",
    "        counter= counter+1\n",
    "        rowtodrop.append(n)\n",
    "        print(n, df['score'][n])\n",
    "print (counter)\n",
    "print(rowtodrop)\n",
    "todrop = pd.DataFrame(rowtodrop)\n",
    "todrop.to_csv('E:\\\\Downloads\\\\outliers.csv', index=False)"
   ]
  },
  {
   "cell_type": "code",
   "execution_count": null,
   "metadata": {
    "collapsed": true
   },
   "outputs": [],
   "source": []
  }
 ],
 "metadata": {
  "kernelspec": {
   "display_name": "Python 3",
   "language": "python",
   "name": "python3"
  },
  "language_info": {
   "codemirror_mode": {
    "name": "ipython",
    "version": 3
   },
   "file_extension": ".py",
   "mimetype": "text/x-python",
   "name": "python",
   "nbconvert_exporter": "python",
   "pygments_lexer": "ipython3",
   "version": "3.6.3"
  }
 },
 "nbformat": 4,
 "nbformat_minor": 2
}
