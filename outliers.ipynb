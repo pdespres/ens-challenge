{
 "cells": [
  {
   "cell_type": "code",
   "execution_count": 1,
   "metadata": {},
   "outputs": [
    {
     "name": "stdout",
     "output_type": "stream",
     "text": [
      "Datas loaded\n",
      "(26500, 16004)\n"
     ]
    }
   ],
   "source": [
    "import pandas as pd\n",
    "import numpy as np\n",
    "from sklearn.ensemble import RandomForestClassifier\n",
    "import sklearn.metrics\n",
    "from sklearn.model_selection import train_test_split\n",
    "\n",
    "def loadData():\n",
    "    #df = pd.read_csv('/sgoinfre/goinfre/Perso/pdespres/ensdata/train_redux.csv')\n",
    "    #y = pd.read_csv('/sgoinfre/goinfre/Perso/pdespres/ensdata/y.csv', sep=';', usecols=[1])\n",
    "    df = pd.read_csv('E:\\\\Downloads\\\\train_redux_QC_05_000001.csv')\n",
    "    y = pd.read_csv('E:\\\\Downloads\\\\y.csv', sep=';', usecols=[1])\n",
    "    print(\"Datas loaded\")\n",
    "    return df, y\n",
    "\n",
    "df, y = loadData()\n",
    "print(df.shape)"
   ]
  },
  {
   "cell_type": "code",
   "execution_count": 2,
   "metadata": {},
   "outputs": [
    {
     "name": "stdout",
     "output_type": "stream",
     "text": [
      "Wall time: 25min 17s\n"
     ]
    }
   ],
   "source": [
    "from sklearn.ensemble import IsolationForest\n",
    "\n",
    "def buildforest(train, y):\n",
    "    forest = IsolationForest(n_estimators=200, contamination=0.1, random_state=42)\n",
    "    forest.fit(train, y)\n",
    "    return forest\n",
    "\n",
    "%time iforest = buildforest(df, y)"
   ]
  },
  {
   "cell_type": "code",
   "execution_count": 3,
   "metadata": {
    "collapsed": true
   },
   "outputs": [],
   "source": [
    "#outlier = iforest.predict(df)\n",
    "anomaly_score = iforest.decision_function(df)\n",
    "#anomaly_score[0]\n",
    "df['score'] = anomaly_score"
   ]
  },
  {
   "cell_type": "code",
   "execution_count": 4,
   "metadata": {},
   "outputs": [
    {
     "data": {
      "image/png": "[encoded data removed]",
      "text/plain": [
       "<matplotlib.figure.Figure at 0x18da8732080>"
      ]
     },
     "metadata": {},
     "output_type": "display_data"
    }
   ],
   "source": [
    "import matplotlib.pyplot as plt\n",
    "plt.style.use(\"ggplot\")\n",
    "%matplotlib inline\n",
    "plt.figure(figsize=(12, 8))\n",
    "plt.hist(anomaly_score, bins=500);"
   ]
  },
  {
   "cell_type": "code",
   "execution_count": 4,
   "metadata": {},
   "outputs": [
    {
     "name": "stdout",
     "output_type": "stream",
     "text": [
      "1105 -0.0229213195032\n",
      "2450 -0.0234275831628\n",
      "2661 -0.0210144265633\n",
      "4555 -0.0220719131124\n",
      "5874 -0.0209916930714\n",
      "8514 -0.0228499158203\n",
      "9500 -0.0257459124027\n",
      "11525 -0.0232416981003\n",
      "11875 -0.0204102117145\n",
      "13202 -0.0206786829843\n",
      "14247 -0.0214682861521\n",
      "15417 -0.0218335569316\n",
      "16925 -0.0204825933293\n",
      "17943 -0.027887444957\n",
      "18525 -0.0307993336445\n",
      "20114 -0.0232018801376\n",
      "23905 -0.0204949024837\n",
      "24130 -0.0312838742145\n",
      "18\n",
      "[1105, 2450, 2661, 4555, 5874, 8514, 9500, 11525, 11875, 13202, 14247, 15417, 16925, 17943, 18525, 20114, 23905, 24130]\n"
     ]
    }
   ],
   "source": [
    "rowtodrop = []\n",
    "counter = 0\n",
    "for n in range(len(df)):\n",
    "    if (df['score'][n] < -0.02):\n",
    "        counter= counter+1\n",
    "        rowtodrop.append(n)\n",
    "        print(n, df['score'][n])\n",
    "print (counter)\n",
    "print(rowtodrop)\n",
    "todrop = pd.DataFrame(rowtodrop)\n",
    "todrop.to_csv('E:\\\\Downloads\\\\outliers.csv', index=False)"
   ]
  },
  {
   "cell_type": "code",
   "execution_count": null,
   "metadata": {
    "collapsed": true
   },
   "outputs": [],
   "source": []
  }
 ],
 "metadata": {
  "kernelspec": {
   "display_name": "Python 3",
   "language": "python",
   "name": "python3"
  },
  "language_info": {
   "codemirror_mode": {
    "name": "ipython",
    "version": 3
   },
   "file_extension": ".py",
   "mimetype": "text/x-python",
   "name": "python",
   "nbconvert_exporter": "python",
   "pygments_lexer": "ipython3",
   "version": "3.6.3"
  }
 },
 "nbformat": 4,
 "nbformat_minor": 2
}
