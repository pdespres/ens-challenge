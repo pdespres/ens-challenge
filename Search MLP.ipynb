{
 "cells": [
  {
   "cell_type": "code",
   "execution_count": 22,
   "metadata": {},
   "outputs": [
    {
     "name": "stdout",
     "output_type": "stream",
     "text": [
      "(5000, 18124) (5000, 1)\n"
     ]
    }
   ],
   "source": [
    "import pandas as pd\n",
    "import numpy as np\n",
    "from pathlib import Path\n",
    "\n",
    "#data_folder = Path('/sgoinfre/goinfre/Perso/pdespres/data/')\n",
    "data_folder = Path('E:/Downloads/')\n",
    "#data_folder = Path('C:/Users/Paul/Downloads/')\n",
    "\n",
    "df = pd.read_csv(data_folder/'train2_irf_0000_corr98.csv', \\\n",
    "                 dtype='int8', nrows=5000)\n",
    "y = pd.read_csv(data_folder/'y2.csv', \\\n",
    "                sep=';', usecols=[1], dtype='int8', nrows=5000)\n",
    "\n",
    "print(df.shape, y.shape)"
   ]
  },
  {
   "cell_type": "code",
   "execution_count": null,
   "metadata": {
    "scrolled": false
   },
   "outputs": [
    {
     "name": "stdout",
     "output_type": "stream",
     "text": [
      "the AUC is : 0.6851\n",
      "0.685133943381\n",
      "the AUC is : 0.6805\n",
      "0.680516112851\n",
      "\n",
      "best:\n",
      "the AUC is : 0.7179\n",
      "{'alpha': 7.030579265435521e-05, 'colsample_bytree': 0.9500000000000001, 'eta': 0.05, 'eval_metric': 'auc', 'gamma': 0.6000000000000001, 'lambda': 3.0365664991660436e-05, 'max_depth': 3, 'min_child_weight': 6.0, 'n_estimators': 344, 'objective': 'binary:logistic', 'seed': 42, 'silent': 1, 'subsample': 0.6000000000000001}\n",
      "\n",
      "\n",
      "the AUC is : 0.6724\n",
      "0.672355211729\n",
      "the AUC is : 0.6796\n",
      "0.679625034464\n",
      "\n",
      "best:\n"
     ]
    }
   ],
   "source": [
    "%%time\n",
    "from keras.wrappers.scikit_learn import KerasClassifier\n",
    "from sklearn.model_selection import cross_val_score\n",
    "from keras.models import Sequential\n",
    "from keras.layers import Dense, Dropout, GaussianNoise\n",
    "from keras import regularizers\n",
    "from keras.callbacks import EarlyStopping, ModelCheckpoint\n",
    "from sklearn.model_selection import StratifiedShuffleSplit, StratifiedKFold, cross_val_score\n",
    "from sklearn.metrics import roc_auc_score\n",
    "from hyperopt import fmin, tpe, hp, STATUS_OK, Trials\n",
    "from hyperopt import space_eval\n",
    "import warnings\n",
    "from sklearn.externals import joblib\n",
    "from hyperopt.pyll.base import scope\n",
    "\n",
    "warnings.filterwarnings(\"ignore\", category=DeprecationWarning)\n",
    "warnings.filterwarnings(\"ignore\", category=PendingDeprecationWarning)\n",
    "\n",
    "def Performance(Model,Y,X):\n",
    "    AUC = roc_auc_score(Y, Model.predict(X))\n",
    "    aucs.append(AUC)\n",
    "    print ('the AUC is : %0.4f' %  AUC)\n",
    "    return AUC\n",
    "\n",
    "def auc_model(params):\n",
    "    clf = xgb.XGBClassifier(**params)\n",
    "    clf.fit(train_x, train_y)\n",
    "    #return cross_val_score(clf, train_x, train_y, scoring='roc_auc').mean()\n",
    "    AUC = Performance(clf, test_y, test_x)\n",
    "    return AUC\n",
    "\n",
    "def last_model(params):\n",
    "    clf = xgb.XGBClassifier(**params)\n",
    "    clf.fit(s1_x, s1_y)\n",
    "    AUC = Performance(clf, valid_y, valid_x)\n",
    "    return clf, AUC\n",
    "\n",
    "param_space = {\n",
    "    'seed': 42,\n",
    "    'n_estimators': scope.int(hp.uniform('n_estimators', 100, 500)),\n",
    "    'eta': hp.quniform('eta', 0.025, 0.25, 0.025),\n",
    "    'max_depth':  hp.choice('max_depth', np.arange(1, 14, dtype=int)),\n",
    "    'min_child_weight': hp.quniform('min_child_weight', 1, 6, 1),\n",
    "    'subsample': hp.quniform('subsample', 0.5, 1, 0.05),\n",
    "    'gamma': hp.quniform('gamma', 0.5, 1, 0.05),\n",
    "    'alpha'       : hp.uniform('alpha', 1e-4, 1e-6 ),\n",
    "    'lambda'      : hp.uniform('lambda', 1e-4, 1e-6 ),\n",
    "    'colsample_bytree': hp.quniform('colsample_bytree', 0.5, 1, 0.05),\n",
    "    'eval_metric': 'auc',\n",
    "    'objective': 'binary:logistic',\n",
    "    'silent': 1\n",
    "}\n",
    "#'alpha' :  hp.quniform('alpha', 0, 10, 1),\n",
    "#'lambda': hp.quniform('lambda', 1, 2, 0.1),\n",
    "def f(params):\n",
    "    global best\n",
    "    global best_params\n",
    "    auc = auc_model(params)\n",
    "    if auc > best:\n",
    "        best = auc\n",
    "        best_params = params\n",
    "        #print ('new best:', best, params)\n",
    "    return {'loss': -auc, 'status': STATUS_OK}\n",
    "\n",
    "aucs = []\n",
    "\n",
    "s1 = StratifiedShuffleSplit(n_splits=1, test_size=0.20)\n",
    "for t1_index, val_index in s1.split(df, y):\n",
    "    s1_x, s1_y = pd.DataFrame(df.iloc[t1_index]), y.iloc[t1_index].values.ravel()\n",
    "    valid_x, valid_y = df.iloc[val_index], y.iloc[val_index].values.ravel()\n",
    " \n",
    "cv = StratifiedKFold(n_splits=4, shuffle=True)\n",
    "for train_index, test_index in cv.split(s1_x, s1_y):\n",
    "    train_x, train_y = pd.DataFrame(s1_x.iloc[train_index]), s1_y[train_index]\n",
    "    test_x, test_y = pd.DataFrame(s1_x.iloc[test_index]), s1_y[test_index]\n",
    "\n",
    "    trials = Trials()\n",
    "    best = 0\n",
    "    best = fmin(f, param_space, algo=tpe.suggest, max_evals=2, trials=trials)\n",
    "    print ('\\nbest:')\n",
    "    model, AUC = last_model(best_params)\n",
    "    output = 'XGB_' + str(int(AUC * 10000)) + '.pkl'\n",
    "    #joblib.dump(model, data_folder/output)     \n",
    "    print(space_eval(param_space, best))\n",
    "    print('\\n')\n",
    "print(np.mean(aucs))"
   ]
  },
  {
   "cell_type": "code",
   "execution_count": 38,
   "metadata": {},
   "outputs": [
    {
     "name": "stdout",
     "output_type": "stream",
     "text": [
      "the AUC is : 0.9991\n",
      "the AUC is : 0.7644\n"
     ]
    }
   ],
   "source": [
    "#0.? ENS\n",
    "#0.7861 search 100\n",
    "classifier = joblib.load(data_folder/'MLP_.pkl') \n",
    "#t1 = pd.read_csv(data_folder/'irf_weight_00010.csv', names=['a','b'])\n",
    "test = pd.read_csv(data_folder/'test_redux.csv')\n",
    "#t1.drop(['a'], axis=1, inplace=True)\n",
    "#t1 = t1.drop(t1.index[:1])\n",
    "#rfc_test = test.drop(t1['b'].tolist(), axis=1)\n",
    "probas_ = classifier.predict_proba(rfc_test)[:, 1]\n",
    "classifier.get_params()"
   ]
  },
  {
   "cell_type": "code",
   "execution_count": null,
   "metadata": {
    "collapsed": true
   },
   "outputs": [],
   "source": [
    "submission = pd.DataFrame(columns={'Ids', 'TARGET'})\n",
    "submission['Ids'] = [i for i in range(26500,39750)]\n",
    "submission['TARGET'] = probas_\n",
    "submission = submission[['Ids', 'TARGET']]\n",
    "submission.to_csv(data_folder/'submission.csv', sep=';', index=False, header={'Ids', 'TARGET'})"
   ]
  },
  {
   "cell_type": "code",
   "execution_count": null,
   "metadata": {
    "collapsed": true
   },
   "outputs": [],
   "source": []
  }
 ],
 "metadata": {
  "kernelspec": {
   "display_name": "Python [default]",
   "language": "python",
   "name": "python3"
  },
  "language_info": {
   "codemirror_mode": {
    "name": "ipython",
    "version": 3
   },
   "file_extension": ".py",
   "mimetype": "text/x-python",
   "name": "python",
   "nbconvert_exporter": "python",
   "pygments_lexer": "ipython3",
   "version": "3.6.3"
  }
 },
 "nbformat": 4,
 "nbformat_minor": 2
}
