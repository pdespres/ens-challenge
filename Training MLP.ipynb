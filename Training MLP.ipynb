{
 "cells": [
  {
   "cell_type": "code",
   "execution_count": 1,
   "metadata": {},
   "outputs": [
    {
     "name": "stdout",
     "output_type": "stream",
     "text": [
      "(26495, 8065) (26495, 1)\n"
     ]
    }
   ],
   "source": [
    "import pandas as pd\n",
    "import numpy as np\n",
    "from pathlib import Path\n",
    "\n",
    "#data_folder = Path('/sgoinfre/goinfre/Perso/pdespres/data/')\n",
    "data_folder = Path('E:/Downloads/')\n",
    "#data_folder = Path('/sgoinfre/goinfre/Perso/pdespres/data/')\n",
    "\n",
    "df = pd.read_csv(data_folder/'train2_irf_0000_corr98.csv', \\\n",
    "                 dtype='int8')\n",
    "y = pd.read_csv(data_folder/'y2.csv', \\\n",
    "                sep=';', usecols=[1], dtype='int8')\n",
    "\n",
    "print(df.shape, y.shape)"
   ]
  },
  {
   "cell_type": "code",
   "execution_count": 2,
   "metadata": {},
   "outputs": [],
   "source": [
    "import pandas as pd\n",
    "from keras.models import load_model\n",
    "from sklearn.metrics import roc_auc_score\n",
    "\n",
    "#best_model_14-0.778.h5 test_irf_0000_corr98\n",
    "#best_model_10-0.763.h5 train2_irf_0000_corr98\n",
    "file = 'E:\\\\Downloads\\\\best_model_07-0.763.h5'\n",
    "test = pd.read_csv('E:\\\\Downloads\\\\test_irf_0000_corr98.csv', dtype='int8')\n",
    "model = load_model(file)\n",
    "valid_preds = model.predict_proba(test, verbose=0)\n",
    "\n",
    "#roc = roc_auc_score(y, valid_preds)\n",
    "#print(roc)"
   ]
  },
  {
   "cell_type": "code",
   "execution_count": 3,
   "metadata": {
    "collapsed": true
   },
   "outputs": [],
   "source": [
    "submission = pd.DataFrame(columns={'Ids', 'TARGET'})\n",
    "submission['Ids'] = [i for i in range(26500,39750)]\n",
    "submission['TARGET'] = valid_preds\n",
    "submission = submission[['Ids', 'TARGET']]\n",
    "submission.to_csv(\"E:\\\\Downloads\\\\submission.csv\", sep=';', index=False, header={'Ids', 'TARGET'})"
   ]
  },
  {
   "cell_type": "code",
   "execution_count": 3,
   "metadata": {
    "scrolled": false
   },
   "outputs": [
    {
     "name": "stdout",
     "output_type": "stream",
     "text": [
      "Train on 18546 samples, validate on 7949 samples\n",
      "Epoch 1/80\n",
      "18546/18546 [==============================] - 4s 198us/step - loss: 1.4018 - acc: 0.6116 - val_loss: 0.7815 - val_acc: 0.6985\n",
      "Epoch 2/80\n",
      "18546/18546 [==============================] - 3s 175us/step - loss: 0.6941 - acc: 0.7057 - val_loss: 0.6206 - val_acc: 0.7096\n",
      "Epoch 3/80\n",
      "18546/18546 [==============================] - 3s 176us/step - loss: 0.5827 - acc: 0.7265 - val_loss: 0.5728 - val_acc: 0.7227\n",
      "Epoch 4/80\n",
      "18546/18546 [==============================] - 3s 176us/step - loss: 0.5547 - acc: 0.7129 - val_loss: 0.5322 - val_acc: 0.7564\n",
      "Epoch 5/80\n",
      "18546/18546 [==============================] - 3s 176us/step - loss: 0.5184 - acc: 0.7302 - val_loss: 0.5286 - val_acc: 0.7410\n",
      "Epoch 6/80\n",
      "18546/18546 [==============================] - 3s 176us/step - loss: 0.5095 - acc: 0.7332 - val_loss: 0.5038 - val_acc: 0.7620\n",
      "Epoch 7/80\n",
      "18546/18546 [==============================] - 3s 177us/step - loss: 0.5095 - acc: 0.7343 - val_loss: 0.5041 - val_acc: 0.7630\n",
      "Epoch 8/80\n",
      "18546/18546 [==============================] - 3s 177us/step - loss: 0.4833 - acc: 0.7474 - val_loss: 0.4999 - val_acc: 0.7591\n",
      "Epoch 9/80\n",
      "18546/18546 [==============================] - 3s 183us/step - loss: 0.4819 - acc: 0.7518 - val_loss: 0.5155 - val_acc: 0.7553\n",
      "Epoch 10/80\n",
      "18546/18546 [==============================] - 3s 176us/step - loss: 0.4778 - acc: 0.7527 - val_loss: 0.4950 - val_acc: 0.7622\n",
      "Epoch 11/80\n",
      "18546/18546 [==============================] - 3s 176us/step - loss: 0.4688 - acc: 0.7561 - val_loss: 0.5136 - val_acc: 0.7536\n",
      "Epoch 12/80\n",
      "18546/18546 [==============================] - 3s 177us/step - loss: 0.4661 - acc: 0.7545 - val_loss: 0.5223 - val_acc: 0.7460\n",
      "Epoch 00012: early stopping\n",
      "0.8328396215974139\n"
     ]
    }
   ],
   "source": [
    "from keras.wrappers.scikit_learn import KerasClassifier\n",
    "from sklearn.model_selection import cross_val_score\n",
    "from keras.models import Sequential\n",
    "from keras.layers import Dense, Dropout, GaussianNoise\n",
    "from keras import regularizers\n",
    "from keras.callbacks import EarlyStopping, ModelCheckpoint\n",
    "from sklearn.metrics import roc_auc_score\n",
    "from sklearn.model_selection import train_test_split\n",
    "from sklearn.model_selection import StratifiedKFold\n",
    "\n",
    "X_train, X_test, y_train, y_test = train_test_split(df, y, test_size=.3, stratify=y)\n",
    "\n",
    "def build_classifier():\n",
    "    classifier = Sequential()\n",
    "    classifier.add(Dense(units = 512, kernel_initializer = 'lecun_uniform', activation = 'relu', input_dim = X_train.shape[1]))\n",
    "    classifier.add(Dropout(0.5))\n",
    "    classifier.add(Dense(units = 256, kernel_initializer = 'lecun_uniform', kernel_regularizer=regularizers.l2(0.01), activation = 'relu'))\n",
    "#    classifier.add(GaussianNoise(stddev=0.01))\n",
    "    classifier.add(Dense(units = 128, kernel_initializer = 'lecun_uniform', activation = 'relu'))\n",
    "    classifier.add(Dense(units = 1, kernel_initializer = 'lecun_uniform', activation = 'sigmoid'))\n",
    "    classifier.compile(optimizer = 'adam', loss = 'binary_crossentropy', metrics = ['accuracy'])\n",
    "    return classifier\n",
    "\n",
    "av_roc = 0.\n",
    "callbacks = [EarlyStopping(monitor='val_acc', patience=5, verbose=1), \\\n",
    "                ModelCheckpoint(filepath='E:\\\\Downloads\\\\best_model_{epoch:02d}-{val_acc:.3f}.h5', \\\n",
    "                monitor='val_acc', save_best_only=True)]\n",
    "\n",
    "#classifier = KerasClassifier(build_fn = build_classifier, epochs=100, batch_size=300)\n",
    "classifier = build_classifier()\n",
    "classifier.fit(X_train, y_train, validation_data=(X_test, y_test), shuffle=True, \\\n",
    "               epochs=80, batch_size=100, callbacks=callbacks)\n",
    "\n",
    "#valid_preds = classifier.predict_proba(X_test, verbose=0)[:, 1]\n",
    "valid_preds = classifier.predict_proba(X_test, verbose=0)\n",
    "\n",
    "roc = roc_auc_score(y_test, valid_preds)\n",
    "print(roc)\n",
    "\n",
    "#valid_preds = classifier.predict_proba(X_test, verbose=0)\n",
    "#valid_preds = valid_preds[:, 1]\n",
    "#roc = roc_auc_score(y_test, valid_preds)\n",
    "#print(\"ROC:\", roc)\n",
    "#av_roc += roc\n",
    "\n",
    "#print('Average ROC:', av_roc/nb_folds)"
   ]
  },
  {
   "cell_type": "code",
   "execution_count": 4,
   "metadata": {},
   "outputs": [
    {
     "name": "stdout",
     "output_type": "stream",
     "text": [
      "0.8880916926131492\n",
      "0.8858377908059781\n",
      "0.8823500460897802\n",
      "0.8877472032112951\n",
      "0.887038011296083\n",
      "0.8908562912971028\n",
      "0.8890624529233307\n",
      "0.8965034636840435\n",
      "0.8768219395240071\n",
      "0.89962500898078\n",
      "0.8880280136467863\n"
     ]
    }
   ],
   "source": [
    "import pandas as pd\n",
    "import numpy as np\n",
    "from pathlib import Path\n",
    "from keras.models import load_model\n",
    "from sklearn.metrics import roc_curve, auc\n",
    "from sklearn.model_selection import train_test_split\n",
    "from scipy import interp\n",
    "\n",
    "#best_model_14-0.778.h5 test_irf_0000_corr98\n",
    "file = 'E:\\\\Downloads\\\\best_model_07-0.763.h5'\n",
    "classifier = load_model(file)\n",
    "\n",
    "kfold = StratifiedKFold(n_splits=10, shuffle=True, random_state=42)\n",
    "aucs = []\n",
    "tprs = []\n",
    "mean_fpr = np.linspace(0, 1, 100)\n",
    "\n",
    "for train_index, test_index in kfold.split(df, y):\n",
    "    #classifier.fit(df.iloc[train_index], y.iloc[train_index], validation_data=(df.iloc[test_index], y.iloc[test_index]), epochs=100, batch_size=180, callbacks=callbacks)\n",
    "    valid_preds = classifier.predict_proba(df.iloc[test_index], verbose=0)#[:, 1]\n",
    "\n",
    "#    results = cross_val_score(classifier, df, y, cv=kfold, scoring = 'roc_auc', fit_params={'callbacks': callbacks})\n",
    "    fpr, tpr,_ = roc_curve(y.iloc[test_index], valid_preds)\n",
    "\n",
    "    tprs.append(interp(mean_fpr, fpr, tpr))\n",
    "    tprs[-1][0] = 0.0\n",
    "    roc_auc = auc(fpr, tpr)\n",
    "    print(roc_auc)\n",
    "    aucs.append(roc_auc)\n",
    "    \n",
    "mean_tpr = np.mean(tprs, axis=0)\n",
    "mean_tpr[-1] = 1.0\n",
    "mean_auc = auc(mean_fpr, mean_tpr)\n",
    "print(mean_auc)"
   ]
  },
  {
   "cell_type": "code",
   "execution_count": null,
   "metadata": {
    "collapsed": true
   },
   "outputs": [],
   "source": []
  }
 ],
 "metadata": {
  "kernelspec": {
   "display_name": "Python [conda env:tensorflow]",
   "language": "python",
   "name": "conda-env-tensorflow-py"
  },
  "language_info": {
   "codemirror_mode": {
    "name": "ipython",
    "version": 3
   },
   "file_extension": ".py",
   "mimetype": "text/x-python",
   "name": "python",
   "nbconvert_exporter": "python",
   "pygments_lexer": "ipython3",
   "version": "3.5.5"
  }
 },
 "nbformat": 4,
 "nbformat_minor": 2
}
