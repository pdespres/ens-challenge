{
 "cells": [
  {
   "cell_type": "code",
   "execution_count": 17,
   "metadata": {},
   "outputs": [
    {
     "name": "stdout",
     "output_type": "stream",
     "text": [
      "(26495, 8065) (26495, 1)\n"
     ]
    }
   ],
   "source": [
    "import pandas as pd\n",
    "import numpy as np\n",
    "\n",
    "df = pd.read_csv('E:\\\\Downloads\\\\train2_irf_0000_corr98.csv', dtype='int8')\n",
    "#y = pd.read_csv('E:\\\\Downloads\\\\y2.csv', sep=';', usecols=[1], dtype='int8').values.ravel()\n",
    "y = pd.read_csv('E:\\\\Downloads\\\\y2.csv', sep=';', usecols=[1], dtype='int8')\n",
    "\n",
    "print(df.shape, y.shape)"
   ]
  },
  {
   "cell_type": "code",
   "execution_count": 21,
   "metadata": {},
   "outputs": [],
   "source": [
    "from keras.models import load_model\n",
    "from sklearn.metrics import roc_auc_score\n",
    "from sklearn.model_selection import train_test_split\n",
    "#best_model_14-0.778.h5 test_irf_0000_corr98\n",
    "file = 'E:\\\\Downloads\\\\best_model_14-0.778.h5'\n",
    "test = pd.read_csv('E:\\\\Downloads\\\\test_irf_0000_corr98.csv', dtype='int8')\n",
    "model = load_model(file)\n",
    "valid_preds = model.predict_proba(test, verbose=0)\n",
    "\n",
    "#roc = roc_auc_score(y, valid_preds)\n",
    "#print(roc)"
   ]
  },
  {
   "cell_type": "code",
   "execution_count": 22,
   "metadata": {},
   "outputs": [],
   "source": [
    "submission = pd.DataFrame(columns={'Ids', 'TARGET'})\n",
    "submission['Ids'] = [i for i in range(26500,39750)]\n",
    "submission['TARGET'] = valid_preds\n",
    "submission.to_csv(\"E:\\\\Downloads\\\\submission.csv\", sep=';', index=False, header={'Ids', 'TARGET'})"
   ]
  },
  {
   "cell_type": "code",
   "execution_count": 26,
   "metadata": {
    "scrolled": false
   },
   "outputs": [
    {
     "name": "stdout",
     "output_type": "stream",
     "text": [
      "Train on 18546 samples, validate on 7949 samples\n",
      "Epoch 1/80\n",
      "18546/18546 [==============================] - 3s 186us/step - loss: 0.7590 - acc: 0.5245 - val_loss: 0.6672 - val_acc: 0.5948\n",
      "Epoch 2/80\n",
      "18546/18546 [==============================] - 2s 121us/step - loss: 0.6241 - acc: 0.6529 - val_loss: 0.5875 - val_acc: 0.6948\n",
      "Epoch 3/80\n",
      "18546/18546 [==============================] - 2s 122us/step - loss: 0.5509 - acc: 0.7170 - val_loss: 0.5388 - val_acc: 0.7219\n",
      "Epoch 4/80\n",
      "18546/18546 [==============================] - 2s 122us/step - loss: 0.5064 - acc: 0.7525 - val_loss: 0.5079 - val_acc: 0.7479\n",
      "Epoch 5/80\n",
      "18546/18546 [==============================] - 2s 123us/step - loss: 0.4763 - acc: 0.7747 - val_loss: 0.5131 - val_acc: 0.7455\n",
      "Epoch 6/80\n",
      "18546/18546 [==============================] - 2s 121us/step - loss: 0.4446 - acc: 0.7941 - val_loss: 0.4901 - val_acc: 0.7587\n",
      "Epoch 7/80\n",
      "18546/18546 [==============================] - 2s 122us/step - loss: 0.4482 - acc: 0.7898 - val_loss: 0.4841 - val_acc: 0.7626\n",
      "Epoch 8/80\n",
      "18546/18546 [==============================] - 2s 121us/step - loss: 0.4030 - acc: 0.8203 - val_loss: 0.5071 - val_acc: 0.7558\n",
      "Epoch 9/80\n",
      "18546/18546 [==============================] - 2s 121us/step - loss: 0.4388 - acc: 0.7953 - val_loss: 0.5061 - val_acc: 0.7514\n",
      "Epoch 10/80\n",
      "18546/18546 [==============================] - 2s 121us/step - loss: 0.3931 - acc: 0.8228 - val_loss: 0.5080 - val_acc: 0.7612\n",
      "Epoch 11/80\n",
      "18546/18546 [==============================] - 2s 121us/step - loss: 0.3738 - acc: 0.8314 - val_loss: 0.5404 - val_acc: 0.7522\n",
      "Epoch 12/80\n",
      "18546/18546 [==============================] - 2s 121us/step - loss: 0.3706 - acc: 0.8325 - val_loss: 0.4974 - val_acc: 0.7645\n",
      "Epoch 13/80\n",
      "18546/18546 [==============================] - 2s 122us/step - loss: 0.3780 - acc: 0.8279 - val_loss: 0.5063 - val_acc: 0.7605\n",
      "Epoch 14/80\n",
      "18546/18546 [==============================] - 2s 121us/step - loss: 0.3400 - acc: 0.8500 - val_loss: 0.5175 - val_acc: 0.7567\n",
      "Epoch 15/80\n",
      "18546/18546 [==============================] - 2s 120us/step - loss: 0.3189 - acc: 0.8611 - val_loss: 0.5240 - val_acc: 0.7637\n",
      "Epoch 16/80\n",
      "18546/18546 [==============================] - 2s 121us/step - loss: 0.3789 - acc: 0.8289 - val_loss: 0.5295 - val_acc: 0.7515\n",
      "Epoch 17/80\n",
      "18546/18546 [==============================] - 2s 121us/step - loss: 0.3556 - acc: 0.8375 - val_loss: 0.5220 - val_acc: 0.7606\n",
      "Epoch 18/80\n",
      "18546/18546 [==============================] - 2s 121us/step - loss: 0.3253 - acc: 0.8570 - val_loss: 0.4917 - val_acc: 0.7653\n",
      "Epoch 19/80\n",
      "18546/18546 [==============================] - 2s 121us/step - loss: 0.3127 - acc: 0.8602 - val_loss: 0.5402 - val_acc: 0.7580\n",
      "Epoch 20/80\n",
      "18546/18546 [==============================] - 2s 121us/step - loss: 0.2673 - acc: 0.8881 - val_loss: 0.5857 - val_acc: 0.7582\n",
      "Epoch 21/80\n",
      "18546/18546 [==============================] - 2s 121us/step - loss: 0.2558 - acc: 0.8939 - val_loss: 0.6840 - val_acc: 0.7454\n",
      "Epoch 22/80\n",
      "18546/18546 [==============================] - 2s 121us/step - loss: 0.2830 - acc: 0.8809 - val_loss: 0.5511 - val_acc: 0.7670\n",
      "Epoch 23/80\n",
      "18546/18546 [==============================] - 2s 121us/step - loss: 0.2701 - acc: 0.8819 - val_loss: 0.5885 - val_acc: 0.7597\n",
      "Epoch 24/80\n",
      "18546/18546 [==============================] - 2s 121us/step - loss: 0.2276 - acc: 0.9067 - val_loss: 0.6650 - val_acc: 0.7600\n",
      "Epoch 25/80\n",
      "18546/18546 [==============================] - 2s 121us/step - loss: 0.1808 - acc: 0.9301 - val_loss: 0.5826 - val_acc: 0.7551\n",
      "Epoch 26/80\n",
      "18546/18546 [==============================] - 2s 121us/step - loss: 0.1865 - acc: 0.9228 - val_loss: 0.7123 - val_acc: 0.7468\n",
      "Epoch 27/80\n",
      "18546/18546 [==============================] - 2s 120us/step - loss: 0.1129 - acc: 0.9594 - val_loss: 0.7817 - val_acc: 0.7344\n",
      "Epoch 28/80\n",
      "18546/18546 [==============================] - 2s 121us/step - loss: 0.1368 - acc: 0.9477 - val_loss: 0.7853 - val_acc: 0.7440\n",
      "Epoch 00028: early stopping\n",
      "0.831601840793971\n"
     ]
    }
   ],
   "source": [
    "from keras.wrappers.scikit_learn import KerasClassifier\n",
    "from sklearn.model_selection import cross_val_score\n",
    "from keras.models import Sequential\n",
    "from keras.layers import Dense, Dropout, GaussianNoise\n",
    "from keras.callbacks import EarlyStopping, ModelCheckpoint\n",
    "from sklearn.metrics import roc_auc_score\n",
    "from sklearn.model_selection import train_test_split\n",
    "from sklearn.model_selection import StratifiedKFold\n",
    "\n",
    "X_train, X_test, y_train, y_test = train_test_split(df, y, test_size=.3, stratify=y)\n",
    "\n",
    "def build_classifier():\n",
    "    classifier = Sequential()\n",
    "    classifier.add(Dense(units = 1024, kernel_initializer = 'lecun_uniform', activation = 'relu', input_dim = X_train.shape[1]))\n",
    "    classifier.add(Dropout(0.1))\n",
    "#    classifier.add(Dense(units = 1024, kernel_initializer = 'lecun_uniform', activation = 'relu'))\n",
    "#    classifier.add(Dense(units = 512, kernel_initializer = 'lecun_uniform', activation = 'relu'))\n",
    "    classifier.add(Dense(units = 256, kernel_initializer = 'lecun_uniform', activation = 'relu'))\n",
    "    classifier.add(GaussianNoise(stddev=0.01))\n",
    "    classifier.add(Dense(units = 128, kernel_initializer = 'lecun_uniform', activation = 'relu'))\n",
    "    classifier.add(Dense(units = 64, kernel_initializer = 'lecun_uniform', activation = 'relu'))\n",
    "    classifier.add(Dense(units = 1, kernel_initializer = 'lecun_uniform', activation = 'sigmoid'))\n",
    "    classifier.compile(optimizer = 'adam', loss = 'binary_crossentropy', metrics = ['accuracy'])\n",
    "    return classifier\n",
    "\n",
    "av_roc = 0.\n",
    "callbacks = [EarlyStopping(monitor='val_acc', patience=6, verbose=1), ModelCheckpoint(filepath='E:\\\\Downloads\\\\best_model_{epoch:02d}-{val_acc:.3f}.h5', monitor='val_acc', save_best_only=True)]\n",
    "\n",
    "#classifier = KerasClassifier(build_fn = build_classifier, epochs=100, batch_size=300)\n",
    "classifier = build_classifier()\n",
    "classifier.fit(X_train, y_train, validation_data=(X_test, y_test), shuffle=True, epochs=80, batch_size=750, callbacks=callbacks)\n",
    "\n",
    "#valid_preds = classifier.predict_proba(X_test, verbose=0)[:, 1]\n",
    "valid_preds = classifier.predict_proba(X_test, verbose=0)\n",
    "\n",
    "roc = roc_auc_score(y_test, valid_preds)\n",
    "print(roc)\n",
    "\n",
    "#valid_preds = classifier.predict_proba(X_test, verbose=0)\n",
    "#valid_preds = valid_preds[:, 1]\n",
    "#roc = roc_auc_score(y_test, valid_preds)\n",
    "#print(\"ROC:\", roc)\n",
    "#av_roc += roc\n",
    "\n",
    "#print('Average ROC:', av_roc/nb_folds)"
   ]
  },
  {
   "cell_type": "code",
   "execution_count": 8,
   "metadata": {},
   "outputs": [
    {
     "ename": "NameError",
     "evalue": "name 'model' is not defined",
     "output_type": "error",
     "traceback": [
      "\u001b[1;31m---------------------------------------------------------------------------\u001b[0m",
      "\u001b[1;31mNameError\u001b[0m                                 Traceback (most recent call last)",
      "\u001b[1;32m<ipython-input-8-c097209d2e6d>\u001b[0m in \u001b[0;36m<module>\u001b[1;34m()\u001b[0m\n\u001b[1;32m----> 1\u001b[1;33m \u001b[0mpreds\u001b[0m \u001b[1;33m=\u001b[0m \u001b[0mmodel\u001b[0m\u001b[1;33m.\u001b[0m\u001b[0mpredict_proba\u001b[0m\u001b[1;33m(\u001b[0m\u001b[0mX_test\u001b[0m\u001b[1;33m,\u001b[0m \u001b[0mverbose\u001b[0m\u001b[1;33m=\u001b[0m\u001b[1;36m0\u001b[0m\u001b[1;33m)\u001b[0m\u001b[1;33m[\u001b[0m\u001b[1;33m:\u001b[0m\u001b[1;33m,\u001b[0m \u001b[1;36m1\u001b[0m\u001b[1;33m]\u001b[0m\u001b[1;33m\u001b[0m\u001b[0m\n\u001b[0m\u001b[0;32m      2\u001b[0m \u001b[0msubmission\u001b[0m \u001b[1;33m=\u001b[0m \u001b[0mpd\u001b[0m\u001b[1;33m.\u001b[0m\u001b[0mDataFrame\u001b[0m\u001b[1;33m(\u001b[0m\u001b[0mpreds\u001b[0m\u001b[1;33m,\u001b[0m \u001b[0mindex\u001b[0m\u001b[1;33m=\u001b[0m\u001b[0mids\u001b[0m\u001b[1;33m,\u001b[0m \u001b[0mcolumns\u001b[0m\u001b[1;33m=\u001b[0m\u001b[1;33m[\u001b[0m\u001b[1;34m'target'\u001b[0m\u001b[1;33m]\u001b[0m\u001b[1;33m)\u001b[0m\u001b[1;33m\u001b[0m\u001b[0m\n\u001b[0;32m      3\u001b[0m \u001b[0msubmission\u001b[0m\u001b[1;33m.\u001b[0m\u001b[0mto_csv\u001b[0m\u001b[1;33m(\u001b[0m\u001b[1;34m'Keras_BTB.csv'\u001b[0m\u001b[1;33m)\u001b[0m\u001b[1;33m\u001b[0m\u001b[0m\n",
      "\u001b[1;31mNameError\u001b[0m: name 'model' is not defined"
     ]
    }
   ],
   "source": [
    "    preds = model.predict_proba(X_test, verbose=0)[:, 1]\n",
    "    submission = pd.DataFrame(preds, index=ids, columns=['target'])\n",
    "    submission.to_csv('Keras_BTB.csv')    "
   ]
  },
  {
   "cell_type": "code",
   "execution_count": null,
   "metadata": {
    "collapsed": true
   },
   "outputs": [],
   "source": [
    "kfold = StratifiedKFold(n_splits=3, shuffle=True, random_state=42)\n",
    "aucs = []\n",
    "tprs = []\n",
    "mean_fpr = np.linspace(0, 1, 100)\n",
    "\n",
    "for train_index, test_index in kfold.split(df, y):\n",
    "        classifier.fit(df.iloc[train_index], y.iloc[train_index], validation_data=(df.iloc[test_index], y.iloc[test_index]), epochs=100, batch_size=180, callbacks=callbacks)\n",
    "    valid_preds = classifier.predict_proba(df.iloc[test_index], verbose=0)[:, 1]\n",
    "    \n",
    "    results = cross_val_score(classifier, df, y, cv=kfold, scoring = 'roc_auc', fit_params={'callbacks': callbacks})\n",
    "    fpr, tpr, thresholds = roc_curve(y.iloc[test_index], probas_)\n",
    "    tprs.append(interp(mean_fpr, fpr, tpr))\n",
    "    tprs[-1][0] = 0.0\n",
    "    roc_auc = auc(fpr, tpr)\n",
    "    aucs.append(roc_auc)\n",
    "    \n",
    "mean_tpr = np.mean(tprs, axis=0)\n",
    "mean_tpr[-1] = 1.0\n",
    "mean_auc = auc(mean_fpr, mean_tpr)\n"
   ]
  }
 ],
 "metadata": {
  "kernelspec": {
   "display_name": "Python [conda env:tensorflow]",
   "language": "python",
   "name": "conda-env-tensorflow-py"
  },
  "language_info": {
   "codemirror_mode": {
    "name": "ipython",
    "version": 3
   },
   "file_extension": ".py",
   "mimetype": "text/x-python",
   "name": "python",
   "nbconvert_exporter": "python",
   "pygments_lexer": "ipython3",
   "version": "3.5.5"
  }
 },
 "nbformat": 4,
 "nbformat_minor": 2
}
