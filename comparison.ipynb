{
 "cells": [
  {
   "cell_type": "code",
   "execution_count": 17,
   "metadata": {},
   "outputs": [
    {
     "name": "stdout",
     "output_type": "stream",
     "text": [
      "Datas loaded\n"
     ]
    }
   ],
   "source": [
    "import pandas as pd\n",
    "import numpy as np\n",
    "from sklearn.model_selection import train_test_split\n",
    "\n",
    "def loadData():\n",
    "    #df = pd.read_csv('/sgoinfre/goinfre/Perso/pdespres/ensdata/train_redux.csv')\n",
    "    #y = pd.read_csv('/sgoinfre/goinfre/Perso/pdespres/ensdata/y.csv', sep=';', usecols=[1])\n",
    "    df = pd.read_csv('~/Downloads/train_concat_95_00001.csv')\n",
    "    y = pd.read_csv('~/Downloads/y.csv', sep=';', usecols=[1])\n",
    "    #df = pd.read_csv('E:\\\\Downloads\\\\train_redux.csv', nrows=10000)\n",
    "    #df = pd.read_csv('E:\\\\Downloads\\\\train_concat_95_00001.csv', nrows=300)\n",
    "    #y = pd.read_csv('E:\\\\Downloads\\\\y.csv', sep=';', usecols=[1], nrows=300)\n",
    "    print(\"Datas loaded\")\n",
    "    return df, y\n",
    "\n",
    "df, y = loadData()\n",
    "X_train, X_test, y_train, y_test = train_test_split(df, y.values.ravel(), test_size=.33)"
   ]
  },
  {
   "cell_type": "code",
   "execution_count": null,
   "metadata": {},
   "outputs": [
    {
     "name": "stdout",
     "output_type": "stream",
     "text": [
      "86 Linear SVM score: 0.67 ROC AUC: 0.73\n",
      "86 RBF SVM score: 0.73 ROC AUC: 0.81\n",
      "86 Logistic Regression score: 0.68 ROC AUC: 0.75\n",
      "87 Linear SVM score: 0.67 ROC AUC: 0.73\n",
      "87 RBF SVM score: 0.73 ROC AUC: 0.80\n",
      "87 Logistic Regression score: 0.68 ROC AUC: 0.74\n",
      "88 Linear SVM score: 0.69 ROC AUC: 0.75\n",
      "88 RBF SVM score: 0.74 ROC AUC: 0.81\n",
      "88 Logistic Regression score: 0.70 ROC AUC: 0.76\n",
      "89 Linear SVM score: 0.68 ROC AUC: 0.74\n",
      "89 RBF SVM score: 0.72 ROC AUC: 0.81\n",
      "89 Logistic Regression score: 0.68 ROC AUC: 0.75\n",
      "90 Linear SVM score: 0.68 ROC AUC: 0.75\n",
      "90 RBF SVM score: 0.74 ROC AUC: 0.81\n",
      "90 Logistic Regression score: 0.70 ROC AUC: 0.76\n",
      "91 Linear SVM score: 0.69 ROC AUC: 0.75\n",
      "91 RBF SVM score: 0.74 ROC AUC: 0.80\n",
      "91 Logistic Regression score: 0.69 ROC AUC: 0.76\n",
      "92 Linear SVM score: 0.69 ROC AUC: 0.75\n",
      "92 RBF SVM score: 0.73 ROC AUC: 0.79\n",
      "92 Logistic Regression score: 0.69 ROC AUC: 0.76\n",
      "93 Linear SVM score: 0.67 ROC AUC: 0.73\n",
      "93 RBF SVM score: 0.74 ROC AUC: 0.81\n",
      "93 Logistic Regression score: 0.68 ROC AUC: 0.75\n",
      "94 Linear SVM score: 0.68 ROC AUC: 0.75\n",
      "94 RBF SVM score: 0.74 ROC AUC: 0.80\n",
      "94 Logistic Regression score: 0.69 ROC AUC: 0.76\n",
      "95 Linear SVM score: 0.68 ROC AUC: 0.74\n",
      "95 RBF SVM score: 0.73 ROC AUC: 0.80\n",
      "95 Logistic Regression score: 0.70 ROC AUC: 0.75\n",
      "96 Linear SVM score: 0.69 ROC AUC: 0.75\n",
      "96 RBF SVM score: 0.74 ROC AUC: 0.81\n",
      "96 Logistic Regression score: 0.70 ROC AUC: 0.76\n"
     ]
    }
   ],
   "source": [
    "from sklearn.svm import SVC\n",
    "from sklearn.ensemble import RandomForestClassifier, AdaBoostClassifier\n",
    "from sklearn.naive_bayes import GaussianNB\n",
    "from sklearn.linear_model import LogisticRegression\n",
    "from sklearn.metrics import roc_curve\n",
    "from sklearn.metrics import auc\n",
    "import pandas as pd\n",
    "import numpy as np\n",
    "from sklearn.model_selection import train_test_split\n",
    "\n",
    "y = pd.read_csv('E:\\\\Downloads\\\\y.csv', sep=';', usecols=[1], nrows=10000)\n",
    "\n",
    "for i in range(86,100):\n",
    "    name = 'E:\\\\Downloads\\\\train_correlated_' + str(i) + '.csv'\n",
    "    df = pd.read_csv(name, nrows=10000)\n",
    "    X_train, X_test, y_train, y_test = train_test_split(df, y.values.ravel(), test_size=.35)\n",
    "    \n",
    "    names = [\"Linear SVM\", \"RBF SVM\", \"Logistic Regression\"]\n",
    "    classifiers = [\n",
    "        SVC(kernel=\"linear\"),\n",
    "        SVC(),\n",
    "        LogisticRegression()]\n",
    "    # iterate over classifiers\n",
    "    for name, clf in zip(names, classifiers):\n",
    "        clf.fit(X_train, y_train)\n",
    "        score = clf.score(X_test, y_test)\n",
    "\n",
    "        # Determine the false positive and true positive rates\n",
    "        if hasattr(clf, \"predict_proba\"):\n",
    "            prob_pos = clf.predict_proba(X_test)[:, 1]\n",
    "        else:  # use decision function\n",
    "            prob_pos = clf.decision_function(X_test)\n",
    "        fpr, tpr, _ = roc_curve(y_test, prob_pos)\n",
    "\n",
    "        # Calculate the AUC\n",
    "        roc_auc = auc(fpr, tpr)\n",
    "        print('%s %s score: %0.2f ROC AUC: %0.2f' % (str(i), name, score, roc_auc))\n"
   ]
  },
  {
   "cell_type": "code",
   "execution_count": null,
   "metadata": {
    "collapsed": true
   },
   "outputs": [],
   "source": [
    "from sklearn.svm import SVC\n",
    "from sklearn.ensemble import RandomForestClassifier, AdaBoostClassifier\n",
    "from sklearn.naive_bayes import GaussianNB\n",
    "from sklearn.linear_model import LogisticRegression\n",
    "from sklearn.metrics import roc_curve\n",
    "from sklearn.metrics import roc_auc_score\n",
    "from sklearn.metrics import auc\n",
    "import matplotlib.pyplot as plt\n",
    "\n",
    "names = [\"Linear SVM\", \"RBF SVM\", \n",
    "         \"Random Forest\", \"AdaBoost\",\n",
    "         \"Naive Bayes\", \"Logistic Regression\"]\n",
    "names = [\"RBF SVM\"]\n",
    "#svm.SVC(kernel='poly', degree=3, C=C))\n",
    "classifiers = [\n",
    "    SVC(kernel=\"linear\", C=1, random_state=42),\n",
    "    SVC(random_state=42),\n",
    "    RandomForestClassifier(n_estimators=200, random_state=42),\n",
    "    AdaBoostClassifier(),\n",
    "    GaussianNB(),\n",
    "    LogisticRegression()]\n",
    "classifiers = [SVC(random_state=42)]\n",
    "plt.figure(1)\n",
    "plt.plot([0, 1], [0, 1], 'k--')\n",
    "\n",
    "# iterate over classifiers\n",
    "for name, clf in zip(names, classifiers):\n",
    "    clf.fit(X_train, y_train)\n",
    "    score = clf.score(X_test, y_test)\n",
    "    \n",
    "    # Determine the false positive and true positive rates\n",
    "    if hasattr(clf, \"predict_proba\"):\n",
    "        prob_pos = clf.predict_proba(X_test)[:, 1]\n",
    "    else:  # use decision function\n",
    "        prob_pos = clf.decision_function(X_test)\n",
    "    fpr, tpr, _ = roc_curve(y_test, prob_pos)\n",
    "    \n",
    "    # Calculate the AUC\n",
    "    roc_auc = auc(fpr, tpr)\n",
    "    #print(roc_auc_score(y_test, clf.decision_function(X_test)))\n",
    "    print('%s score: %0.3f ROC AUC: %0.3f' % (name, score, roc_auc))\n",
    "\n",
    "    plt.plot(fpr, tpr, label=name)\n",
    "    \n",
    "plt.xlabel('False positive rate')\n",
    "plt.ylabel('True positive rate')\n",
    "plt.title('ROC curve')\n",
    "plt.legend(loc='best')\n",
    "plt.show()"
   ]
  },
  {
   "cell_type": "code",
   "execution_count": 6,
   "metadata": {},
   "outputs": [
    {
     "data": {
      "text/plain": [
       "(26500, 4146)"
      ]
     },
     "execution_count": 6,
     "metadata": {},
     "output_type": "execute_result"
    }
   ],
   "source": [
    "df.shape"
   ]
  },
  {
   "cell_type": "code",
   "execution_count": null,
   "metadata": {
    "collapsed": true
   },
   "outputs": [],
   "source": []
  }
 ],
 "metadata": {
  "kernelspec": {
   "display_name": "Python 3",
   "language": "python",
   "name": "python3"
  },
  "language_info": {
   "codemirror_mode": {
    "name": "ipython",
    "version": 3
   },
   "file_extension": ".py",
   "mimetype": "text/x-python",
   "name": "python",
   "nbconvert_exporter": "python",
   "pygments_lexer": "ipython3",
   "version": "3.6.3"
  }
 },
 "nbformat": 4,
 "nbformat_minor": 2
}
