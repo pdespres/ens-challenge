{
 "cells": [
  {
   "cell_type": "code",
   "execution_count": 2,
   "metadata": {},
   "outputs": [
    {
     "name": "stdout",
     "output_type": "stream",
     "text": [
      "(100, 18124)\n"
     ]
    }
   ],
   "source": [
    "import pandas as pd\n",
    "import numpy as np\n",
    "\n",
    "#df = pd.read_csv('E:\\\\Downloads\\\\train2_irf_0000_corr98.csv', dtype='int8')\n",
    "df = pd.read_csv('/sgoinfre/goinfre/Perso/pdespres/data/train_redux2.csv', \\\n",
    "                 dtype='int8', nrows=100)\n",
    "\n",
    "df_rf = df\n",
    "df_rl = df\n",
    "df_svc = df\n",
    "df_xgb = df\n",
    "df_mlp = df\n",
    "\n",
    "print('df-rf ' + str(df_rf.shape))"
   ]
  },
  {
   "cell_type": "code",
   "execution_count": null,
   "metadata": {
    "collapsed": true
   },
   "outputs": [],
   "source": []
  }
 ],
 "metadata": {
  "kernelspec": {
   "display_name": "Python [default]",
   "language": "python",
   "name": "python3"
  },
  "language_info": {
   "codemirror_mode": {
    "name": "ipython",
    "version": 3
   },
   "file_extension": ".py",
   "mimetype": "text/x-python",
   "name": "python",
   "nbconvert_exporter": "python",
   "pygments_lexer": "ipython3",
   "version": "3.6.3"
  }
 },
 "nbformat": 4,
 "nbformat_minor": 2
}
