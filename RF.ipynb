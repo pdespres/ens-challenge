{
 "cells": [
  {
   "cell_type": "code",
   "execution_count": 2,
   "metadata": {
    "collapsed": true
   },
   "outputs": [],
   "source": [
    "#sample_leaf_options = [5,10,50,100,200,500]\n",
    "#for leaf_size in sample_leaf_options :\n",
    "#    model = RandomForestClassifier(n_estimators= 20, oob_score = True, n_jobs = -1,random_state =42, min_samples_leaf = leaf_size)\n",
    "#    model.fit(df, y.values.ravel())\n",
    "#    print(f'Out-of-bag score estimate: {model.oob_score_:.3}')\n",
    "\n",
    "#redux features=18124 trees=200, min_samples_leaf=50 OOB 0.658\n",
    "#redux features=18124 trees=200, min_samples_leaf=1 OOB 0.661 20min 41s\n",
    "#redux features=18124 trees=200, min_samples_split=10 OOB 0.662 20min 41s\n",
    "#redux features=18124 trees=200, min_samples_split=50 OOB 0.666 18min 55s\n",
    "#redux features=18124 trees=200, min_samples_split=200 OOB 0.655 21min 36s\n",
    "#base features=18124 trees=200, min_samples_leaf=50 OOB 0.658 total: 11min 58s\n",
    "#base features=18124 trees=2000, min_samples_leaf=50 OOB 0.66 total: 1h 57min 19s\n",
    "#redux+modelreduction(0.8*mean) features=7185 trees=200, min_samples_leaf=50 OOB 0.665\n",
    "#redux+modelreduction(1*mean) features=5589 trees=200, min_samples_leaf=50 OOB 0.665\n",
    "#redux+modelreduction(1.2*mean) features=4345 trees=200, min_samples_leaf=50 OOB 0.669\n",
    "#redux+modelreduction(1.4*mean) features=3413 trees=200, min_samples_leaf=50 OOB 0.669\n",
    "#redux+modelreduction(1.6*mean) features=2614 trees=200, min_samples_leaf=50 OOB 0.67\n",
    "#redux+modelreduction(1.8*mean) features=2082 trees=200, min_samples_leaf=50 OOB 0.67\n",
    "#redux+modelreduction(2*mean) features=1685 trees=200, min_samples_leaf=50 OOB 0.672\n",
    "#redux+modelreduction(2.4*mean) features=1167 trees=200, min_samples_leaf=50 OOB 0.673\n",
    "#redux+modelreduction(2.4*mean) features=1167 trees=2000, min_samples_leaf=50 OOB 0.676 7min 30s\n",
    "#base+modelreduction(2.4*mean) features=940 trees=200, min_samples_leaf=50 OOB 0.672 37.1 s\n",
    "#base+modelreduction(2.4*mean) features=940 trees=200, min_samples_leaf=1 OOB 0.676 30.6 s\n",
    "#base+modelreduction(2.4*mean) features=940 trees=2000, min_samples_leaf=1 OOB 0.691 8min 48s\n",
    "#base+modelreduction(2.4*mean) features=940 trees=2000, min_samples_leaf=15 OOB 0.686 total: 6min 58s"
   ]
  },
  {
   "cell_type": "code",
   "execution_count": 3,
   "metadata": {},
   "outputs": [
    {
     "name": "stdout",
     "output_type": "stream",
     "text": [
      "Datas loaded\n",
      "(26500, 6279)\n"
     ]
    }
   ],
   "source": [
    "import pandas as pd\n",
    "import numpy as np\n",
    "from sklearn.ensemble import RandomForestClassifier\n",
    "import sklearn.metrics\n",
    "from sklearn.model_selection import train_test_split\n",
    "\n",
    "def loadData():\n",
    "    #df = pd.read_csv('/sgoinfre/goinfre/Perso/pdespres/ensdata/train_redux.csv')\n",
    "    #y = pd.read_csv('/sgoinfre/goinfre/Perso/pdespres/ensdata/y.csv', sep=';', usecols=[1])\n",
    "    df = pd.read_csv('E:\\\\Downloads\\\\train_concat_95_00001.csv')\n",
    "    y = pd.read_csv('E:\\\\Downloads\\\\y.csv', sep=';', usecols=[1])\n",
    "    print(\"Datas loaded\")\n",
    "    return df, y\n",
    "\n",
    "df, y = loadData()\n",
    "X_train, X_test, y_train, y_test = train_test_split(df, y.values.ravel(), test_size=.3)\n",
    "print(df.shape)"
   ]
  },
  {
   "cell_type": "code",
   "execution_count": 6,
   "metadata": {},
   "outputs": [
    {
     "name": "stdout",
     "output_type": "stream",
     "text": [
      "Out-of-bag score estimate: 0.659\n",
      "Wall time: 16min 3s\n"
     ]
    },
    {
     "ename": "NameError",
     "evalue": "name 'roc_curve' is not defined",
     "output_type": "error",
     "traceback": [
      "\u001b[1;31m----------------------------------------------------\u001b[0m",
      "\u001b[1;31mNameError\u001b[0m          Traceback (most recent call last)",
      "\u001b[1;32m<ipython-input-6-929594fad621>\u001b[0m in \u001b[0;36m<module>\u001b[1;34m()\u001b[0m\n\u001b[0;32m      7\u001b[0m \u001b[0mget_ipython\u001b[0m\u001b[1;33m(\u001b[0m\u001b[1;33m)\u001b[0m\u001b[1;33m.\u001b[0m\u001b[0mmagic\u001b[0m\u001b[1;33m(\u001b[0m\u001b[1;34m'time forest = buildforest(X_train, y_train)'\u001b[0m\u001b[1;33m)\u001b[0m\u001b[1;33m\u001b[0m\u001b[0m\n\u001b[0;32m      8\u001b[0m \u001b[0mprob_pos\u001b[0m \u001b[1;33m=\u001b[0m \u001b[0mforest\u001b[0m\u001b[1;33m.\u001b[0m\u001b[0mpredict_proba\u001b[0m\u001b[1;33m(\u001b[0m\u001b[0mX_test\u001b[0m\u001b[1;33m)\u001b[0m\u001b[1;33m[\u001b[0m\u001b[1;33m:\u001b[0m\u001b[1;33m,\u001b[0m \u001b[1;36m1\u001b[0m\u001b[1;33m]\u001b[0m\u001b[1;33m\u001b[0m\u001b[0m\n\u001b[1;32m----> 9\u001b[1;33m \u001b[0mfpr\u001b[0m\u001b[1;33m,\u001b[0m \u001b[0mtpr\u001b[0m\u001b[1;33m,\u001b[0m \u001b[0m_\u001b[0m \u001b[1;33m=\u001b[0m \u001b[0mroc_curve\u001b[0m\u001b[1;33m(\u001b[0m\u001b[0my_test\u001b[0m\u001b[1;33m,\u001b[0m \u001b[0mprob_pos\u001b[0m\u001b[1;33m)\u001b[0m\u001b[1;33m\u001b[0m\u001b[0m\n\u001b[0m\u001b[0;32m     10\u001b[0m \u001b[0mroc_auc\u001b[0m \u001b[1;33m=\u001b[0m \u001b[0mauc\u001b[0m\u001b[1;33m(\u001b[0m\u001b[0mfpr\u001b[0m\u001b[1;33m,\u001b[0m \u001b[0mtpr\u001b[0m\u001b[1;33m)\u001b[0m\u001b[1;33m\u001b[0m\u001b[0m\n\u001b[0;32m     11\u001b[0m \u001b[0mprint\u001b[0m\u001b[1;33m(\u001b[0m\u001b[1;34m'%s score: %0.2f ROC AUC: %0.2f'\u001b[0m \u001b[1;33m%\u001b[0m \u001b[1;33m(\u001b[0m\u001b[0mname\u001b[0m\u001b[1;33m,\u001b[0m \u001b[0mscore\u001b[0m\u001b[1;33m,\u001b[0m \u001b[0mroc_auc\u001b[0m\u001b[1;33m)\u001b[0m\u001b[1;33m)\u001b[0m\u001b[1;33m\u001b[0m\u001b[0m\n",
      "\u001b[1;31mNameError\u001b[0m: name 'roc_curve' is not defined"
     ]
    }
   ],
   "source": [
    "def buildforest(train, y):\n",
    "    forest = RandomForestClassifier(n_estimators=2000, oob_score=True, n_jobs=-1, min_samples_split=2, min_samples_leaf=5, random_state=42)\n",
    "    forest.fit(train, y)\n",
    "    print(f'Out-of-bag score estimate: {forest.oob_score_:.3}')\n",
    "    return forest\n",
    "\n",
    "%time forest = buildforest(X_train, y_train)\n",
    "prob_pos = forest.predict_proba(X_test)[:, 1]\n",
    "fpr, tpr, _ = roc_curve(y_test, prob_pos)\n",
    "roc_auc = auc(fpr, tpr)\n",
    "print('%s score: %0.2f ROC AUC: %0.2f' % (name, score, roc_auc))"
   ]
  },
  {
   "cell_type": "code",
   "execution_count": 5,
   "metadata": {},
   "outputs": [
    {
     "name": "stdout",
     "output_type": "stream",
     "text": [
      "(26500, 601)\n",
      "(26500, 18124)\n"
     ]
    }
   ],
   "source": [
    "from sklearn.feature_selection import SelectFromModel\n",
    "\n",
    "model = SelectFromModel(forest, threshold=\"2.4*mean\", prefit=True)\n",
    "dfmin = model.transform(df)\n",
    "print(dfmin.shape)\n",
    "print(df.shape)"
   ]
  },
  {
   "cell_type": "code",
   "execution_count": 9,
   "metadata": {},
   "outputs": [
    {
     "name": "stdout",
     "output_type": "stream",
     "text": [
      "Out-of-bag score estimate: 0.683\n",
      "CPU times: user 29.8 s, sys: 1.69 s, total: 31.5 s\n",
      "Wall time: 27.7 s\n"
     ]
    }
   ],
   "source": [
    "%time newforest = buildforest(dfmin, y)"
   ]
  },
  {
   "cell_type": "code",
   "execution_count": 6,
   "metadata": {
    "collapsed": true
   },
   "outputs": [],
   "source": [
    "importances = forest.feature_importances_\n",
    "coltodrop = []\n",
    "#std = np.std([tree.feature_importances_ for tree in forest.estimators_], axis=0)\n",
    "indices = np.argsort(importances)[::]\n",
    "\n",
    "#np.savetxt(\"/sgoinfre/goinfre/Perso/pdespres/ensdata/features_importances_2000.csv\", indices, delimiter=\",\")\n",
    "#np.savetxt('E:\\\\Downloads\\\\features_importances_2000.csv', indices, delimiter=\",\")\n",
    "for f in range(18124):\n",
    "    coltodrop.append([indices[f],importances[indices[f]]])\n",
    "    #print(\"%d. feature %d (%f)\" % (f + 1, indices[f], importances[indices[f]]*1000))\n",
    "#df.drop(df.columns[coltodrop], axis=1, inplace=True)\n",
    "#df.shape"
   ]
  },
  {
   "cell_type": "code",
   "execution_count": 24,
   "metadata": {
    "collapsed": true
   },
   "outputs": [],
   "source": [
    "dfmin.to_csv('/sgoinfre/goinfre/Perso/pdespres/ensdata/train_importance100.csv', index=False)"
   ]
  },
  {
   "cell_type": "code",
   "execution_count": 18,
   "metadata": {
    "collapsed": true
   },
   "outputs": [],
   "source": [
    "np.savetxt('E:\\\\Downloads\\\\features_importances_2000.csv', importances, delimiter=\",\")"
   ]
  },
  {
   "cell_type": "code",
   "execution_count": 7,
   "metadata": {
    "collapsed": true
   },
   "outputs": [],
   "source": [
    "test = pd.DataFrame(coltodrop)\n",
    "test.to_csv('E:\\\\Downloads\\\\features_importances_2000.csv', index=False)"
   ]
  },
  {
   "cell_type": "code",
   "execution_count": 11,
   "metadata": {},
   "outputs": [
    {
     "name": "stdout",
     "output_type": "stream",
     "text": [
      "ROC AUC: 0.772443\n"
     ]
    }
   ],
   "source": [
    "from sklearn.metrics import roc_curve\n",
    "from sklearn.metrics import auc\n",
    "\n",
    "prob_pos = forest.predict_proba(X_test)[:, 1]\n",
    "fpr, tpr, _ = roc_curve(y_test, prob_pos)\n",
    "roc_auc = auc(fpr, tpr)\n",
    "print('ROC AUC: %0.6f' % (roc_auc))"
   ]
  },
  {
   "cell_type": "code",
   "execution_count": 12,
   "metadata": {
    "collapsed": true
   },
   "outputs": [],
   "source": [
    "test = pd.read_csv('E:\\\\Downloads\\\\test.csv')"
   ]
  },
  {
   "cell_type": "code",
   "execution_count": null,
   "metadata": {
    "collapsed": true
   },
   "outputs": [],
   "source": []
  }
 ],
 "metadata": {
  "kernelspec": {
   "display_name": "Python 3",
   "language": "python",
   "name": "python3"
  },
  "language_info": {
   "codemirror_mode": {
    "name": "ipython",
    "version": 3
   },
   "file_extension": ".py",
   "mimetype": "text/x-python",
   "name": "python",
   "nbconvert_exporter": "python",
   "pygments_lexer": "ipython3",
   "version": "3.6.3"
  }
 },
 "nbformat": 4,
 "nbformat_minor": 2
}
