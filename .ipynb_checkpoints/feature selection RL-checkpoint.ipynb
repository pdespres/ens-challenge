{
 "cells": [
  {
   "cell_type": "code",
   "execution_count": 1,
   "metadata": {},
   "outputs": [
    {
     "data": {
      "text/plain": [
       "(26500, 17986)"
      ]
     },
     "execution_count": 1,
     "metadata": {},
     "output_type": "execute_result"
    }
   ],
   "source": [
    "import pandas as pd\n",
    "import numpy as np\n",
    "\n",
    "#df = pd.read_csv('~/Downloads/train_redux2_QC_05_000001.csv')\n",
    "df = pd.read_csv('E:\\\\Downloads\\\\train_lowMaf.csv')\n",
    "df.apply(pd.to_numeric,downcast='unsigned')\n",
    "#y = pd.read_csv('~/Downloads/y2.csv', sep=';', usecols=[1])\n",
    "y = pd.read_csv('E:\\\\Downloads\\\\y.csv', sep=';', usecols=[1])\n",
    "y.apply(pd.to_numeric,downcast='unsigned')\n",
    "df.shape"
   ]
  },
  {
   "cell_type": "code",
   "execution_count": 2,
   "metadata": {
    "collapsed": true
   },
   "outputs": [],
   "source": [
    "from sklearn.feature_selection import SelectKBest\n",
    "from sklearn.feature_selection import chi2\n",
    "\n",
    "chi2_selector = SelectKBest(chi2, k=6695)\n",
    "df_kbest = chi2_selector.fit_transform(df, y)\n",
    "export = pd.DataFrame(df_kbest)\n",
    "export.to_csv('E:\\\\Downloads\\\\kbest_fromlowmaf.csv' , index=False)"
   ]
  },
  {
   "cell_type": "code",
   "execution_count": 4,
   "metadata": {},
   "outputs": [
    {
     "name": "stdout",
     "output_type": "stream",
     "text": [
      "Total features: 16004\n",
      "found logit P value: 16004\n"
     ]
    }
   ],
   "source": [
    "from sklearn.linear_model import LogisticRegression\n",
    "from scipy.stats import norm\n",
    "\n",
    "def logit_pvalue(model, x):\n",
    "    \"\"\" Calculate z-scores for scikit-learn LogisticRegression.\n",
    "    parameters:\n",
    "        model: fitted sklearn.linear_model.LogisticRegression with intercept and large C\n",
    "        x:     matrix on which the model was fit\n",
    "    This function uses asymtptics for maximum likelihood estimates.\n",
    "    \"\"\"\n",
    "    p = model.predict_proba(x)\n",
    "    n = len(p)\n",
    "    m = len(model.coef_[0]) + 1\n",
    "    coefs = np.concatenate([model.intercept_, model.coef_[0]])\n",
    "    x_full = np.matrix(np.insert(np.array(x), 0, 1, axis = 1))\n",
    "    ans = np.zeros((m, m))\n",
    "    for i in range(n):\n",
    "        ans = ans + np.dot(np.transpose(x_full[i, :]), x_full[i, :]) * p[i,1] * p[i, 0]\n",
    "    vcov = np.linalg.inv(np.matrix(ans))\n",
    "    se = np.sqrt(np.diag(vcov))\n",
    "    t =  coefs/se  \n",
    "    p = (1 - norm.cdf(abs(t))) * 2\n",
    "    return p\n",
    "\n",
    "Assoc = pd.DataFrame(columns={'SNP', 'assoc'})\n",
    "SNP = pd.DataFrame(columns={'SNP'})\n",
    "SNP['SNP'] = df.columns.values.ravel()\n",
    "highAssoc = []\n",
    "treshold = 0.05 / df.shape[1]\n",
    "\n",
    "for i in range(df.shape[1]):\n",
    "    model = LogisticRegression(C=1000000000)\n",
    "    x = df.iloc[:, i].values.reshape(-1,1)\n",
    "    model.fit(x, y.values.ravel())\n",
    "    test = logit_pvalue(model, x)[1]\n",
    "#    highAssoc.append(df.columns.values[i])\n",
    "    highAssoc.append(test)\n",
    "#    if test < treshold:\n",
    "#        highAssoc.append(df.columns.values[i])\n",
    "        #print(logit_pvalue(model, x)[1])\n",
    "        \n",
    "print(\"Total features: \" + str(df.shape[1]))\n",
    "print('found logit P value: ' + str(len(highAssoc)))\n",
    "Assoc['SNP'] = SNP\n",
    "Assoc['assoc'] = highAssoc\n",
    "Assoc.to_csv('E:\\\\Downloads\\\\FS_assoc.csv', index=False)"
   ]
  },
  {
   "cell_type": "code",
   "execution_count": 7,
   "metadata": {},
   "outputs": [
    {
     "data": {
      "text/plain": [
       "(9935, 2)"
      ]
     },
     "execution_count": 7,
     "metadata": {},
     "output_type": "execute_result"
    }
   ],
   "source": [
    "import pandas as pd\n",
    "import numpy as np\n",
    "\n",
    "Assoc = pd.read_csv('E:\\\\Downloads\\\\FS_assoc.csv')\n",
    "threshold = 0.0005 / 26482\n",
    "result = Assoc[Assoc.assoc > threshold]\n",
    "name = 'E:\\\\Downloads\\\\drop_FS_assoc_0005.csv'\n",
    "result.to_csv(name , index=False)\n",
    "result.shape"
   ]
  },
  {
   "cell_type": "code",
   "execution_count": null,
   "metadata": {
    "collapsed": true
   },
   "outputs": [],
   "source": []
  }
 ],
 "metadata": {
  "kernelspec": {
   "display_name": "Python 3",
   "language": "python",
   "name": "python3"
  },
  "language_info": {
   "codemirror_mode": {
    "name": "ipython",
    "version": 3
   },
   "file_extension": ".py",
   "mimetype": "text/x-python",
   "name": "python",
   "nbconvert_exporter": "python",
   "pygments_lexer": "ipython3",
   "version": "3.6.3"
  }
 },
 "nbformat": 4,
 "nbformat_minor": 2
}
