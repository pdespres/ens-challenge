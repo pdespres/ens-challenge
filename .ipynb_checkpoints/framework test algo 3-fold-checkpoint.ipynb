{
 "cells": [
  {
   "cell_type": "code",
   "execution_count": 40,
   "metadata": {
    "collapsed": true
   },
   "outputs": [],
   "source": [
    "import pandas as pd\n",
    "import numpy as np\n",
    "#joblib.dump\n",
    "df = pd.read_csv('~/Downloads/train_concat_95_00001.csv')\n",
    "y = pd.read_csv('~/Downloads/y.csv', sep=';', usecols=[1])"
   ]
  },
  {
   "cell_type": "code",
   "execution_count": 42,
   "metadata": {},
   "outputs": [
    {
     "name": "stdout",
     "output_type": "stream",
     "text": [
      "Mean ROC (AUC = 0.839)\n",
      "[0.83407061929885029, 0.83810300992329945, 0.84418570113167202]\n"
     ]
    }
   ],
   "source": [
    "from sklearn.ensemble import RandomForestClassifier\n",
    "from sklearn.linear_model import LogisticRegression\n",
    "from sklearn.svm import SVC\n",
    "from sklearn.metrics import roc_curve\n",
    "from sklearn.metrics import auc\n",
    "from sklearn.model_selection import StratifiedKFold\n",
    "from scipy import interp\n",
    "\n",
    "cv = StratifiedKFold(n_splits=3, random_state=42)\n",
    "#classifier = RandomForestClassifier(n_estimators=200, oob_score=True, n_jobs=-1, min_samples_split=2, min_samples_leaf=5, random_state=42)\n",
    "#classifier = LogisticRegression(random_state=42)\n",
    "classifier = SVC(kernel=\"linear\", random_state=42)\n",
    "#classifier = SVC(random_state=42)\n",
    "\n",
    "aucs = []\n",
    "tprs = []\n",
    "mean_fpr = np.linspace(0, 1, 100)\n",
    "\n",
    "for train_index, test_index in cv.split(df, y):\n",
    "    model = classifier.fit(df.iloc[train_index], y.iloc[train_index].values.ravel())\n",
    "    if hasattr(model, \"predict_proba\"):\n",
    "        probas_ = model.predict_proba(df.iloc[test_index])[:, 1]\n",
    "    else:  # use decision function\n",
    "        probas_ = model.decision_function(df.iloc[test_index])\n",
    "    fpr, tpr, thresholds = roc_curve(y.iloc[test_index], probas_)\n",
    "    tprs.append(interp(mean_fpr, fpr, tpr))\n",
    "    tprs[-1][0] = 0.0\n",
    "    roc_auc = auc(fpr, tpr)\n",
    "    aucs.append(roc_auc)\n",
    "\n",
    "mean_tpr = np.mean(tprs, axis=0)\n",
    "mean_tpr[-1] = 1.0\n",
    "mean_auc = auc(mean_fpr, mean_tpr)\n",
    "\n",
    "print('Mean ROC (AUC = %0.3f)' % (mean_auc))\n",
    "print(aucs)"
   ]
  },
  {
   "cell_type": "code",
   "execution_count": null,
   "metadata": {
    "collapsed": true
   },
   "outputs": [],
   "source": []
  }
 ],
 "metadata": {
  "kernelspec": {
   "display_name": "Python 3",
   "language": "python",
   "name": "python3"
  },
  "language_info": {
   "codemirror_mode": {
    "name": "ipython",
    "version": 3
   },
   "file_extension": ".py",
   "mimetype": "text/x-python",
   "name": "python",
   "nbconvert_exporter": "python",
   "pygments_lexer": "ipython3",
   "version": "3.6.3"
  }
 },
 "nbformat": 4,
 "nbformat_minor": 2
}
