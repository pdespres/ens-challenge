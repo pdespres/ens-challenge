{
 "cells": [
  {
   "cell_type": "code",
   "execution_count": null,
   "metadata": {
    "collapsed": true
   },
   "outputs": [],
   "source": [
    "#pplacer ici le test duplication rows + outliers. Only sur train!\n",
    "# => outliers.ipynb"
   ]
  },
  {
   "cell_type": "code",
   "execution_count": 1,
   "metadata": {},
   "outputs": [
    {
     "ename": "ModuleNotFoundError",
     "evalue": "No module named 'pandas'",
     "output_type": "error",
     "traceback": [
      "\u001b[1;31m---------------------------------------------------------------------------\u001b[0m",
      "\u001b[1;31mModuleNotFoundError\u001b[0m                       Traceback (most recent call last)",
      "\u001b[1;32m<ipython-input-1-dc8bf6db0d38>\u001b[0m in \u001b[0;36m<module>\u001b[1;34m()\u001b[0m\n\u001b[1;32m----> 1\u001b[1;33m \u001b[1;32mimport\u001b[0m \u001b[0mpandas\u001b[0m \u001b[1;32mas\u001b[0m \u001b[0mpd\u001b[0m\u001b[1;33m\u001b[0m\u001b[0m\n\u001b[0m\u001b[0;32m      2\u001b[0m \u001b[1;32mimport\u001b[0m \u001b[0mnumpy\u001b[0m \u001b[1;32mas\u001b[0m \u001b[0mnp\u001b[0m\u001b[1;33m\u001b[0m\u001b[0m\n\u001b[0;32m      3\u001b[0m \u001b[1;33m\u001b[0m\u001b[0m\n\u001b[0;32m      4\u001b[0m \u001b[1;31m#sur train.redux + test.redux!!!\u001b[0m\u001b[1;33m\u001b[0m\u001b[1;33m\u001b[0m\u001b[0m\n\u001b[0;32m      5\u001b[0m \u001b[1;31m#df = pd.read_csv('~/Downloads/train_concat_95_00001.csv')\u001b[0m\u001b[1;33m\u001b[0m\u001b[1;33m\u001b[0m\u001b[0m\n",
      "\u001b[1;31mModuleNotFoundError\u001b[0m: No module named 'pandas'"
     ]
    }
   ],
   "source": [
    "import pandas as pd\n",
    "import numpy as np\n",
    "\n",
    "#sur train.redux + test.redux!!!\n",
    "#df = pd.read_csv('~/Downloads/train_concat_95_00001.csv')\n",
    "#df = pd.read_csv('E:\\\\Downloads\\\\global_redux.csv')\n",
    "df = pd.read_csv('C:\\\\Users\\\\Downloads\\\\global_redux.csv')\n",
    "df.apply(pd.to_numeric,downcast='unsigned')\n",
    "#y = pd.read_csv('~/Downloads/y.csv', sep=';', usecols=[1])\n",
    "#y.apply(pd.to_numeric,downcast='unsigned')\n",
    "\n",
    "def Hardy_Weinberg_Equilibrium_exact_test(obs_hets, obs_hom1=0, obs_hom2=0):\n",
    "    #<param name=\"obs_hets\" type=\"eval\" value=\"\" label=\"Observed heterozygosity: \"/>\n",
    "    #<param name=\"obs_hom1\" type=\"eval\" value=\"\" label=\"Observed AA homozygosity: \"/>\n",
    "    #<param name=\"obs_hom2\" type=\"eval\" value=\"\" label=\"Observed aa homozygosity: \"/>\n",
    "        if obs_hom1 < 0 or obs_hom2 < 0 or obs_hets < 0:\n",
    "                raise Exception(\"FATAL ERROR - SNP-HWE: Current genotype configuration (%s  %s %s) includes negative count\" % (obs_hets, obs_hom1, obs_hom2))\n",
    "\n",
    "        obs_homc = obs_hom2 if obs_hom1 < obs_hom2 else obs_hom1\n",
    "        obs_homr = obs_hom1 if obs_hom1 < obs_hom2 else obs_hom2\n",
    "\n",
    "        rare_copies = 2 * obs_homr + obs_hets\n",
    "        genotypes   = obs_hets + obs_homc + obs_homr\n",
    "\n",
    "        het_probs = [0.0] * (rare_copies + 1)\n",
    "\n",
    "        #start at midpoint\n",
    "        mid = int(rare_copies * (2 * genotypes - rare_copies) / (2 * genotypes))\n",
    "\n",
    "        #check to ensure that midpoint and rare alleles have same parity\n",
    "        if (rare_copies & 1) ^ (mid & 1):\n",
    "                mid += 1\n",
    "\n",
    "        curr_hets = mid\n",
    "        curr_homr = (rare_copies - mid) / 2\n",
    "        curr_homc = genotypes - curr_hets - curr_homr\n",
    "\n",
    "        het_probs[mid] = 1.0\n",
    "        sum = float(het_probs[mid])\n",
    "\n",
    "        for curr_hets in range(mid, 1, -2):\n",
    "\n",
    "                het_probs[curr_hets - 2] = het_probs[curr_hets] * curr_hets * (curr_hets - 1.0) / (4.0 * (curr_homr + 1.0) * (curr_homc + 1.0))\n",
    "\n",
    "                sum += het_probs[curr_hets - 2];\n",
    "\n",
    "                # 2 fewer heterozygotes for next iteration -> add one rare, one common homozygote\n",
    "                curr_homr += 1\n",
    "                curr_homc += 1\n",
    "\n",
    "        curr_hets = mid\n",
    "        curr_homr = (rare_copies - mid) / 2\n",
    "        curr_homc = genotypes - curr_hets - curr_homr\n",
    "\n",
    "        for curr_hets in range(mid, rare_copies - 1, 2):\n",
    "\n",
    "                het_probs[curr_hets + 2] = het_probs[curr_hets] * 4.0 * curr_homr * curr_homc / ((curr_hets + 2.0) * (curr_hets + 1.0))\n",
    "\n",
    "                sum += het_probs[curr_hets + 2]\n",
    "\n",
    "                #add 2 heterozygotes for next iteration -> subtract one rare, one common homozygote\n",
    "                curr_homr -= 1\n",
    "                curr_homc -= 1\n",
    "\n",
    "        for i in range(0, rare_copies + 1):\n",
    "                het_probs[i] /= sum\n",
    "\n",
    "        #alternate p-value calculation for p_hi/p_lo\n",
    "        p_hi = float(het_probs[obs_hets])\n",
    "        for i in range(obs_hets, rare_copies+1):\n",
    "                p_hi += het_probs[i]\n",
    "\n",
    "        p_lo = float(het_probs[obs_hets])\n",
    "        for i in range(obs_hets-1, -1, -1):\n",
    "                p_lo += het_probs[i]\n",
    "\n",
    "        p_hi_lo = 2.0 * p_hi if p_hi < p_lo else 2.0 * p_lo\n",
    "\n",
    "        p_hwe = 0.0\n",
    "        #  p-value calculation for p_hwe\n",
    "        for i in range(0, rare_copies + 1):\n",
    "                if het_probs[i] > het_probs[obs_hets]:\n",
    "                        continue;\n",
    "                p_hwe += het_probs[i]\n",
    "\n",
    "        p_hwe = 1.0 if p_hwe > 1.0 else p_hwe\n",
    "\n",
    "        return p_hwe\n",
    "    \n",
    "def uni1():\n",
    "\tif int(10000 * Hardy_Weinberg_Equilibrium_exact_test(762, 269, 618)) != 1973:\n",
    "\t\treturn \"Failed to compute HWE of 762, 269, 618\"\n",
    "\n",
    "\treturn True"
   ]
  },
  {
   "cell_type": "code",
   "execution_count": 23,
   "metadata": {},
   "outputs": [
    {
     "name": "stdout",
     "output_type": "stream",
     "text": [
      "(26500, 6279)\n",
      "1463\n",
      "['SNP_182', 'SNP_557', 'SNP_681', 'SNP_2306', 'SNP_2451', 'SNP_3321', 'SNP_5274', 'SNP_5952', 'SNP_11709']\n"
     ]
    }
   ],
   "source": [
    "threshold = round(df.shape[0] * .95) \n",
    "lowMAF = []\n",
    "lowHWE = []\n",
    "common = 0\n",
    "\n",
    "for i in range(df.shape[1]):\n",
    "    total = df.iloc[:, i].value_counts()\n",
    "    bCommon = False\n",
    "    \n",
    "    #Hardy-Weinberg equilibrium (HWE) < 0.000001\n",
    "    if total.shape[0] > 2:\n",
    "        totmut = total[2]\n",
    "    else:\n",
    "        totmut = 0\n",
    "    hwe = float(Hardy_Weinberg_Equilibrium_exact_test(total[1], total[0], totmut))\n",
    "    if hwe < 0.000001:\n",
    "        bCommon = True\n",
    "        lowHWE.append(df.columns.values[i])\n",
    "        \n",
    "    #MAF => - 0.05% d'expression d'une mutation (2 a 5% conseille)\n",
    "    if total[0] > threshold:\n",
    "        if bCommon:\n",
    "            common += 1\n",
    "        lowMAF.append(df.columns.values[i])\n",
    "\n",
    "print('Total SNP: ' + str(df.shape[1]) + ' (' + str(common) + ' common)')\n",
    "print('Total lowHWE: ' + str(len(lowHWE)))\n",
    "print('Total lowMAF: ' + str(len(lowMAF)))"
   ]
  },
  {
   "cell_type": "code",
   "execution_count": null,
   "metadata": {
    "collapsed": true
   },
   "outputs": [],
   "source": [
    "# export all values without cnditions? \n",
    "\n",
    "export = pd.DataFrame(lowMAF)\n",
    "export.to_csv('E:\\\\Downloads\\\\QC_lowMAF_05.csv', index=False)\n",
    "export = pd.DataFrame(lowHWE)\n",
    "export.to_csv('E:\\\\Downloads\\\\QC_lowHWE_000001.csv', index=False)"
   ]
  }
 ],
 "metadata": {
  "kernelspec": {
   "display_name": "Python 3",
   "language": "python",
   "name": "python3"
  },
  "language_info": {
   "codemirror_mode": {
    "name": "ipython",
    "version": 3
   },
   "file_extension": ".py",
   "mimetype": "text/x-python",
   "name": "python",
   "nbconvert_exporter": "python",
   "pygments_lexer": "ipython3",
   "version": "3.6.3"
  }
 },
 "nbformat": 4,
 "nbformat_minor": 2
}
