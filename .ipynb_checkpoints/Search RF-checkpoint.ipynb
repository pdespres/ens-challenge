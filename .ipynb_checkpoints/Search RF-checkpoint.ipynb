{
 "cells": [
  {
   "cell_type": "code",
   "execution_count": 1,
   "metadata": {},
   "outputs": [
    {
     "name": "stdout",
     "output_type": "stream",
     "text": [
      "(26495, 1511) (26495, 1)\n"
     ]
    }
   ],
   "source": [
    "import pandas as pd\n",
    "import numpy as np\n",
    "from pathlib import Path\n",
    "\n",
    "#data_folder = Path('/sgoinfre/goinfre/Perso/pdespres/data/')\n",
    "data_folder = Path('E:/Downloads/')\n",
    "#data_folder = Path('C:/Users/Paul/Downloads/')\n",
    "\n",
    "df = pd.read_csv(data_folder/'train2_irf_00010.csv', \\\n",
    "                 dtype='int8')\n",
    "y = pd.read_csv(data_folder/'y2.csv', \\\n",
    "                sep=';', usecols=[1], dtype='int8')\n",
    "\n",
    "print(df.shape, y.shape)"
   ]
  },
  {
   "cell_type": "code",
   "execution_count": 15,
   "metadata": {
    "scrolled": false
   },
   "outputs": [
    {
     "name": "stdout",
     "output_type": "stream",
     "text": [
      "\n",
      "best:\n",
      "the AUC is : 0.7861\n",
      "{'criterion': 'entropy', 'min_samples_leaf': 3, 'n_estimators': 1941, 'random_state': 42}\n",
      "\n",
      "\n",
      "\n",
      "best:\n",
      "the AUC is : 0.7861\n",
      "{'criterion': 'entropy', 'min_samples_leaf': 1, 'n_estimators': 1878, 'random_state': 42}\n",
      "\n",
      "\n",
      "\n",
      "best:\n",
      "the AUC is : 0.7861\n",
      "{'criterion': 'entropy', 'min_samples_leaf': 1, 'n_estimators': 1989, 'random_state': 42}\n",
      "\n",
      "\n",
      "\n",
      "best:\n",
      "the AUC is : 0.7862\n",
      "{'criterion': 'entropy', 'min_samples_leaf': 4, 'n_estimators': 1550, 'random_state': 42}\n",
      "\n",
      "\n",
      "0.786131085048\n",
      "Wall time: 14h 5min 26s\n"
     ]
    }
   ],
   "source": [
    "%%time\n",
    "from sklearn.ensemble.forest import RandomForestClassifier# to import the random forest Model \n",
    "from sklearn.model_selection import StratifiedShuffleSplit, StratifiedKFold, cross_val_score\n",
    "from sklearn.metrics import roc_auc_score\n",
    "from hyperopt import fmin, tpe, hp, STATUS_OK, Trials\n",
    "from hyperopt import space_eval\n",
    "import warnings\n",
    "from sklearn.externals import joblib\n",
    "\n",
    "warnings.filterwarnings(\"ignore\", category=DeprecationWarning)\n",
    "warnings.filterwarnings(\"ignore\", category=PendingDeprecationWarning)\n",
    "\n",
    "def Performance(Model,Y,X):\n",
    "    AUC = roc_auc_score(Y, Model.predict_proba(X)[:,1])\n",
    "    aucs.append(AUC)\n",
    "    print ('the AUC is : %0.4f' %  AUC)\n",
    "    return AUC\n",
    "\n",
    "def auc_model(params):\n",
    "    clf = RandomForestClassifier(**params)\n",
    "    return cross_val_score(clf, train_x, train_y, scoring='roc_auc').mean()\n",
    "\n",
    "def last_model(params):\n",
    "    clf = RandomForestClassifier(**params)\n",
    "    clf.fit(s1_x, s1_y)\n",
    "    AUC = Performance(clf, valid_y, valid_x)\n",
    "    return clf, AUC\n",
    "\n",
    "param_space = {\n",
    "    'random_state': 42,\n",
    "    'n_estimators': hp.choice('n_estimators', range(1,2000)),\n",
    "    'criterion': hp.choice('criterion', [\"gini\", \"entropy\"]),\n",
    "    'min_samples_leaf': hp.choice('min_samples_leaf', range(1,100))\n",
    "}\n",
    "\n",
    "def f(params):\n",
    "    global best\n",
    "    global best_params\n",
    "    auc = auc_model(params)\n",
    "    if auc > best:\n",
    "        best = auc\n",
    "        best_params = params\n",
    "        #print ('new best:', best, params)\n",
    "    return {'loss': -auc, 'status': STATUS_OK}\n",
    "\n",
    "aucs = []\n",
    "\n",
    "s1 = StratifiedShuffleSplit(n_splits=1, test_size=0.20)\n",
    "for t1_index, val_index in s1.split(df, y):\n",
    "    s1_x, s1_y = pd.DataFrame(df.iloc[t1_index]), y.iloc[t1_index].values.ravel()\n",
    "    valid_x, valid_y = df.iloc[val_index], y.iloc[val_index].values.ravel()\n",
    " \n",
    "cv = StratifiedKFold(n_splits=4, shuffle=True)\n",
    "for train_index, test_index in cv.split(s1_x, s1_y):\n",
    "    train_x, train_y = pd.DataFrame(s1_x.iloc[train_index]), s1_y[train_index]\n",
    "    test_x, test_y = s1_x.iloc[test_index], s1_y[test_index]\n",
    "\n",
    "    trials = Trials()\n",
    "    best = 0\n",
    "    fmin(f, param_space, algo=tpe.suggest, max_evals=100, trials=trials)\n",
    "    print ('\\nbest:')\n",
    "    model, AUC = last_model(best_params)\n",
    "    print(best)\n",
    "    print(AUC)\n",
    "    output = 'RF_' + str(int(AUC * 10000)) + '.pkl'\n",
    "    joblib.dump(model, data_folder/output)     \n",
    "    #print(space_eval(param_space, best))\n",
    "    print(best_params)\n",
    "    print('\\n')\n",
    "print(np.mean(aucs))"
   ]
  },
  {
   "cell_type": "code",
   "execution_count": 16,
   "metadata": {},
   "outputs": [
    {
     "data": {
      "text/plain": [
       "{'bootstrap': True,\n",
       " 'class_weight': None,\n",
       " 'criterion': 'entropy',\n",
       " 'max_depth': None,\n",
       " 'max_features': 'auto',\n",
       " 'max_leaf_nodes': None,\n",
       " 'min_impurity_decrease': 0.0,\n",
       " 'min_impurity_split': None,\n",
       " 'min_samples_leaf': 4,\n",
       " 'min_samples_split': 2,\n",
       " 'min_weight_fraction_leaf': 0.0,\n",
       " 'n_estimators': 1550,\n",
       " 'n_jobs': 1,\n",
       " 'oob_score': False,\n",
       " 'random_state': 42,\n",
       " 'verbose': 0,\n",
       " 'warm_start': False}"
      ]
     },
     "execution_count": 16,
     "metadata": {},
     "output_type": "execute_result"
    }
   ],
   "source": [
    "#0.7773 ENS\n",
    "#0.7862 search 100\n",
    "classifier = joblib.load(data_folder/'RF_7862.pkl') \n",
    "t1 = pd.read_csv(data_folder/'irf_weight_00010.csv', names=['a','b'])\n",
    "test = pd.read_csv(data_folder/'test_redux.csv')\n",
    "t1.drop(['a'], axis=1, inplace=True)\n",
    "t1 = t1.drop(t1.index[:1])\n",
    "rfc_test = test.drop(t1['b'].tolist(), axis=1)\n",
    "probas_ = classifier.predict_proba(rfc_test)[:, 1]\n",
    "classifier.get_params()"
   ]
  },
  {
   "cell_type": "code",
   "execution_count": 17,
   "metadata": {
    "collapsed": true
   },
   "outputs": [],
   "source": [
    "submission = pd.DataFrame(columns={'Ids', 'TARGET'})\n",
    "submission['Ids'] = [i for i in range(26500,39750)]\n",
    "submission['TARGET'] = probas_\n",
    "submission = submission[['Ids', 'TARGET']]\n",
    "submission.to_csv(data_folder/'submission.csv', sep=';', index=False, header={'Ids', 'TARGET'})"
   ]
  },
  {
   "cell_type": "code",
   "execution_count": null,
   "metadata": {
    "collapsed": true
   },
   "outputs": [],
   "source": []
  }
 ],
 "metadata": {
  "kernelspec": {
   "display_name": "Python [default]",
   "language": "python",
   "name": "python3"
  },
  "language_info": {
   "codemirror_mode": {
    "name": "ipython",
    "version": 3
   },
   "file_extension": ".py",
   "mimetype": "text/x-python",
   "name": "python",
   "nbconvert_exporter": "python",
   "pygments_lexer": "ipython3",
   "version": "3.6.3"
  }
 },
 "nbformat": 4,
 "nbformat_minor": 2
}
