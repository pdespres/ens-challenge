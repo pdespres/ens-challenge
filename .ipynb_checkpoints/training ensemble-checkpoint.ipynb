{
 "cells": [
  {
   "cell_type": "code",
   "execution_count": 1,
   "metadata": {},
   "outputs": [
    {
     "name": "stdout",
     "output_type": "stream",
     "text": [
      "(13250, 18124) (26495, 1)\n"
     ]
    }
   ],
   "source": [
    "import pandas as pd\n",
    "import numpy as np\n",
    "from pathlib import Path\n",
    "\n",
    "#data_folder = Path('/sgoinfre/goinfre/Perso/pdespres/data/')\n",
    "data_folder = Path('E:/Downloads/')\n",
    "#data_folder = Path('/sgoinfre/goinfre/Perso/pdespres/data/')\n",
    "\n",
    "df = pd.read_csv(data_folder/'test_redux.csv', \\\n",
    "                 dtype='int8')\n",
    "y = pd.read_csv(data_folder/'y2.csv', \\\n",
    "                sep=';', usecols=[1], dtype='int8')\n",
    "\n",
    "print(df.shape, y.shape)"
   ]
  },
  {
   "cell_type": "code",
   "execution_count": 2,
   "metadata": {},
   "outputs": [
    {
     "data": {
      "text/plain": [
       "(13250, 54)"
      ]
     },
     "execution_count": 2,
     "metadata": {},
     "output_type": "execute_result"
    }
   ],
   "source": [
    "snp_list = ['SNP_6292', 'SNP_8285', 'SNP_10188', 'SNP_11870', 'SNP_12565', 'SNP_13326']\n",
    "\n",
    "def f(row):\n",
    "    val = 0\n",
    "    if row['SNP_8927'] == i and row[snp] == j:\n",
    "        val = 2\n",
    "    return val\n",
    "\n",
    "sup_df = df[snp_list].copy()\n",
    "sup_df['SNP_8927'] = df.SNP_8927\n",
    "for snp in snp_list:\n",
    "    for i in range (0,3):\n",
    "        for j in range (0,3):\n",
    "            sup_df['S8927-' + snp + '-' + (str(i) + str(j))] = sup_df.apply(f, axis=1)\n",
    "sup_df.drop(snp_list, axis=1, inplace=True)\n",
    "sup_df.drop('SNP_8927', axis=1, inplace=True)\n",
    "sup_df.shape"
   ]
  },
  {
   "cell_type": "code",
   "execution_count": 3,
   "metadata": {
    "scrolled": false
   },
   "outputs": [
    {
     "name": "stderr",
     "output_type": "stream",
     "text": [
      "Using TensorFlow backend.\n"
     ]
    }
   ],
   "source": [
    "from sklearn.model_selection import StratifiedKFold\n",
    "from sklearn.metrics import roc_auc_score, log_loss\n",
    "from sklearn.ensemble import RandomForestClassifier, VotingClassifier\n",
    "from sklearn.linear_model import LogisticRegression\n",
    "from sklearn.svm import SVC\n",
    "import xgboost as xgb\n",
    "from scipy.optimize import minimize\n",
    "from sklearn.externals import joblib\n",
    "from keras.models import load_model\n",
    "from itertools import chain\n",
    "\n",
    "# cv = StratifiedKFold(n_splits=3, shuffle=True, random_state=42)\n",
    "# for train_index, test_index in cv.split(df, y):\n",
    "#     train_x, train_y = df.iloc[train_index], y.iloc[train_index].values.ravel()\n",
    "#     test_x, test_y = df.iloc[test_index], y.iloc[test_index].values.ravel()\n",
    "    \n",
    "test_x = df\n",
    "\n",
    "predictions = []\n",
    "starting_values = []\n",
    "\n",
    "rfc = joblib.load(data_folder/'RF_7862.pkl')\n",
    "lrc = joblib.load(data_folder/'LR_sup_8389.pkl') \n",
    "svc = joblib.load(data_folder/'SVC_9925.pkl') \n",
    "xgb = joblib.load(data_folder/'XGB_sup_8638.pkl') \n",
    "mlp = load_model(data_folder/'MLP_8468.pkl') \n",
    "\n",
    "t1 = pd.read_csv(data_folder/'irf_weight_00010.csv', names=['a','b'])\n",
    "t1.drop(['a'], axis=1, inplace=True)\n",
    "t1 = t1.drop(t1.index[:1])\n",
    "rfc_test_x = test_x.drop(t1['b'].tolist(), axis=1)\n",
    "probas_ = rfc.predict_proba(rfc_test_x)[:, 1]\n",
    "predictions.append(probas_)\n",
    "# score = roc_auc_score(test_y, probas_)\n",
    "# starting_values.append(score)\n",
    "# print('RFC AUC {score}'.format(score=score))\n",
    "\n",
    "rfc_test_x = pd.concat([rfc_test_x, sup_df], axis=1)\n",
    "probas_ = lrc.predict_proba(rfc_test_x)[:, 1]\n",
    "predictions.append(probas_)\n",
    "# score = roc_auc_score(test_y, probas_)\n",
    "# starting_values.append(score)\n",
    "# print('LRC AUC {score}'.format(score=score))\n",
    "\n",
    "t1 = pd.read_csv(data_folder/'drop_corr90.csv', names=['a','b'])\n",
    "t1.drop(['b'], axis=1, inplace=True)\n",
    "t1 = t1.drop(t1.index[:1])\n",
    "svc_test_x = test_x.drop(t1['a'].tolist(), axis=1)\n",
    "probas_ = svc.predict_proba(svc_test_x)[:, 1]\n",
    "predictions.append(probas_)\n",
    "# score = roc_auc_score(test_y, probas_)\n",
    "# starting_values.append(score)\n",
    "# print('SVC AUC {score}'.format(score=score))\n",
    "\n",
    "t1 = pd.read_csv(data_folder/'drop_corr98.csv', names=['a','b'])\n",
    "t1.drop(['b'], axis=1, inplace=True)\n",
    "t1 = t1.drop(t1.index[:1])\n",
    "t2 = pd.read_csv(data_folder/'irf_weight_00000.csv', names=['a','b'])\n",
    "t2.drop(['a'], axis=1, inplace=True)\n",
    "t2.columns = ['a']\n",
    "t2 = t2.drop(t2.index[:1])\n",
    "concatenated = pd.concat([t1, t2], axis=0)\n",
    "concatenated.drop_duplicates('a')\n",
    "mlp_test = test_x.drop(concatenated['a'].tolist(), axis=1)\n",
    "probas_ = mlp.predict_proba(mlp_test)\n",
    "predictions.append(list(chain.from_iterable(probas_)))\n",
    "retest = probas_\n",
    "# score = roc_auc_score(test_y, probas_)\n",
    "# starting_values.append(score)\n",
    "# print('MLP AUC {score}'.format(score=score))\n",
    "\n",
    "test_x = pd.concat([test_x, sup_df], axis=1)\n",
    "probas_ = xgb.predict_proba(test_x)[:, 1]\n",
    "predictions.append(probas_)\n",
    "# score = roc_auc_score(test_y, probas_)\n",
    "# starting_values.append(score)\n",
    "# print('XGB AUC {score}'.format(score=score))"
   ]
  },
  {
   "cell_type": "code",
   "execution_count": 5,
   "metadata": {},
   "outputs": [
    {
     "data": {
      "text/plain": [
       "array([0.02304813, 0.03376106, 0.83567965, ..., 0.23033955, 0.0422533 ,\n",
       "       0.57712089])"
      ]
     },
     "execution_count": 5,
     "metadata": {},
     "output_type": "execute_result"
    }
   ],
   "source": [
    "from scipy.stats import mstats\n",
    "\n",
    "test = np.array(predictions)\n",
    "#probas_f = np.mean(test.T, axis=1)\n",
    "probas_f = mstats.gmean(test.T, axis=1)\n",
    "probas_f\n",
    "# score = roc_auc_score(test_y, test)\n",
    "# print(np.mean(starting_values))\n",
    "# print('Ensemble AUC {score}'.format(score=score) + '\\n')\n",
    "#array([0.11863515, 0.08671564, 0.86513838, ..., 0.31882419, 0.14731153, 0.60631298])"
   ]
  },
  {
   "cell_type": "code",
   "execution_count": 6,
   "metadata": {
    "collapsed": true
   },
   "outputs": [],
   "source": [
    "submission = pd.DataFrame(columns={'Ids', 'TARGET'})\n",
    "submission['Ids'] = [i for i in range(26500,39750)]\n",
    "submission['TARGET'] = probas_f\n",
    "submission = submission[['Ids', 'TARGET']]\n",
    "submission.to_csv(data_folder/'submission_gmean.csv', sep=';', index=False, header={'Ids', 'TARGET'})"
   ]
  },
  {
   "cell_type": "code",
   "execution_count": null,
   "metadata": {
    "collapsed": true
   },
   "outputs": [],
   "source": []
  }
 ],
 "metadata": {
  "kernelspec": {
   "display_name": "Python [conda env:tensorflow]",
   "language": "python",
   "name": "conda-env-tensorflow-py"
  },
  "language_info": {
   "codemirror_mode": {
    "name": "ipython",
    "version": 3
   },
   "file_extension": ".py",
   "mimetype": "text/x-python",
   "name": "python",
   "nbconvert_exporter": "python",
   "pygments_lexer": "ipython3",
   "version": "3.5.5"
  }
 },
 "nbformat": 4,
 "nbformat_minor": 2
}
