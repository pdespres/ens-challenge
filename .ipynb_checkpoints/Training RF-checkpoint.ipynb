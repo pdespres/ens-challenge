{
 "cells": [
  {
   "cell_type": "code",
   "execution_count": 1,
   "metadata": {},
   "outputs": [
    {
     "name": "stdout",
     "output_type": "stream",
     "text": [
      "(26495, 1511) (26495, 1)\n"
     ]
    }
   ],
   "source": [
    "import pandas as pd\n",
    "import numpy as np\n",
    "from pathlib import Path\n",
    "\n",
    "#data_folder = Path('/sgoinfre/goinfre/Perso/pdespres/data/')\n",
    "data_folder = Path('E:/Downloads/')\n",
    "#data_folder = Path('/sgoinfre/goinfre/Perso/pdespres/data/')\n",
    "\n",
    "df = pd.read_csv(data_folder/'train2_irf_00010.csv', \\\n",
    "                 dtype='int8')\n",
    "y = pd.read_csv(data_folder/'y2.csv', \\\n",
    "                sep=';', usecols=[1], dtype='int8')\n",
    "\n",
    "print(df.shape, y.shape)"
   ]
  },
  {
   "cell_type": "code",
   "execution_count": 2,
   "metadata": {},
   "outputs": [
    {
     "name": "stdout",
     "output_type": "stream",
     "text": [
      "param=1 Mean ROC (AUC = 0.770)\n",
      "[0.76841923873450035, 0.77217671610821914, 0.76999501286613814]\n"
     ]
    }
   ],
   "source": [
    "from sklearn.ensemble import RandomForestClassifier\n",
    "from sklearn.metrics import roc_curve\n",
    "from sklearn.metrics import auc\n",
    "from sklearn.model_selection import StratifiedKFold\n",
    "from scipy import interp\n",
    "\n",
    "\n",
    "#param_range = [0.001,0.01,0.1,1,10,100]\n",
    "#param_range = [0.001]\n",
    "param_range = [1]\n",
    "\n",
    "cv = StratifiedKFold(n_splits=3, shuffle=True, random_state=42)\n",
    "\n",
    "for i in param_range:\n",
    "    aucs = []\n",
    "    tprs = []\n",
    "    mean_fpr = np.linspace(0, 1, 100)\n",
    "\n",
    "    classifier = RandomForestClassifier(n_estimators=500, oob_score=False, n_jobs=-1, min_samples_split=2, min_samples_leaf=10, random_state=42)\n",
    "    \n",
    "    for train_index, test_index in cv.split(df, y):\n",
    "        model = classifier.fit(df.iloc[train_index], y.iloc[train_index].values.ravel())\n",
    "        if hasattr(model, \"predict_proba\"):\n",
    "            probas_ = model.predict_proba(df.iloc[test_index])[:, 1]\n",
    "        else:  # use decision function\n",
    "            probas_ = model.decision_function(df.iloc[test_index])\n",
    "        fpr, tpr, thresholds = roc_curve(y.iloc[test_index], probas_)\n",
    "        tprs.append(interp(mean_fpr, fpr, tpr))\n",
    "        tprs[-1][0] = 0.0\n",
    "        roc_auc = auc(fpr, tpr)\n",
    "        aucs.append(roc_auc)\n",
    "\n",
    "    mean_tpr = np.mean(tprs, axis=0)\n",
    "    mean_tpr[-1] = 1.0\n",
    "    mean_auc = auc(mean_fpr, mean_tpr)\n",
    "\n",
    "    print('param=%s Mean ROC (AUC = %0.3f)' % (str(i), mean_auc))\n",
    "    print(aucs)\n",
    "    "
   ]
  },
  {
   "cell_type": "code",
   "execution_count": 4,
   "metadata": {},
   "outputs": [
    {
     "data": {
      "text/plain": [
       "['E:\\\\Downloads\\\\RF.pkl']"
      ]
     },
     "execution_count": 4,
     "metadata": {},
     "output_type": "execute_result"
    }
   ],
   "source": [
    "from sklearn.externals import joblib\n",
    "\n",
    "classifier = RandomForestClassifier(n_estimators=500, oob_score=False, n_jobs=-1, min_samples_split=2, min_samples_leaf=10, random_state=42)\n",
    "classifier.fit(df, y.values.ravel())\n",
    "\n",
    "joblib.dump(classifier, data_folder/'RF.pkl') "
   ]
  },
  {
   "cell_type": "code",
   "execution_count": null,
   "metadata": {
    "collapsed": true
   },
   "outputs": [],
   "source": []
  }
 ],
 "metadata": {
  "kernelspec": {
   "display_name": "Python [default]",
   "language": "python",
   "name": "python3"
  },
  "language_info": {
   "codemirror_mode": {
    "name": "ipython",
    "version": 3
   },
   "file_extension": ".py",
   "mimetype": "text/x-python",
   "name": "python",
   "nbconvert_exporter": "python",
   "pygments_lexer": "ipython3",
   "version": "3.6.3"
  }
 },
 "nbformat": 4,
 "nbformat_minor": 2
}
