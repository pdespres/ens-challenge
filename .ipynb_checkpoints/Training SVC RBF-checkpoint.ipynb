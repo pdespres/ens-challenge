{
 "cells": [
  {
   "cell_type": "code",
   "execution_count": 3,
   "metadata": {},
   "outputs": [
    {
     "data": {
      "text/plain": [
       "(26500, 6279)"
      ]
     },
     "execution_count": 3,
     "metadata": {},
     "output_type": "execute_result"
    }
   ],
   "source": [
    "import pandas as pd\n",
    "import numpy as np\n",
    "\n",
    "#df = pd.read_csv('~/goinfre/data/train_concat2_90_00001.csv')\n",
    "#y = pd.read_csv('~/Downloads/y2.csv', sep=';', usecols=[1])\n",
    "df = pd.read_csv('E:\\\\Downloads\\\\train_concat_95_00001.csv')\n",
    "df.apply(pd.to_numeric,downcast='unsigned')\n",
    "y = pd.read_csv('E:\\\\Downloads\\\\y.csv', sep=';', usecols=[1])\n",
    "y.apply(pd.to_numeric,downcast='unsigned')\n",
    "\n",
    "df.shape"
   ]
  },
  {
   "cell_type": "code",
   "execution_count": 4,
   "metadata": {},
   "outputs": [
    {
     "name": "stdout",
     "output_type": "stream",
     "text": [
      "param=0.001 Mean ROC (AUC = 0.770)\n",
      "[0.7696712183388128, 0.77123264542977421, 0.76970681374181282]\n",
      "param=0.01 Mean ROC (AUC = 0.770)\n",
      "[0.77000830205410065, 0.77162555451509351, 0.77001530469474244]\n",
      "param=0.1 Mean ROC (AUC = 0.788)\n",
      "[0.78701414944062076, 0.78693431383430801, 0.7889752003497621]\n",
      "param=1 Mean ROC (AUC = 0.839)\n",
      "[0.83407061929885029, 0.83810300992329945, 0.84418570113167202]\n",
      "param=10 Mean ROC (AUC = 0.841)\n",
      "[0.83629094336290244, 0.84111418386165004, 0.84758587590847212]\n",
      "param=100 Mean ROC (AUC = 0.841)\n",
      "[0.83626822798425249, 0.8410113188040349, 0.847390307235103]\n"
     ]
    }
   ],
   "source": [
    "from sklearn.svm import SVC\n",
    "from sklearn.metrics import roc_curve\n",
    "from sklearn.metrics import auc\n",
    "from sklearn.model_selection import StratifiedKFold\n",
    "from scipy import interp\n",
    "\n",
    "param_range = [0.001,0.01,0.1,1,10,100]\n",
    "#param_range = [1]\n",
    "#gamma = 1/n\n",
    "cv = StratifiedKFold(n_splits=3, random_state=42)\n",
    "\n",
    "for i in param_range:\n",
    "    \n",
    "    classifier = SVC(C=i, random_state=42)\n",
    "\n",
    "    aucs = []\n",
    "    tprs = []\n",
    "    mean_fpr = np.linspace(0, 1, 100)\n",
    "\n",
    "    for train_index, test_index in cv.split(df, y):\n",
    "        model = classifier.fit(df.iloc[train_index], y.iloc[train_index].values.ravel())\n",
    "        if hasattr(model, \"predict_proba\"):\n",
    "            probas_ = model.predict_proba(df.iloc[test_index])[:, 1]\n",
    "        else:  # use decision function\n",
    "            probas_ = model.decision_function(df.iloc[test_index])\n",
    "        fpr, tpr, thresholds = roc_curve(y.iloc[test_index], probas_)\n",
    "        tprs.append(interp(mean_fpr, fpr, tpr))\n",
    "        tprs[-1][0] = 0.0\n",
    "        roc_auc = auc(fpr, tpr)\n",
    "        aucs.append(roc_auc)\n",
    "\n",
    "    mean_tpr = np.mean(tprs, axis=0)\n",
    "    mean_tpr[-1] = 1.0\n",
    "    mean_auc = auc(mean_fpr, mean_tpr)\n",
    "\n",
    "    print('param=%s Mean ROC (AUC = %0.3f)' % (str(i), mean_auc))\n",
    "    print(aucs)"
   ]
  },
  {
   "cell_type": "code",
   "execution_count": null,
   "metadata": {
    "collapsed": true
   },
   "outputs": [],
   "source": []
  }
 ],
 "metadata": {
  "kernelspec": {
   "display_name": "Python 3",
   "language": "python",
   "name": "python3"
  },
  "language_info": {
   "codemirror_mode": {
    "name": "ipython",
    "version": 3
   },
   "file_extension": ".py",
   "mimetype": "text/x-python",
   "name": "python",
   "nbconvert_exporter": "python",
   "pygments_lexer": "ipython3",
   "version": "3.6.3"
  }
 },
 "nbformat": 4,
 "nbformat_minor": 2
}
