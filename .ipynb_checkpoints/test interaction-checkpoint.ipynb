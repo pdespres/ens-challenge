{
 "cells": [
  {
   "cell_type": "code",
   "execution_count": 2,
   "metadata": {},
   "outputs": [
    {
     "name": "stdout",
     "output_type": "stream",
     "text": [
      "(26500, 1)\n"
     ]
    }
   ],
   "source": [
    "import pandas as pd\n",
    "import numpy as np\n",
    "\n",
    "#df = pd.read_csv('~/Downloads/train_correlated_95.csv')\n",
    "#y = pd.read_csv('~/Downloads/y.csv', sep=';', usecols=[1])\n",
    "df = pd.read_csv('E:\\\\Downloads\\\\train_correlated_95.csv')\n",
    "y = pd.read_csv('E:\\\\Downloads\\\\y.csv', sep=';', usecols=[1])\n",
    "print(y.shape)"
   ]
  },
  {
   "cell_type": "code",
   "execution_count": 3,
   "metadata": {
    "collapsed": true
   },
   "outputs": [],
   "source": [
    "# chopper a et b sur le meme dataset que le calcul d'interaction!!!\n",
    "a = df.columns[4064]\n",
    "b = df.columns[5408]\n",
    "#a = df.columns[1]\n",
    "#b = df.columns[2]\n",
    "\n",
    "test = pd.DataFrame({a: df[a], b: df[b]})\n",
    "test['y'] = y"
   ]
  },
  {
   "cell_type": "code",
   "execution_count": 57,
   "metadata": {},
   "outputs": [
    {
     "name": "stdout",
     "output_type": "stream",
     "text": [
      "            SNP_13326 0  SNP_13326 1  SNP_13326 2  cumul\n",
      "SNP_8927 0         8365          710           64   9139\n",
      "SNP_8927 1        10869          936          101  11906\n",
      "SNP_8927 2         4951          468           36   5455\n",
      "cumul             24185         2114          201      0\n",
      "            SNP_13326 0  SNP_13326 1  SNP_13326 2  cumul\n",
      "SNP_8927 0         4106          478           61   4645\n",
      "SNP_8927 1         4147          598           96   4841\n",
      "SNP_8927 2         1769          277           33   2079\n",
      "cumul             10022         1353          190      0\n",
      "            SNP_13326 0  SNP_13326 1  SNP_13326 2  cumul\n",
      "SNP_8927 0         49.0         67.0         95.0   51.0\n",
      "SNP_8927 1         38.0         64.0         95.0   41.0\n",
      "SNP_8927 2         36.0         59.0         92.0   38.0\n",
      "cumul              41.0         64.0         95.0    NaN\n",
      "44.0\n"
     ]
    }
   ],
   "source": [
    "prop = pd.DataFrame(index=[a + ' 0', a + ' 1', a + ' 2', 'cumul'], columns=[b + ' 0', b + ' 1', b + ' 2', 'cumul'])\n",
    "prop = prop.fillna(0)\n",
    "result = pd.DataFrame(index=[a + ' 0', a + ' 1', a + ' 2', 'cumul'], columns=[b + ' 0', b + ' 1', b + ' 2', 'cumul'])\n",
    "result = result.fillna(0)\n",
    "tot = 0\n",
    "for i in range(len(test)):\n",
    "    prop.iloc[test.iloc[i,0],test.iloc[i,1]] += 1\n",
    "    prop.iloc[test.iloc[i,0],3] += 1\n",
    "    prop.iloc[3,test.iloc[i,1]] += 1\n",
    "    if test.iloc[i,2] == 1:\n",
    "        tot += 1\n",
    "        result.iloc[test.iloc[i,0],test.iloc[i,1]] += 1\n",
    "        result.iloc[test.iloc[i,0],3] += 1\n",
    "        result.iloc[3,test.iloc[i,1]] += 1\n",
    "#result = result / y.shape[0]\n",
    "result = result\n",
    "#result['cumul'] = result[0] + result[1] + result[2]\n",
    "prop = prop\n",
    "#prop = round(prop / tot, 3)\n",
    "print(prop)\n",
    "print(result)\n",
    "result = round(result / prop * 100, 0)\n",
    "print(result)\n",
    "print(round(tot/y.shape[0]*100,0))"
   ]
  },
  {
   "cell_type": "code",
   "execution_count": null,
   "metadata": {
    "collapsed": true
   },
   "outputs": [],
   "source": []
  }
 ],
 "metadata": {
  "kernelspec": {
   "display_name": "Python 3",
   "language": "python",
   "name": "python3"
  },
  "language_info": {
   "codemirror_mode": {
    "name": "ipython",
    "version": 3
   },
   "file_extension": ".py",
   "mimetype": "text/x-python",
   "name": "python",
   "nbconvert_exporter": "python",
   "pygments_lexer": "ipython3",
   "version": "3.6.3"
  }
 },
 "nbformat": 4,
 "nbformat_minor": 2
}
